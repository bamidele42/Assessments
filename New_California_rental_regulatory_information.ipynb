{
 "cells": [
  {
   "cell_type": "markdown",
   "id": "157edd64",
   "metadata": {},
   "source": [
    "# Data cleaning, Manipulation & Concatenation"
   ]
  },
  {
   "cell_type": "markdown",
   "id": "fc86f4f3",
   "metadata": {},
   "source": [
    "## Import pandas Library"
   ]
  },
  {
   "cell_type": "code",
   "execution_count": 457,
   "id": "2e8aacfd",
   "metadata": {},
   "outputs": [],
   "source": [
    "import pandas as pd\n"
   ]
  },
  {
   "cell_type": "code",
   "execution_count": 464,
   "id": "ce99d392",
   "metadata": {},
   "outputs": [],
   "source": [
    "pd.set_option('display.max_colwidth', 1000)"
   ]
  },
  {
   "cell_type": "markdown",
   "id": "faed84cc",
   "metadata": {},
   "source": [
    "### Importing Json files"
   ]
  },
  {
   "cell_type": "code",
   "execution_count": 465,
   "id": "34e4223b",
   "metadata": {},
   "outputs": [],
   "source": [
    "df1= pd.read_json(\"data_1.json.\", orient=\"index\").T"
   ]
  },
  {
   "cell_type": "code",
   "execution_count": 466,
   "id": "b3dc720c",
   "metadata": {},
   "outputs": [],
   "source": [
    "df1[\"dept_address\"] = df1.dept_details[0][0:48]"
   ]
  },
  {
   "cell_type": "code",
   "execution_count": 467,
   "id": "7e3e2fd0",
   "metadata": {},
   "outputs": [],
   "source": [
    "df1[\"dept_phone\"] = df1.dept_details[0][56:68]"
   ]
  },
  {
   "cell_type": "code",
   "execution_count": 468,
   "id": "a49711f8",
   "metadata": {},
   "outputs": [],
   "source": [
    "df1[\"dept_email\"] = df1.dept_details[0][76:101]"
   ]
  },
  {
   "cell_type": "code",
   "execution_count": 469,
   "id": "5ffe8a27",
   "metadata": {},
   "outputs": [],
   "source": [
    "df1.insert(loc = 0,column=\"county/city\", value= \"Alameda\")"
   ]
  },
  {
   "cell_type": "code",
   "execution_count": 470,
   "id": "30d90945",
   "metadata": {},
   "outputs": [],
   "source": [
    "df1.drop(columns=\"dept_details\", inplace=True)"
   ]
  },
  {
   "cell_type": "code",
   "execution_count": 471,
   "id": "26c3f788",
   "metadata": {},
   "outputs": [
    {
     "data": {
      "text/html": [
       "<div>\n",
       "<style scoped>\n",
       "    .dataframe tbody tr th:only-of-type {\n",
       "        vertical-align: middle;\n",
       "    }\n",
       "\n",
       "    .dataframe tbody tr th {\n",
       "        vertical-align: top;\n",
       "    }\n",
       "\n",
       "    .dataframe thead th {\n",
       "        text-align: right;\n",
       "    }\n",
       "</style>\n",
       "<table border=\"1\" class=\"dataframe\">\n",
       "  <thead>\n",
       "    <tr style=\"text-align: right;\">\n",
       "      <th></th>\n",
       "      <th>county/city</th>\n",
       "      <th>dept_name</th>\n",
       "      <th>dept_address</th>\n",
       "      <th>dept_phone</th>\n",
       "      <th>dept_email</th>\n",
       "    </tr>\n",
       "  </thead>\n",
       "  <tbody>\n",
       "    <tr>\n",
       "      <th>0</th>\n",
       "      <td>Alameda</td>\n",
       "      <td>City of Alameda Rent Program</td>\n",
       "      <td>950 W. Mall Square, Room 172, Alameda, CA, 94501</td>\n",
       "      <td>510-747-7520</td>\n",
       "      <td>rentprogram@alamedaca.gov</td>\n",
       "    </tr>\n",
       "  </tbody>\n",
       "</table>\n",
       "</div>"
      ],
      "text/plain": [
       "  county/city                     dept_name  \\\n",
       "0     Alameda  City of Alameda Rent Program   \n",
       "\n",
       "                                       dept_address    dept_phone  \\\n",
       "0  950 W. Mall Square, Room 172, Alameda, CA, 94501  510-747-7520   \n",
       "\n",
       "                  dept_email  \n",
       "0  rentprogram@alamedaca.gov  "
      ]
     },
     "execution_count": 471,
     "metadata": {},
     "output_type": "execute_result"
    }
   ],
   "source": [
    "df1"
   ]
  },
  {
   "cell_type": "code",
   "execution_count": 472,
   "id": "fe9ecf67",
   "metadata": {},
   "outputs": [],
   "source": [
    "df2 = pd.read_json(\"data_2.json.\", orient=\"index\").T"
   ]
  },
  {
   "cell_type": "code",
   "execution_count": 473,
   "id": "048d13d1",
   "metadata": {},
   "outputs": [],
   "source": [
    "df2[\"contact_person\"] = df2.contact_person[0][0][\"name\"] + \" \"+ df2.contact_person[0][1][\"name\"] +\" \"+ df2.contact_person[0][2][\"name\"]"
   ]
  },
  {
   "cell_type": "code",
   "execution_count": 474,
   "id": "2ae1073b",
   "metadata": {},
   "outputs": [],
   "source": [
    "df2.drop(columns= [\"dept_phone_url\"], inplace=True)"
   ]
  },
  {
   "cell_type": "code",
   "execution_count": 475,
   "id": "c74376d1",
   "metadata": {},
   "outputs": [],
   "source": [
    "df2.insert(loc = 0,column=\"county/city\", value= \"Alpine\")"
   ]
  },
  {
   "cell_type": "code",
   "execution_count": 476,
   "id": "46c6f657",
   "metadata": {},
   "outputs": [
    {
     "data": {
      "text/html": [
       "<div>\n",
       "<style scoped>\n",
       "    .dataframe tbody tr th:only-of-type {\n",
       "        vertical-align: middle;\n",
       "    }\n",
       "\n",
       "    .dataframe tbody tr th {\n",
       "        vertical-align: top;\n",
       "    }\n",
       "\n",
       "    .dataframe thead th {\n",
       "        text-align: right;\n",
       "    }\n",
       "</style>\n",
       "<table border=\"1\" class=\"dataframe\">\n",
       "  <thead>\n",
       "    <tr style=\"text-align: right;\">\n",
       "      <th></th>\n",
       "      <th>county/city</th>\n",
       "      <th>dept_name</th>\n",
       "      <th>dept_address</th>\n",
       "      <th>dept_phone</th>\n",
       "      <th>contact_person</th>\n",
       "    </tr>\n",
       "  </thead>\n",
       "  <tbody>\n",
       "    <tr>\n",
       "      <th>0</th>\n",
       "      <td>Alpine</td>\n",
       "      <td>Planning Division</td>\n",
       "      <td>Physical Address\\n50 Diamond Valley Rd\\nMarkleeville, CA 96120</td>\n",
       "      <td>530-694-2140</td>\n",
       "      <td>Planner II Email Sarah Traiman Phone: 530-694-2140 Ext 437</td>\n",
       "    </tr>\n",
       "  </tbody>\n",
       "</table>\n",
       "</div>"
      ],
      "text/plain": [
       "  county/city          dept_name  \\\n",
       "0      Alpine  Planning Division   \n",
       "\n",
       "                                                     dept_address  \\\n",
       "0  Physical Address\\n50 Diamond Valley Rd\\nMarkleeville, CA 96120   \n",
       "\n",
       "     dept_phone                                              contact_person  \n",
       "0  530-694-2140  Planner II Email Sarah Traiman Phone: 530-694-2140 Ext 437  "
      ]
     },
     "execution_count": 476,
     "metadata": {},
     "output_type": "execute_result"
    }
   ],
   "source": [
    "df2"
   ]
  },
  {
   "cell_type": "code",
   "execution_count": 477,
   "id": "e64e95c6",
   "metadata": {},
   "outputs": [],
   "source": [
    "df3= pd.read_json(\"data_3.json.\", orient=\"index\").T"
   ]
  },
  {
   "cell_type": "code",
   "execution_count": 478,
   "id": "bbdd974a",
   "metadata": {},
   "outputs": [],
   "source": [
    "df3.drop(columns=\"dept_email\", inplace=True)"
   ]
  },
  {
   "cell_type": "code",
   "execution_count": 479,
   "id": "f2d3e6f3",
   "metadata": {},
   "outputs": [],
   "source": [
    "df3.rename(columns={\"dept_email_url\":\"dept_email\"}, inplace=True)"
   ]
  },
  {
   "cell_type": "code",
   "execution_count": 480,
   "id": "8b94cd73",
   "metadata": {},
   "outputs": [],
   "source": [
    "df3.insert(loc = 0,column=\"county/city\", value= \"Amador\")"
   ]
  },
  {
   "cell_type": "code",
   "execution_count": 481,
   "id": "6d57fcc6",
   "metadata": {},
   "outputs": [
    {
     "data": {
      "text/html": [
       "<div>\n",
       "<style scoped>\n",
       "    .dataframe tbody tr th:only-of-type {\n",
       "        vertical-align: middle;\n",
       "    }\n",
       "\n",
       "    .dataframe tbody tr th {\n",
       "        vertical-align: top;\n",
       "    }\n",
       "\n",
       "    .dataframe thead th {\n",
       "        text-align: right;\n",
       "    }\n",
       "</style>\n",
       "<table border=\"1\" class=\"dataframe\">\n",
       "  <thead>\n",
       "    <tr style=\"text-align: right;\">\n",
       "      <th></th>\n",
       "      <th>county/city</th>\n",
       "      <th>dept_name</th>\n",
       "      <th>dept_address</th>\n",
       "      <th>dept_phone</th>\n",
       "      <th>dept_email</th>\n",
       "    </tr>\n",
       "  </thead>\n",
       "  <tbody>\n",
       "    <tr>\n",
       "      <th>0</th>\n",
       "      <td>Amador</td>\n",
       "      <td>Treasurer / Tax Collector</td>\n",
       "      <td>810 Court Street. Jackson, CA 95642</td>\n",
       "      <td>(209) 223-6364</td>\n",
       "      <td>mailto:TaxCollector@amadorgov.org</td>\n",
       "    </tr>\n",
       "  </tbody>\n",
       "</table>\n",
       "</div>"
      ],
      "text/plain": [
       "  county/city                  dept_name                         dept_address  \\\n",
       "0      Amador  Treasurer / Tax Collector  810 Court Street. Jackson, CA 95642   \n",
       "\n",
       "       dept_phone                         dept_email  \n",
       "0  (209) 223-6364  mailto:TaxCollector@amadorgov.org  "
      ]
     },
     "execution_count": 481,
     "metadata": {},
     "output_type": "execute_result"
    }
   ],
   "source": [
    "df3"
   ]
  },
  {
   "cell_type": "code",
   "execution_count": 482,
   "id": "270adc48",
   "metadata": {},
   "outputs": [],
   "source": [
    "df4= pd.read_json(\"data_4.json.\", orient=\"index\").T"
   ]
  },
  {
   "cell_type": "code",
   "execution_count": 483,
   "id": "f08322c6",
   "metadata": {},
   "outputs": [
    {
     "data": {
      "text/html": [
       "<div>\n",
       "<style scoped>\n",
       "    .dataframe tbody tr th:only-of-type {\n",
       "        vertical-align: middle;\n",
       "    }\n",
       "\n",
       "    .dataframe tbody tr th {\n",
       "        vertical-align: top;\n",
       "    }\n",
       "\n",
       "    .dataframe thead th {\n",
       "        text-align: right;\n",
       "    }\n",
       "</style>\n",
       "<table border=\"1\" class=\"dataframe\">\n",
       "  <thead>\n",
       "    <tr style=\"text-align: right;\">\n",
       "      <th></th>\n",
       "      <th>dept_name</th>\n",
       "      <th>dept_address</th>\n",
       "      <th>dept_phone</th>\n",
       "      <th>dept_phone_url</th>\n",
       "      <th>dept_email</th>\n",
       "      <th>dept_email_url</th>\n",
       "    </tr>\n",
       "  </thead>\n",
       "  <tbody>\n",
       "    <tr>\n",
       "      <th>0</th>\n",
       "      <td>Planning</td>\n",
       "      <td>25 County Center Drive\\nOroville, CA 95965</td>\n",
       "      <td>530-552-3701</td>\n",
       "      <td>tel:5305523701</td>\n",
       "      <td>Email Planning Division</td>\n",
       "      <td>mailto:dsplanning@buttecounty.net</td>\n",
       "    </tr>\n",
       "  </tbody>\n",
       "</table>\n",
       "</div>"
      ],
      "text/plain": [
       "  dept_name                                dept_address    dept_phone  \\\n",
       "0  Planning  25 County Center Drive\\nOroville, CA 95965  530-552-3701   \n",
       "\n",
       "   dept_phone_url               dept_email                     dept_email_url  \n",
       "0  tel:5305523701  Email Planning Division  mailto:dsplanning@buttecounty.net  "
      ]
     },
     "execution_count": 483,
     "metadata": {},
     "output_type": "execute_result"
    }
   ],
   "source": [
    "df4"
   ]
  },
  {
   "cell_type": "code",
   "execution_count": 484,
   "id": "bd176743",
   "metadata": {},
   "outputs": [],
   "source": [
    "df4.drop(columns=[\"dept_email\", \"dept_phone_url\", \"dept_email\"], inplace=True)"
   ]
  },
  {
   "cell_type": "code",
   "execution_count": 485,
   "id": "1965110c",
   "metadata": {},
   "outputs": [],
   "source": [
    "df4.rename(columns={\"dept_email_url\":\"dept_email\"}, inplace=True)"
   ]
  },
  {
   "cell_type": "code",
   "execution_count": 486,
   "id": "1edb7526",
   "metadata": {},
   "outputs": [
    {
     "data": {
      "text/html": [
       "<div>\n",
       "<style scoped>\n",
       "    .dataframe tbody tr th:only-of-type {\n",
       "        vertical-align: middle;\n",
       "    }\n",
       "\n",
       "    .dataframe tbody tr th {\n",
       "        vertical-align: top;\n",
       "    }\n",
       "\n",
       "    .dataframe thead th {\n",
       "        text-align: right;\n",
       "    }\n",
       "</style>\n",
       "<table border=\"1\" class=\"dataframe\">\n",
       "  <thead>\n",
       "    <tr style=\"text-align: right;\">\n",
       "      <th></th>\n",
       "      <th>dept_name</th>\n",
       "      <th>dept_address</th>\n",
       "      <th>dept_phone</th>\n",
       "      <th>dept_email</th>\n",
       "    </tr>\n",
       "  </thead>\n",
       "  <tbody>\n",
       "    <tr>\n",
       "      <th>0</th>\n",
       "      <td>Planning</td>\n",
       "      <td>25 County Center Drive\\nOroville, CA 95965</td>\n",
       "      <td>530-552-3701</td>\n",
       "      <td>mailto:dsplanning@buttecounty.net</td>\n",
       "    </tr>\n",
       "  </tbody>\n",
       "</table>\n",
       "</div>"
      ],
      "text/plain": [
       "  dept_name                                dept_address    dept_phone  \\\n",
       "0  Planning  25 County Center Drive\\nOroville, CA 95965  530-552-3701   \n",
       "\n",
       "                          dept_email  \n",
       "0  mailto:dsplanning@buttecounty.net  "
      ]
     },
     "execution_count": 486,
     "metadata": {},
     "output_type": "execute_result"
    }
   ],
   "source": [
    "df4"
   ]
  },
  {
   "cell_type": "code",
   "execution_count": 487,
   "id": "5e8ebf77",
   "metadata": {},
   "outputs": [],
   "source": [
    "df4.insert(loc = 0,column=\"county/city\", value= \"Butte\")"
   ]
  },
  {
   "cell_type": "code",
   "execution_count": 488,
   "id": "363b67e8",
   "metadata": {},
   "outputs": [
    {
     "data": {
      "text/html": [
       "<div>\n",
       "<style scoped>\n",
       "    .dataframe tbody tr th:only-of-type {\n",
       "        vertical-align: middle;\n",
       "    }\n",
       "\n",
       "    .dataframe tbody tr th {\n",
       "        vertical-align: top;\n",
       "    }\n",
       "\n",
       "    .dataframe thead th {\n",
       "        text-align: right;\n",
       "    }\n",
       "</style>\n",
       "<table border=\"1\" class=\"dataframe\">\n",
       "  <thead>\n",
       "    <tr style=\"text-align: right;\">\n",
       "      <th></th>\n",
       "      <th>county/city</th>\n",
       "      <th>dept_name</th>\n",
       "      <th>dept_address</th>\n",
       "      <th>dept_phone</th>\n",
       "      <th>dept_email</th>\n",
       "    </tr>\n",
       "  </thead>\n",
       "  <tbody>\n",
       "    <tr>\n",
       "      <th>0</th>\n",
       "      <td>Butte</td>\n",
       "      <td>Planning</td>\n",
       "      <td>25 County Center Drive\\nOroville, CA 95965</td>\n",
       "      <td>530-552-3701</td>\n",
       "      <td>mailto:dsplanning@buttecounty.net</td>\n",
       "    </tr>\n",
       "  </tbody>\n",
       "</table>\n",
       "</div>"
      ],
      "text/plain": [
       "  county/city dept_name                                dept_address  \\\n",
       "0       Butte  Planning  25 County Center Drive\\nOroville, CA 95965   \n",
       "\n",
       "     dept_phone                         dept_email  \n",
       "0  530-552-3701  mailto:dsplanning@buttecounty.net  "
      ]
     },
     "execution_count": 488,
     "metadata": {},
     "output_type": "execute_result"
    }
   ],
   "source": [
    "df4"
   ]
  },
  {
   "cell_type": "code",
   "execution_count": 489,
   "id": "9e54378f",
   "metadata": {},
   "outputs": [],
   "source": [
    "df5= pd.read_json(\"data_5.json.\", orient=\"index\").T"
   ]
  },
  {
   "cell_type": "code",
   "execution_count": 490,
   "id": "ee6a19b6",
   "metadata": {},
   "outputs": [
    {
     "data": {
      "text/html": [
       "<div>\n",
       "<style scoped>\n",
       "    .dataframe tbody tr th:only-of-type {\n",
       "        vertical-align: middle;\n",
       "    }\n",
       "\n",
       "    .dataframe tbody tr th {\n",
       "        vertical-align: top;\n",
       "    }\n",
       "\n",
       "    .dataframe thead th {\n",
       "        text-align: right;\n",
       "    }\n",
       "</style>\n",
       "<table border=\"1\" class=\"dataframe\">\n",
       "  <thead>\n",
       "    <tr style=\"text-align: right;\">\n",
       "      <th></th>\n",
       "      <th>dept_name</th>\n",
       "      <th>dept_address</th>\n",
       "      <th>dept_phone</th>\n",
       "      <th>dept_phone_url</th>\n",
       "      <th>contact_person</th>\n",
       "      <th>contact_person_url</th>\n",
       "    </tr>\n",
       "  </thead>\n",
       "  <tbody>\n",
       "    <tr>\n",
       "      <th>0</th>\n",
       "      <td>Housing Assistance Programs</td>\n",
       "      <td>Physical Address\\n251 E. Webster Street\\nColusa, CA 95932</td>\n",
       "      <td>(530) 458-0250</td>\n",
       "      <td>tel:5304580250</td>\n",
       "      <td>Email</td>\n",
       "      <td>mailto:amilcar.avendano@countyofcolusa.com</td>\n",
       "    </tr>\n",
       "  </tbody>\n",
       "</table>\n",
       "</div>"
      ],
      "text/plain": [
       "                     dept_name  \\\n",
       "0  Housing Assistance Programs   \n",
       "\n",
       "                                                dept_address      dept_phone  \\\n",
       "0  Physical Address\\n251 E. Webster Street\\nColusa, CA 95932  (530) 458-0250   \n",
       "\n",
       "   dept_phone_url contact_person                          contact_person_url  \n",
       "0  tel:5304580250          Email  mailto:amilcar.avendano@countyofcolusa.com  "
      ]
     },
     "execution_count": 490,
     "metadata": {},
     "output_type": "execute_result"
    }
   ],
   "source": [
    "df5"
   ]
  },
  {
   "cell_type": "code",
   "execution_count": 491,
   "id": "cc60fdee",
   "metadata": {},
   "outputs": [],
   "source": [
    "df5.drop(columns=[\"dept_phone_url\", \"contact_person\"], inplace=True)"
   ]
  },
  {
   "cell_type": "code",
   "execution_count": 492,
   "id": "e32eb96c",
   "metadata": {},
   "outputs": [],
   "source": [
    "df5.rename(columns={\"contact_person_url\":\"dept_email\"}, inplace=True)"
   ]
  },
  {
   "cell_type": "code",
   "execution_count": 493,
   "id": "8f830cc5",
   "metadata": {},
   "outputs": [],
   "source": [
    "df5.insert(loc = 0,column=\"county/city\", value= \"Colusa\")"
   ]
  },
  {
   "cell_type": "code",
   "execution_count": 494,
   "id": "42a50157",
   "metadata": {},
   "outputs": [
    {
     "data": {
      "text/html": [
       "<div>\n",
       "<style scoped>\n",
       "    .dataframe tbody tr th:only-of-type {\n",
       "        vertical-align: middle;\n",
       "    }\n",
       "\n",
       "    .dataframe tbody tr th {\n",
       "        vertical-align: top;\n",
       "    }\n",
       "\n",
       "    .dataframe thead th {\n",
       "        text-align: right;\n",
       "    }\n",
       "</style>\n",
       "<table border=\"1\" class=\"dataframe\">\n",
       "  <thead>\n",
       "    <tr style=\"text-align: right;\">\n",
       "      <th></th>\n",
       "      <th>county/city</th>\n",
       "      <th>dept_name</th>\n",
       "      <th>dept_address</th>\n",
       "      <th>dept_phone</th>\n",
       "      <th>dept_email</th>\n",
       "    </tr>\n",
       "  </thead>\n",
       "  <tbody>\n",
       "    <tr>\n",
       "      <th>0</th>\n",
       "      <td>Colusa</td>\n",
       "      <td>Housing Assistance Programs</td>\n",
       "      <td>Physical Address\\n251 E. Webster Street\\nColusa, CA 95932</td>\n",
       "      <td>(530) 458-0250</td>\n",
       "      <td>mailto:amilcar.avendano@countyofcolusa.com</td>\n",
       "    </tr>\n",
       "  </tbody>\n",
       "</table>\n",
       "</div>"
      ],
      "text/plain": [
       "  county/city                    dept_name  \\\n",
       "0      Colusa  Housing Assistance Programs   \n",
       "\n",
       "                                                dept_address      dept_phone  \\\n",
       "0  Physical Address\\n251 E. Webster Street\\nColusa, CA 95932  (530) 458-0250   \n",
       "\n",
       "                                   dept_email  \n",
       "0  mailto:amilcar.avendano@countyofcolusa.com  "
      ]
     },
     "execution_count": 494,
     "metadata": {},
     "output_type": "execute_result"
    }
   ],
   "source": [
    "df5"
   ]
  },
  {
   "cell_type": "code",
   "execution_count": 495,
   "id": "721d7b34",
   "metadata": {},
   "outputs": [],
   "source": [
    "df6= pd.read_json(\"data_6.json.\", orient=\"index\").T"
   ]
  },
  {
   "cell_type": "code",
   "execution_count": 496,
   "id": "e7becab2",
   "metadata": {},
   "outputs": [
    {
     "data": {
      "text/html": [
       "<div>\n",
       "<style scoped>\n",
       "    .dataframe tbody tr th:only-of-type {\n",
       "        vertical-align: middle;\n",
       "    }\n",
       "\n",
       "    .dataframe tbody tr th {\n",
       "        vertical-align: top;\n",
       "    }\n",
       "\n",
       "    .dataframe thead th {\n",
       "        text-align: right;\n",
       "    }\n",
       "</style>\n",
       "<table border=\"1\" class=\"dataframe\">\n",
       "  <thead>\n",
       "    <tr style=\"text-align: right;\">\n",
       "      <th></th>\n",
       "      <th>dept_name</th>\n",
       "      <th>dept_address</th>\n",
       "      <th>dept_phone</th>\n",
       "    </tr>\n",
       "  </thead>\n",
       "  <tbody>\n",
       "    <tr>\n",
       "      <th>0</th>\n",
       "      <td>Code Enforcement</td>\n",
       "      <td>1025 Escobar Street, Martinez, CA 94553</td>\n",
       "      <td>Code Enforcement Complaint Form (online submittal)\\nor Call: (925) 655-2710</td>\n",
       "    </tr>\n",
       "  </tbody>\n",
       "</table>\n",
       "</div>"
      ],
      "text/plain": [
       "          dept_name                             dept_address  \\\n",
       "0  Code Enforcement  1025 Escobar Street, Martinez, CA 94553   \n",
       "\n",
       "                                                                    dept_phone  \n",
       "0  Code Enforcement Complaint Form (online submittal)\\nor Call: (925) 655-2710  "
      ]
     },
     "execution_count": 496,
     "metadata": {},
     "output_type": "execute_result"
    }
   ],
   "source": [
    "df6"
   ]
  },
  {
   "cell_type": "code",
   "execution_count": 497,
   "id": "f8eaa6ff",
   "metadata": {},
   "outputs": [],
   "source": [
    "df6[\"dept_phone\"] = df6.dept_phone[0][60:]"
   ]
  },
  {
   "cell_type": "code",
   "execution_count": 498,
   "id": "cefda5a0",
   "metadata": {},
   "outputs": [],
   "source": [
    "df6.insert(loc = 0,column=\"county/city\", value= \"Contra Costa\")"
   ]
  },
  {
   "cell_type": "code",
   "execution_count": 499,
   "id": "c2530cdc",
   "metadata": {},
   "outputs": [
    {
     "data": {
      "text/html": [
       "<div>\n",
       "<style scoped>\n",
       "    .dataframe tbody tr th:only-of-type {\n",
       "        vertical-align: middle;\n",
       "    }\n",
       "\n",
       "    .dataframe tbody tr th {\n",
       "        vertical-align: top;\n",
       "    }\n",
       "\n",
       "    .dataframe thead th {\n",
       "        text-align: right;\n",
       "    }\n",
       "</style>\n",
       "<table border=\"1\" class=\"dataframe\">\n",
       "  <thead>\n",
       "    <tr style=\"text-align: right;\">\n",
       "      <th></th>\n",
       "      <th>county/city</th>\n",
       "      <th>dept_name</th>\n",
       "      <th>dept_address</th>\n",
       "      <th>dept_phone</th>\n",
       "    </tr>\n",
       "  </thead>\n",
       "  <tbody>\n",
       "    <tr>\n",
       "      <th>0</th>\n",
       "      <td>Contra Costa</td>\n",
       "      <td>Code Enforcement</td>\n",
       "      <td>1025 Escobar Street, Martinez, CA 94553</td>\n",
       "      <td>(925) 655-2710</td>\n",
       "    </tr>\n",
       "  </tbody>\n",
       "</table>\n",
       "</div>"
      ],
      "text/plain": [
       "    county/city         dept_name                             dept_address  \\\n",
       "0  Contra Costa  Code Enforcement  1025 Escobar Street, Martinez, CA 94553   \n",
       "\n",
       "       dept_phone  \n",
       "0  (925) 655-2710  "
      ]
     },
     "execution_count": 499,
     "metadata": {},
     "output_type": "execute_result"
    }
   ],
   "source": [
    "df6"
   ]
  },
  {
   "cell_type": "code",
   "execution_count": 500,
   "id": "4a0022b1",
   "metadata": {},
   "outputs": [],
   "source": [
    "df7= pd.read_json(\"data_7.json.\", orient=\"index\").T"
   ]
  },
  {
   "cell_type": "code",
   "execution_count": 501,
   "id": "a6da85ab",
   "metadata": {},
   "outputs": [],
   "source": [
    "df7[\"dept_address\"] = df7.dept_details[0][31:78]"
   ]
  },
  {
   "cell_type": "code",
   "execution_count": 502,
   "id": "aab5303e",
   "metadata": {},
   "outputs": [],
   "source": [
    "df7[\"dept_phone\"] = df7.dept_details[0][86:98]"
   ]
  },
  {
   "cell_type": "code",
   "execution_count": 503,
   "id": "73d94933",
   "metadata": {},
   "outputs": [],
   "source": [
    "df7[\"dept_email\"] = df7.dept_details[0][104:]"
   ]
  },
  {
   "cell_type": "code",
   "execution_count": 504,
   "id": "9db4a6f5",
   "metadata": {},
   "outputs": [],
   "source": [
    "df7.drop(columns=[\"dept_details\"], inplace=True)"
   ]
  },
  {
   "cell_type": "code",
   "execution_count": 505,
   "id": "1b19a441",
   "metadata": {},
   "outputs": [],
   "source": [
    "df7.insert(loc = 0,column=\"county/city\", value= \"Glenn\")"
   ]
  },
  {
   "cell_type": "code",
   "execution_count": 506,
   "id": "5a0dda58",
   "metadata": {
    "scrolled": true
   },
   "outputs": [
    {
     "data": {
      "text/html": [
       "<div>\n",
       "<style scoped>\n",
       "    .dataframe tbody tr th:only-of-type {\n",
       "        vertical-align: middle;\n",
       "    }\n",
       "\n",
       "    .dataframe tbody tr th {\n",
       "        vertical-align: top;\n",
       "    }\n",
       "\n",
       "    .dataframe thead th {\n",
       "        text-align: right;\n",
       "    }\n",
       "</style>\n",
       "<table border=\"1\" class=\"dataframe\">\n",
       "  <thead>\n",
       "    <tr style=\"text-align: right;\">\n",
       "      <th></th>\n",
       "      <th>county/city</th>\n",
       "      <th>dept_name</th>\n",
       "      <th>dept_address</th>\n",
       "      <th>dept_phone</th>\n",
       "      <th>dept_email</th>\n",
       "    </tr>\n",
       "  </thead>\n",
       "  <tbody>\n",
       "    <tr>\n",
       "      <th>0</th>\n",
       "      <td>Glenn</td>\n",
       "      <td>Planning &amp; Zoning</td>\n",
       "      <td>1725 Reynolds St.\\nSuite 200\\nBrunswick, GA 31520</td>\n",
       "      <td>912-554-7428</td>\n",
       "      <td>: PlanningZoning@glynncounty-ga.gov</td>\n",
       "    </tr>\n",
       "  </tbody>\n",
       "</table>\n",
       "</div>"
      ],
      "text/plain": [
       "  county/city          dept_name  \\\n",
       "0       Glenn  Planning & Zoning   \n",
       "\n",
       "                                        dept_address    dept_phone  \\\n",
       "0  1725 Reynolds St.\\nSuite 200\\nBrunswick, GA 31520  912-554-7428   \n",
       "\n",
       "                            dept_email  \n",
       "0  : PlanningZoning@glynncounty-ga.gov  "
      ]
     },
     "execution_count": 506,
     "metadata": {},
     "output_type": "execute_result"
    }
   ],
   "source": [
    "df7"
   ]
  },
  {
   "cell_type": "code",
   "execution_count": 507,
   "id": "8848eecc",
   "metadata": {},
   "outputs": [],
   "source": [
    "df8= pd.read_json(\"data_8.json.\", orient=\"index\").T"
   ]
  },
  {
   "cell_type": "code",
   "execution_count": 508,
   "id": "a68cbc40",
   "metadata": {},
   "outputs": [],
   "source": [
    "df8.rename(columns={\"contact_person\":\"dept_phone\"}, inplace=True)"
   ]
  },
  {
   "cell_type": "code",
   "execution_count": 509,
   "id": "efbc9ccd",
   "metadata": {},
   "outputs": [],
   "source": [
    "df8.insert(loc = 0,column=\"county/city\", value= \"Humboldt\")"
   ]
  },
  {
   "cell_type": "code",
   "execution_count": 510,
   "id": "387919f3",
   "metadata": {},
   "outputs": [
    {
     "data": {
      "text/html": [
       "<div>\n",
       "<style scoped>\n",
       "    .dataframe tbody tr th:only-of-type {\n",
       "        vertical-align: middle;\n",
       "    }\n",
       "\n",
       "    .dataframe tbody tr th {\n",
       "        vertical-align: top;\n",
       "    }\n",
       "\n",
       "    .dataframe thead th {\n",
       "        text-align: right;\n",
       "    }\n",
       "</style>\n",
       "<table border=\"1\" class=\"dataframe\">\n",
       "  <thead>\n",
       "    <tr style=\"text-align: right;\">\n",
       "      <th></th>\n",
       "      <th>county/city</th>\n",
       "      <th>dept_name</th>\n",
       "      <th>dept_address</th>\n",
       "      <th>dept_phone</th>\n",
       "    </tr>\n",
       "  </thead>\n",
       "  <tbody>\n",
       "    <tr>\n",
       "      <th>0</th>\n",
       "      <td>Humboldt</td>\n",
       "      <td>Long Range Planning</td>\n",
       "      <td>Physical Address\\n3015 H St.\\nEureka, CA 95501</td>\n",
       "      <td>Phone: 707-445-7245</td>\n",
       "    </tr>\n",
       "  </tbody>\n",
       "</table>\n",
       "</div>"
      ],
      "text/plain": [
       "  county/city            dept_name  \\\n",
       "0    Humboldt  Long Range Planning   \n",
       "\n",
       "                                     dept_address           dept_phone  \n",
       "0  Physical Address\\n3015 H St.\\nEureka, CA 95501  Phone: 707-445-7245  "
      ]
     },
     "execution_count": 510,
     "metadata": {},
     "output_type": "execute_result"
    }
   ],
   "source": [
    "df8"
   ]
  },
  {
   "cell_type": "code",
   "execution_count": 511,
   "id": "e9bd7763",
   "metadata": {},
   "outputs": [],
   "source": [
    "df9= pd.read_json(\"data_9.json.\", orient=\"index\").T"
   ]
  },
  {
   "cell_type": "code",
   "execution_count": 512,
   "id": "11e96293",
   "metadata": {},
   "outputs": [],
   "source": [
    "df9.drop(columns=[\"dept_phone_url\"], inplace=True)"
   ]
  },
  {
   "cell_type": "code",
   "execution_count": 513,
   "id": "897c9f4f",
   "metadata": {},
   "outputs": [],
   "source": [
    "df9.insert(loc = 0,column=\"county/city\", value= \"Inyo\")"
   ]
  },
  {
   "cell_type": "code",
   "execution_count": 514,
   "id": "8ae41bd5",
   "metadata": {},
   "outputs": [
    {
     "data": {
      "text/html": [
       "<div>\n",
       "<style scoped>\n",
       "    .dataframe tbody tr th:only-of-type {\n",
       "        vertical-align: middle;\n",
       "    }\n",
       "\n",
       "    .dataframe tbody tr th {\n",
       "        vertical-align: top;\n",
       "    }\n",
       "\n",
       "    .dataframe thead th {\n",
       "        text-align: right;\n",
       "    }\n",
       "</style>\n",
       "<table border=\"1\" class=\"dataframe\">\n",
       "  <thead>\n",
       "    <tr style=\"text-align: right;\">\n",
       "      <th></th>\n",
       "      <th>county/city</th>\n",
       "      <th>dept_name</th>\n",
       "      <th>dept_address</th>\n",
       "      <th>dept_phone</th>\n",
       "    </tr>\n",
       "  </thead>\n",
       "  <tbody>\n",
       "    <tr>\n",
       "      <th>0</th>\n",
       "      <td>Inyo</td>\n",
       "      <td>PLANNING DEPARTMENT</td>\n",
       "      <td>168 N. Edwards Street - Annex Building\\nIndependence, CA93526\\nUnited States</td>\n",
       "      <td>(760) 878-0263</td>\n",
       "    </tr>\n",
       "  </tbody>\n",
       "</table>\n",
       "</div>"
      ],
      "text/plain": [
       "  county/city            dept_name  \\\n",
       "0        Inyo  PLANNING DEPARTMENT   \n",
       "\n",
       "                                                                   dept_address  \\\n",
       "0  168 N. Edwards Street - Annex Building\\nIndependence, CA93526\\nUnited States   \n",
       "\n",
       "       dept_phone  \n",
       "0  (760) 878-0263  "
      ]
     },
     "execution_count": 514,
     "metadata": {},
     "output_type": "execute_result"
    }
   ],
   "source": [
    "df9"
   ]
  },
  {
   "cell_type": "code",
   "execution_count": 515,
   "id": "81219435",
   "metadata": {},
   "outputs": [],
   "source": [
    "df10= pd.read_json(\"data_10.json.\", orient=\"index\").T"
   ]
  },
  {
   "cell_type": "code",
   "execution_count": 516,
   "id": "272ffd02",
   "metadata": {},
   "outputs": [],
   "source": [
    "df10.insert(loc = 0,column=\"county/city\", value= \"Kern\")"
   ]
  },
  {
   "cell_type": "code",
   "execution_count": 517,
   "id": "b02dee59",
   "metadata": {},
   "outputs": [
    {
     "data": {
      "text/html": [
       "<div>\n",
       "<style scoped>\n",
       "    .dataframe tbody tr th:only-of-type {\n",
       "        vertical-align: middle;\n",
       "    }\n",
       "\n",
       "    .dataframe tbody tr th {\n",
       "        vertical-align: top;\n",
       "    }\n",
       "\n",
       "    .dataframe thead th {\n",
       "        text-align: right;\n",
       "    }\n",
       "</style>\n",
       "<table border=\"1\" class=\"dataframe\">\n",
       "  <thead>\n",
       "    <tr style=\"text-align: right;\">\n",
       "      <th></th>\n",
       "      <th>county/city</th>\n",
       "      <th>dept_name</th>\n",
       "      <th>dept_address</th>\n",
       "      <th>dept_phone</th>\n",
       "    </tr>\n",
       "  </thead>\n",
       "  <tbody>\n",
       "    <tr>\n",
       "      <th>0</th>\n",
       "      <td>Kern</td>\n",
       "      <td>Taxpayer Services</td>\n",
       "      <td>Payment Center\\nP.O. Box 541004\\nLos Angeles, CA 90054-1004</td>\n",
       "      <td>(661) 868-3490</td>\n",
       "    </tr>\n",
       "  </tbody>\n",
       "</table>\n",
       "</div>"
      ],
      "text/plain": [
       "  county/city          dept_name  \\\n",
       "0        Kern  Taxpayer Services   \n",
       "\n",
       "                                                  dept_address      dept_phone  \n",
       "0  Payment Center\\nP.O. Box 541004\\nLos Angeles, CA 90054-1004  (661) 868-3490  "
      ]
     },
     "execution_count": 517,
     "metadata": {},
     "output_type": "execute_result"
    }
   ],
   "source": [
    "df10"
   ]
  },
  {
   "cell_type": "code",
   "execution_count": 518,
   "id": "84fdf6cd",
   "metadata": {},
   "outputs": [],
   "source": [
    "df11= pd.read_json(\"data_11.json.\", orient=\"index\").T"
   ]
  },
  {
   "cell_type": "code",
   "execution_count": 519,
   "id": "80500dff",
   "metadata": {},
   "outputs": [],
   "source": [
    "df11.drop(columns=[\"dept_phone_url\", \"dept_email_url\"], inplace=True)"
   ]
  },
  {
   "cell_type": "code",
   "execution_count": 520,
   "id": "38a5babe",
   "metadata": {},
   "outputs": [],
   "source": [
    "df11.insert(loc = 0,column=\"county/city\", value= \"Lassen\")"
   ]
  },
  {
   "cell_type": "code",
   "execution_count": 521,
   "id": "22343205",
   "metadata": {},
   "outputs": [
    {
     "data": {
      "text/html": [
       "<div>\n",
       "<style scoped>\n",
       "    .dataframe tbody tr th:only-of-type {\n",
       "        vertical-align: middle;\n",
       "    }\n",
       "\n",
       "    .dataframe tbody tr th {\n",
       "        vertical-align: top;\n",
       "    }\n",
       "\n",
       "    .dataframe thead th {\n",
       "        text-align: right;\n",
       "    }\n",
       "</style>\n",
       "<table border=\"1\" class=\"dataframe\">\n",
       "  <thead>\n",
       "    <tr style=\"text-align: right;\">\n",
       "      <th></th>\n",
       "      <th>county/city</th>\n",
       "      <th>dept_name</th>\n",
       "      <th>dept_address</th>\n",
       "      <th>dept_phone</th>\n",
       "      <th>dept_email</th>\n",
       "    </tr>\n",
       "  </thead>\n",
       "  <tbody>\n",
       "    <tr>\n",
       "      <th>0</th>\n",
       "      <td>Lassen</td>\n",
       "      <td>Planning and Building Services</td>\n",
       "      <td>707 Nevada Street Ste 5\\n96130 Susanville , CA\\nSee map: Google Maps</td>\n",
       "      <td>(530) 251-8269</td>\n",
       "      <td>landuse@co.lassen.ca.us</td>\n",
       "    </tr>\n",
       "  </tbody>\n",
       "</table>\n",
       "</div>"
      ],
      "text/plain": [
       "  county/city                       dept_name  \\\n",
       "0      Lassen  Planning and Building Services   \n",
       "\n",
       "                                                           dept_address  \\\n",
       "0  707 Nevada Street Ste 5\\n96130 Susanville , CA\\nSee map: Google Maps   \n",
       "\n",
       "       dept_phone               dept_email  \n",
       "0  (530) 251-8269  landuse@co.lassen.ca.us  "
      ]
     },
     "execution_count": 521,
     "metadata": {},
     "output_type": "execute_result"
    }
   ],
   "source": [
    "df11"
   ]
  },
  {
   "cell_type": "code",
   "execution_count": 522,
   "id": "5564e251",
   "metadata": {},
   "outputs": [],
   "source": [
    "df12= pd.read_json(\"data_12.json.\", orient=\"index\").T"
   ]
  },
  {
   "cell_type": "code",
   "execution_count": 523,
   "id": "be7ea6d0",
   "metadata": {},
   "outputs": [],
   "source": [
    "df12[\"dept_address\"] = df12.dept_address[0][:105]"
   ]
  },
  {
   "cell_type": "code",
   "execution_count": 524,
   "id": "b484892d",
   "metadata": {},
   "outputs": [],
   "source": [
    "df12.insert(loc = 0,column=\"county/city\", value= \"Los Angeles\")"
   ]
  },
  {
   "cell_type": "code",
   "execution_count": 525,
   "id": "6c65bc36",
   "metadata": {},
   "outputs": [
    {
     "data": {
      "text/html": [
       "<div>\n",
       "<style scoped>\n",
       "    .dataframe tbody tr th:only-of-type {\n",
       "        vertical-align: middle;\n",
       "    }\n",
       "\n",
       "    .dataframe tbody tr th {\n",
       "        vertical-align: top;\n",
       "    }\n",
       "\n",
       "    .dataframe thead th {\n",
       "        text-align: right;\n",
       "    }\n",
       "</style>\n",
       "<table border=\"1\" class=\"dataframe\">\n",
       "  <thead>\n",
       "    <tr style=\"text-align: right;\">\n",
       "      <th></th>\n",
       "      <th>county/city</th>\n",
       "      <th>dept_name</th>\n",
       "      <th>dept_address</th>\n",
       "    </tr>\n",
       "  </thead>\n",
       "  <tbody>\n",
       "    <tr>\n",
       "      <th>0</th>\n",
       "      <td>Los Angeles</td>\n",
       "      <td>Treasurer and Tax Collector</td>\n",
       "      <td>Treasurer and Tax Collector\\nKenneth Hahn Hall of Administration\\n500 W Temple Street\\nLos Angeles, CA 90012</td>\n",
       "    </tr>\n",
       "  </tbody>\n",
       "</table>\n",
       "</div>"
      ],
      "text/plain": [
       "   county/city                    dept_name  \\\n",
       "0  Los Angeles  Treasurer and Tax Collector   \n",
       "\n",
       "                                                                                                   dept_address  \n",
       "0  Treasurer and Tax Collector\\nKenneth Hahn Hall of Administration\\n500 W Temple Street\\nLos Angeles, CA 90012  "
      ]
     },
     "execution_count": 525,
     "metadata": {},
     "output_type": "execute_result"
    }
   ],
   "source": [
    "df12"
   ]
  },
  {
   "cell_type": "code",
   "execution_count": 526,
   "id": "e2a9c86f",
   "metadata": {},
   "outputs": [],
   "source": [
    "df13= pd.read_json(\"data_13.json.\", orient=\"index\").T"
   ]
  },
  {
   "cell_type": "code",
   "execution_count": 527,
   "id": "f41bd04c",
   "metadata": {},
   "outputs": [],
   "source": [
    "df13[\"dept_phone\"] = df13.dept_phone[0][26:]"
   ]
  },
  {
   "cell_type": "code",
   "execution_count": 528,
   "id": "87c1bb39",
   "metadata": {},
   "outputs": [],
   "source": [
    "df13.drop(columns=[\"dept_phone_url\"], inplace=True)"
   ]
  },
  {
   "cell_type": "code",
   "execution_count": 529,
   "id": "d9dfe1e8",
   "metadata": {},
   "outputs": [],
   "source": [
    "df13.insert(loc = 0,column=\"county/city\", value= \"Madera\")"
   ]
  },
  {
   "cell_type": "code",
   "execution_count": 530,
   "id": "f2c1c9d5",
   "metadata": {},
   "outputs": [
    {
     "data": {
      "text/html": [
       "<div>\n",
       "<style scoped>\n",
       "    .dataframe tbody tr th:only-of-type {\n",
       "        vertical-align: middle;\n",
       "    }\n",
       "\n",
       "    .dataframe tbody tr th {\n",
       "        vertical-align: top;\n",
       "    }\n",
       "\n",
       "    .dataframe thead th {\n",
       "        text-align: right;\n",
       "    }\n",
       "</style>\n",
       "<table border=\"1\" class=\"dataframe\">\n",
       "  <thead>\n",
       "    <tr style=\"text-align: right;\">\n",
       "      <th></th>\n",
       "      <th>county/city</th>\n",
       "      <th>dept_name</th>\n",
       "      <th>dept_address</th>\n",
       "      <th>dept_phone</th>\n",
       "    </tr>\n",
       "  </thead>\n",
       "  <tbody>\n",
       "    <tr>\n",
       "      <th>0</th>\n",
       "      <td>Madera</td>\n",
       "      <td>Planning Division</td>\n",
       "      <td>240 Tamal Vista Blvd., Suite 110\\nCorte Madera, CA 94925\\n415-927-5064</td>\n",
       "      <td>415-927-5050</td>\n",
       "    </tr>\n",
       "  </tbody>\n",
       "</table>\n",
       "</div>"
      ],
      "text/plain": [
       "  county/city          dept_name  \\\n",
       "0      Madera  Planning Division   \n",
       "\n",
       "                                                             dept_address  \\\n",
       "0  240 Tamal Vista Blvd., Suite 110\\nCorte Madera, CA 94925\\n415-927-5064   \n",
       "\n",
       "     dept_phone  \n",
       "0  415-927-5050  "
      ]
     },
     "execution_count": 530,
     "metadata": {},
     "output_type": "execute_result"
    }
   ],
   "source": [
    "df13"
   ]
  },
  {
   "cell_type": "code",
   "execution_count": 531,
   "id": "343223cf",
   "metadata": {},
   "outputs": [],
   "source": [
    "df14 = pd.read_json(\"data_14.json.\", orient=\"index\").T"
   ]
  },
  {
   "cell_type": "code",
   "execution_count": 532,
   "id": "c2dad9c1",
   "metadata": {},
   "outputs": [],
   "source": [
    "df14.insert(loc = 0,column=\"county/city\", value= \"Mariposa\")"
   ]
  },
  {
   "cell_type": "code",
   "execution_count": 533,
   "id": "a8a2a381",
   "metadata": {},
   "outputs": [],
   "source": [
    "df14[\"dept_address\"] = df14.dept_address[0][0][\"name\"] + df14.dept_address[0][1][\"name\"] +\" \"+ df14.dept_address[0][2][\"name\"] +\" \" + df14.dept_address[0][3][\"name\"]"
   ]
  },
  {
   "cell_type": "code",
   "execution_count": 534,
   "id": "81732fd2",
   "metadata": {},
   "outputs": [
    {
     "data": {
      "text/html": [
       "<div>\n",
       "<style scoped>\n",
       "    .dataframe tbody tr th:only-of-type {\n",
       "        vertical-align: middle;\n",
       "    }\n",
       "\n",
       "    .dataframe tbody tr th {\n",
       "        vertical-align: top;\n",
       "    }\n",
       "\n",
       "    .dataframe thead th {\n",
       "        text-align: right;\n",
       "    }\n",
       "</style>\n",
       "<table border=\"1\" class=\"dataframe\">\n",
       "  <thead>\n",
       "    <tr style=\"text-align: right;\">\n",
       "      <th></th>\n",
       "      <th>county/city</th>\n",
       "      <th>dept_name</th>\n",
       "      <th>dept_address</th>\n",
       "      <th>dept_phone</th>\n",
       "    </tr>\n",
       "  </thead>\n",
       "  <tbody>\n",
       "    <tr>\n",
       "      <th>0</th>\n",
       "      <td>Mariposa</td>\n",
       "      <td>Environmental Health</td>\n",
       "      <td>5100 Bullion StreetMariposa CA 95338</td>\n",
       "      <td>Phone: 209-966-2220 or 888-777-0377</td>\n",
       "    </tr>\n",
       "  </tbody>\n",
       "</table>\n",
       "</div>"
      ],
      "text/plain": [
       "  county/city             dept_name                          dept_address  \\\n",
       "0    Mariposa  Environmental Health  5100 Bullion StreetMariposa CA 95338   \n",
       "\n",
       "                            dept_phone  \n",
       "0  Phone: 209-966-2220 or 888-777-0377  "
      ]
     },
     "execution_count": 534,
     "metadata": {},
     "output_type": "execute_result"
    }
   ],
   "source": [
    "df14"
   ]
  },
  {
   "cell_type": "code",
   "execution_count": 535,
   "id": "5de3eb77",
   "metadata": {},
   "outputs": [],
   "source": [
    "df15 = pd.read_json(\"data_15.json.\", orient=\"index\").T"
   ]
  },
  {
   "cell_type": "code",
   "execution_count": 536,
   "id": "465dfa23",
   "metadata": {},
   "outputs": [],
   "source": [
    "df15.rename(columns={\"selection1\":\"dept_name\"}, inplace=True)"
   ]
  },
  {
   "cell_type": "code",
   "execution_count": 537,
   "id": "a1e8e134",
   "metadata": {},
   "outputs": [],
   "source": [
    "#df15.insert(loc = 0,column=\"county/city\", value= \"Mendocino\")"
   ]
  },
  {
   "cell_type": "code",
   "execution_count": 538,
   "id": "8dc1d45a",
   "metadata": {},
   "outputs": [
    {
     "data": {
      "text/html": [
       "<div>\n",
       "<style scoped>\n",
       "    .dataframe tbody tr th:only-of-type {\n",
       "        vertical-align: middle;\n",
       "    }\n",
       "\n",
       "    .dataframe tbody tr th {\n",
       "        vertical-align: top;\n",
       "    }\n",
       "\n",
       "    .dataframe thead th {\n",
       "        text-align: right;\n",
       "    }\n",
       "</style>\n",
       "<table border=\"1\" class=\"dataframe\">\n",
       "  <thead>\n",
       "    <tr style=\"text-align: right;\">\n",
       "      <th></th>\n",
       "      <th>dept_name</th>\n",
       "      <th>dept_address</th>\n",
       "    </tr>\n",
       "  </thead>\n",
       "  <tbody>\n",
       "    <tr>\n",
       "      <th>0</th>\n",
       "      <td>Planning &amp; Building Services</td>\n",
       "      <td>Main Ukiah Campus:\\n501 Low Gap Road\\nUkiah, CA 95482</td>\n",
       "    </tr>\n",
       "  </tbody>\n",
       "</table>\n",
       "</div>"
      ],
      "text/plain": [
       "                      dept_name  \\\n",
       "0  Planning & Building Services   \n",
       "\n",
       "                                            dept_address  \n",
       "0  Main Ukiah Campus:\\n501 Low Gap Road\\nUkiah, CA 95482  "
      ]
     },
     "execution_count": 538,
     "metadata": {},
     "output_type": "execute_result"
    }
   ],
   "source": [
    "df15"
   ]
  },
  {
   "cell_type": "code",
   "execution_count": 539,
   "id": "67a4fda4",
   "metadata": {},
   "outputs": [],
   "source": [
    "df16 = pd.read_json(\"data_16.json.\", orient=\"index\").T"
   ]
  },
  {
   "cell_type": "code",
   "execution_count": 540,
   "id": "6c85b44a",
   "metadata": {},
   "outputs": [],
   "source": [
    "df16.drop(columns=\"dept_phone_url\", inplace=True)"
   ]
  },
  {
   "cell_type": "code",
   "execution_count": 541,
   "id": "74aaf6cc",
   "metadata": {},
   "outputs": [
    {
     "data": {
      "text/html": [
       "<div>\n",
       "<style scoped>\n",
       "    .dataframe tbody tr th:only-of-type {\n",
       "        vertical-align: middle;\n",
       "    }\n",
       "\n",
       "    .dataframe tbody tr th {\n",
       "        vertical-align: top;\n",
       "    }\n",
       "\n",
       "    .dataframe thead th {\n",
       "        text-align: right;\n",
       "    }\n",
       "</style>\n",
       "<table border=\"1\" class=\"dataframe\">\n",
       "  <thead>\n",
       "    <tr style=\"text-align: right;\">\n",
       "      <th></th>\n",
       "      <th>dept_name</th>\n",
       "      <th>dept_address</th>\n",
       "      <th>dept_phone</th>\n",
       "    </tr>\n",
       "  </thead>\n",
       "  <tbody>\n",
       "    <tr>\n",
       "      <th>0</th>\n",
       "      <td>Tax Collector</td>\n",
       "      <td>Physical Address View Map\\n2222 M St.\\n1st Floor\\nMerced, CA 95340</td>\n",
       "      <td>(209) 385-7307</td>\n",
       "    </tr>\n",
       "  </tbody>\n",
       "</table>\n",
       "</div>"
      ],
      "text/plain": [
       "       dept_name  \\\n",
       "0  Tax Collector   \n",
       "\n",
       "                                                         dept_address  \\\n",
       "0  Physical Address View Map\\n2222 M St.\\n1st Floor\\nMerced, CA 95340   \n",
       "\n",
       "       dept_phone  \n",
       "0  (209) 385-7307  "
      ]
     },
     "execution_count": 541,
     "metadata": {},
     "output_type": "execute_result"
    }
   ],
   "source": [
    "df16"
   ]
  },
  {
   "cell_type": "code",
   "execution_count": 542,
   "id": "bc24a5b7",
   "metadata": {},
   "outputs": [],
   "source": [
    "df16.insert(loc = 0,column=\"county/city\", value= \"Merced\")"
   ]
  },
  {
   "cell_type": "code",
   "execution_count": 543,
   "id": "262d6570",
   "metadata": {},
   "outputs": [
    {
     "data": {
      "text/html": [
       "<div>\n",
       "<style scoped>\n",
       "    .dataframe tbody tr th:only-of-type {\n",
       "        vertical-align: middle;\n",
       "    }\n",
       "\n",
       "    .dataframe tbody tr th {\n",
       "        vertical-align: top;\n",
       "    }\n",
       "\n",
       "    .dataframe thead th {\n",
       "        text-align: right;\n",
       "    }\n",
       "</style>\n",
       "<table border=\"1\" class=\"dataframe\">\n",
       "  <thead>\n",
       "    <tr style=\"text-align: right;\">\n",
       "      <th></th>\n",
       "      <th>county/city</th>\n",
       "      <th>dept_name</th>\n",
       "      <th>dept_address</th>\n",
       "      <th>dept_phone</th>\n",
       "    </tr>\n",
       "  </thead>\n",
       "  <tbody>\n",
       "    <tr>\n",
       "      <th>0</th>\n",
       "      <td>Merced</td>\n",
       "      <td>Tax Collector</td>\n",
       "      <td>Physical Address View Map\\n2222 M St.\\n1st Floor\\nMerced, CA 95340</td>\n",
       "      <td>(209) 385-7307</td>\n",
       "    </tr>\n",
       "  </tbody>\n",
       "</table>\n",
       "</div>"
      ],
      "text/plain": [
       "  county/city      dept_name  \\\n",
       "0      Merced  Tax Collector   \n",
       "\n",
       "                                                         dept_address  \\\n",
       "0  Physical Address View Map\\n2222 M St.\\n1st Floor\\nMerced, CA 95340   \n",
       "\n",
       "       dept_phone  \n",
       "0  (209) 385-7307  "
      ]
     },
     "execution_count": 543,
     "metadata": {},
     "output_type": "execute_result"
    }
   ],
   "source": [
    "df16"
   ]
  },
  {
   "cell_type": "code",
   "execution_count": 544,
   "id": "1d43a00a",
   "metadata": {},
   "outputs": [],
   "source": [
    "df17 = pd.read_json(\"data_17.json.\", orient=\"index\").T"
   ]
  },
  {
   "cell_type": "code",
   "execution_count": 545,
   "id": "d9773cb7",
   "metadata": {},
   "outputs": [],
   "source": [
    "df17.rename(columns={\"dept_addresss\":\"dept_address\"}, inplace=True)"
   ]
  },
  {
   "cell_type": "code",
   "execution_count": 546,
   "id": "60094fd1",
   "metadata": {},
   "outputs": [],
   "source": [
    "df17.insert(loc = 0,column=\"county/city\", value= \"Mono\")"
   ]
  },
  {
   "cell_type": "code",
   "execution_count": 547,
   "id": "40bf8485",
   "metadata": {},
   "outputs": [
    {
     "data": {
      "text/html": [
       "<div>\n",
       "<style scoped>\n",
       "    .dataframe tbody tr th:only-of-type {\n",
       "        vertical-align: middle;\n",
       "    }\n",
       "\n",
       "    .dataframe tbody tr th {\n",
       "        vertical-align: top;\n",
       "    }\n",
       "\n",
       "    .dataframe thead th {\n",
       "        text-align: right;\n",
       "    }\n",
       "</style>\n",
       "<table border=\"1\" class=\"dataframe\">\n",
       "  <thead>\n",
       "    <tr style=\"text-align: right;\">\n",
       "      <th></th>\n",
       "      <th>county/city</th>\n",
       "      <th>dept_name</th>\n",
       "      <th>dept_address</th>\n",
       "      <th>dept_phone</th>\n",
       "    </tr>\n",
       "  </thead>\n",
       "  <tbody>\n",
       "    <tr>\n",
       "      <th>0</th>\n",
       "      <td>Mono</td>\n",
       "      <td>Planning Division</td>\n",
       "      <td>Mammoth Lakes Office\\n1290 Tavern Rd.\\nPO Box 347\\nMammoth Lakes, CA 93546</td>\n",
       "      <td>o. 760-924-1800\\nf. 760-924-1801</td>\n",
       "    </tr>\n",
       "  </tbody>\n",
       "</table>\n",
       "</div>"
      ],
      "text/plain": [
       "  county/city          dept_name  \\\n",
       "0        Mono  Planning Division   \n",
       "\n",
       "                                                                 dept_address  \\\n",
       "0  Mammoth Lakes Office\\n1290 Tavern Rd.\\nPO Box 347\\nMammoth Lakes, CA 93546   \n",
       "\n",
       "                         dept_phone  \n",
       "0  o. 760-924-1800\\nf. 760-924-1801  "
      ]
     },
     "execution_count": 547,
     "metadata": {},
     "output_type": "execute_result"
    }
   ],
   "source": [
    "df17"
   ]
  },
  {
   "cell_type": "code",
   "execution_count": 548,
   "id": "8a189287",
   "metadata": {},
   "outputs": [],
   "source": [
    "df18 = pd.read_json(\"data_18.json.\", orient=\"index\").T"
   ]
  },
  {
   "cell_type": "code",
   "execution_count": 549,
   "id": "6bc049f8",
   "metadata": {},
   "outputs": [],
   "source": [
    "df18.insert(loc = 0,column=\"county/city\", value= \"Monterey\")"
   ]
  },
  {
   "cell_type": "code",
   "execution_count": 550,
   "id": "1fe7a74b",
   "metadata": {},
   "outputs": [],
   "source": [
    "df18.drop(columns=[\"dept_name_url\"], inplace=True)"
   ]
  },
  {
   "cell_type": "code",
   "execution_count": 551,
   "id": "2ff849c7",
   "metadata": {},
   "outputs": [
    {
     "data": {
      "text/html": [
       "<div>\n",
       "<style scoped>\n",
       "    .dataframe tbody tr th:only-of-type {\n",
       "        vertical-align: middle;\n",
       "    }\n",
       "\n",
       "    .dataframe tbody tr th {\n",
       "        vertical-align: top;\n",
       "    }\n",
       "\n",
       "    .dataframe thead th {\n",
       "        text-align: right;\n",
       "    }\n",
       "</style>\n",
       "<table border=\"1\" class=\"dataframe\">\n",
       "  <thead>\n",
       "    <tr style=\"text-align: right;\">\n",
       "      <th></th>\n",
       "      <th>county/city</th>\n",
       "      <th>dept_name</th>\n",
       "      <th>dept_address</th>\n",
       "      <th>dept_phone</th>\n",
       "    </tr>\n",
       "  </thead>\n",
       "  <tbody>\n",
       "    <tr>\n",
       "      <th>0</th>\n",
       "      <td>Monterey</td>\n",
       "      <td>HOUSING AND COMMUNITY DEVELOPMENT</td>\n",
       "      <td>Salinas, CA 93901</td>\n",
       "      <td>831-755-5025</td>\n",
       "    </tr>\n",
       "  </tbody>\n",
       "</table>\n",
       "</div>"
      ],
      "text/plain": [
       "  county/city                          dept_name       dept_address  \\\n",
       "0    Monterey  HOUSING AND COMMUNITY DEVELOPMENT  Salinas, CA 93901   \n",
       "\n",
       "     dept_phone  \n",
       "0  831-755-5025  "
      ]
     },
     "execution_count": 551,
     "metadata": {},
     "output_type": "execute_result"
    }
   ],
   "source": [
    "df18"
   ]
  },
  {
   "cell_type": "code",
   "execution_count": 552,
   "id": "81753de8",
   "metadata": {},
   "outputs": [],
   "source": [
    "df19 = pd.read_json(\"data_19.json.\", orient=\"index\").T"
   ]
  },
  {
   "cell_type": "code",
   "execution_count": 553,
   "id": "2556c148",
   "metadata": {},
   "outputs": [
    {
     "data": {
      "text/html": [
       "<div>\n",
       "<style scoped>\n",
       "    .dataframe tbody tr th:only-of-type {\n",
       "        vertical-align: middle;\n",
       "    }\n",
       "\n",
       "    .dataframe tbody tr th {\n",
       "        vertical-align: top;\n",
       "    }\n",
       "\n",
       "    .dataframe thead th {\n",
       "        text-align: right;\n",
       "    }\n",
       "</style>\n",
       "<table border=\"1\" class=\"dataframe\">\n",
       "  <thead>\n",
       "    <tr style=\"text-align: right;\">\n",
       "      <th></th>\n",
       "      <th>dept_name</th>\n",
       "      <th>dept_address</th>\n",
       "      <th>dept_phone</th>\n",
       "    </tr>\n",
       "  </thead>\n",
       "  <tbody>\n",
       "    <tr>\n",
       "      <th>0</th>\n",
       "      <td>Planning Division</td>\n",
       "      <td>Physical Address View Map1600 First StreetNapa, CA 94559</td>\n",
       "      <td>707-257-9530</td>\n",
       "    </tr>\n",
       "  </tbody>\n",
       "</table>\n",
       "</div>"
      ],
      "text/plain": [
       "           dept_name  \\\n",
       "0  Planning Division   \n",
       "\n",
       "                                               dept_address    dept_phone  \n",
       "0  Physical Address View Map1600 First StreetNapa, CA 94559  707-257-9530  "
      ]
     },
     "execution_count": 553,
     "metadata": {},
     "output_type": "execute_result"
    }
   ],
   "source": [
    "df19"
   ]
  },
  {
   "cell_type": "code",
   "execution_count": 554,
   "id": "7baa79e0",
   "metadata": {},
   "outputs": [],
   "source": [
    "df19.insert(loc = 0,column=\"county/city\", value= \"Napa\")"
   ]
  },
  {
   "cell_type": "code",
   "execution_count": 555,
   "id": "a8d4ef75",
   "metadata": {},
   "outputs": [
    {
     "data": {
      "text/html": [
       "<div>\n",
       "<style scoped>\n",
       "    .dataframe tbody tr th:only-of-type {\n",
       "        vertical-align: middle;\n",
       "    }\n",
       "\n",
       "    .dataframe tbody tr th {\n",
       "        vertical-align: top;\n",
       "    }\n",
       "\n",
       "    .dataframe thead th {\n",
       "        text-align: right;\n",
       "    }\n",
       "</style>\n",
       "<table border=\"1\" class=\"dataframe\">\n",
       "  <thead>\n",
       "    <tr style=\"text-align: right;\">\n",
       "      <th></th>\n",
       "      <th>county/city</th>\n",
       "      <th>dept_name</th>\n",
       "      <th>dept_address</th>\n",
       "      <th>dept_phone</th>\n",
       "    </tr>\n",
       "  </thead>\n",
       "  <tbody>\n",
       "    <tr>\n",
       "      <th>0</th>\n",
       "      <td>Napa</td>\n",
       "      <td>Planning Division</td>\n",
       "      <td>Physical Address View Map1600 First StreetNapa, CA 94559</td>\n",
       "      <td>707-257-9530</td>\n",
       "    </tr>\n",
       "  </tbody>\n",
       "</table>\n",
       "</div>"
      ],
      "text/plain": [
       "  county/city          dept_name  \\\n",
       "0        Napa  Planning Division   \n",
       "\n",
       "                                               dept_address    dept_phone  \n",
       "0  Physical Address View Map1600 First StreetNapa, CA 94559  707-257-9530  "
      ]
     },
     "execution_count": 555,
     "metadata": {},
     "output_type": "execute_result"
    }
   ],
   "source": [
    "df19"
   ]
  },
  {
   "cell_type": "code",
   "execution_count": 556,
   "id": "b3505004",
   "metadata": {},
   "outputs": [],
   "source": [
    "df20 = pd.read_json(\"data_20.json.\", orient=\"index\").T"
   ]
  },
  {
   "cell_type": "code",
   "execution_count": 557,
   "id": "cb3b8255",
   "metadata": {},
   "outputs": [],
   "source": [
    "df20[\"dept_phone\"] = df20.dept_phone[0][:14]"
   ]
  },
  {
   "cell_type": "code",
   "execution_count": 558,
   "id": "c397abaf",
   "metadata": {},
   "outputs": [
    {
     "data": {
      "text/html": [
       "<div>\n",
       "<style scoped>\n",
       "    .dataframe tbody tr th:only-of-type {\n",
       "        vertical-align: middle;\n",
       "    }\n",
       "\n",
       "    .dataframe tbody tr th {\n",
       "        vertical-align: top;\n",
       "    }\n",
       "\n",
       "    .dataframe thead th {\n",
       "        text-align: right;\n",
       "    }\n",
       "</style>\n",
       "<table border=\"1\" class=\"dataframe\">\n",
       "  <thead>\n",
       "    <tr style=\"text-align: right;\">\n",
       "      <th></th>\n",
       "      <th>dept_name</th>\n",
       "      <th>dept_address</th>\n",
       "      <th>dept_phone</th>\n",
       "    </tr>\n",
       "  </thead>\n",
       "  <tbody>\n",
       "    <tr>\n",
       "      <th>0</th>\n",
       "      <td>Finance</td>\n",
       "      <td>Finance Department\\n300 E. Chapman Ave.\\nOrange, CA 92866</td>\n",
       "      <td>(714) 744-2230</td>\n",
       "    </tr>\n",
       "  </tbody>\n",
       "</table>\n",
       "</div>"
      ],
      "text/plain": [
       "  dept_name                                               dept_address  \\\n",
       "0   Finance  Finance Department\\n300 E. Chapman Ave.\\nOrange, CA 92866   \n",
       "\n",
       "       dept_phone  \n",
       "0  (714) 744-2230  "
      ]
     },
     "execution_count": 558,
     "metadata": {},
     "output_type": "execute_result"
    }
   ],
   "source": [
    "df20"
   ]
  },
  {
   "cell_type": "code",
   "execution_count": 559,
   "id": "e21d2228",
   "metadata": {},
   "outputs": [],
   "source": [
    "df20.insert(loc = 0,column=\"county/city\", value= \"Orange\")"
   ]
  },
  {
   "cell_type": "code",
   "execution_count": 560,
   "id": "f8499557",
   "metadata": {},
   "outputs": [
    {
     "data": {
      "text/html": [
       "<div>\n",
       "<style scoped>\n",
       "    .dataframe tbody tr th:only-of-type {\n",
       "        vertical-align: middle;\n",
       "    }\n",
       "\n",
       "    .dataframe tbody tr th {\n",
       "        vertical-align: top;\n",
       "    }\n",
       "\n",
       "    .dataframe thead th {\n",
       "        text-align: right;\n",
       "    }\n",
       "</style>\n",
       "<table border=\"1\" class=\"dataframe\">\n",
       "  <thead>\n",
       "    <tr style=\"text-align: right;\">\n",
       "      <th></th>\n",
       "      <th>county/city</th>\n",
       "      <th>dept_name</th>\n",
       "      <th>dept_address</th>\n",
       "      <th>dept_phone</th>\n",
       "    </tr>\n",
       "  </thead>\n",
       "  <tbody>\n",
       "    <tr>\n",
       "      <th>0</th>\n",
       "      <td>Orange</td>\n",
       "      <td>Finance</td>\n",
       "      <td>Finance Department\\n300 E. Chapman Ave.\\nOrange, CA 92866</td>\n",
       "      <td>(714) 744-2230</td>\n",
       "    </tr>\n",
       "  </tbody>\n",
       "</table>\n",
       "</div>"
      ],
      "text/plain": [
       "  county/city dept_name  \\\n",
       "0      Orange   Finance   \n",
       "\n",
       "                                                dept_address      dept_phone  \n",
       "0  Finance Department\\n300 E. Chapman Ave.\\nOrange, CA 92866  (714) 744-2230  "
      ]
     },
     "execution_count": 560,
     "metadata": {},
     "output_type": "execute_result"
    }
   ],
   "source": [
    "df20"
   ]
  },
  {
   "cell_type": "code",
   "execution_count": 561,
   "id": "868c9ec4",
   "metadata": {},
   "outputs": [],
   "source": [
    "df21 = pd.read_json(\"data_21.json.\", orient=\"index\").T"
   ]
  },
  {
   "cell_type": "code",
   "execution_count": 562,
   "id": "c123d5d1",
   "metadata": {},
   "outputs": [],
   "source": [
    "df21[\"dept_address\"] = df21.dept_address_2[0][:54]"
   ]
  },
  {
   "cell_type": "code",
   "execution_count": 563,
   "id": "6305f945",
   "metadata": {},
   "outputs": [],
   "source": [
    "df21[\"dept_phone\"] = df21.dept_address_2[0][68:80]"
   ]
  },
  {
   "cell_type": "code",
   "execution_count": 564,
   "id": "2b9ca5b7",
   "metadata": {},
   "outputs": [],
   "source": [
    "df21.drop(columns=[\"dept_email_url\",\"dept_address_2\"],inplace=True)"
   ]
  },
  {
   "cell_type": "code",
   "execution_count": 565,
   "id": "4d6235a7",
   "metadata": {},
   "outputs": [],
   "source": [
    "df21.insert(loc = 0,column=\"county/city\", value= \"Placer\")"
   ]
  },
  {
   "cell_type": "code",
   "execution_count": 566,
   "id": "a42d6a5f",
   "metadata": {},
   "outputs": [
    {
     "data": {
      "text/html": [
       "<div>\n",
       "<style scoped>\n",
       "    .dataframe tbody tr th:only-of-type {\n",
       "        vertical-align: middle;\n",
       "    }\n",
       "\n",
       "    .dataframe tbody tr th {\n",
       "        vertical-align: top;\n",
       "    }\n",
       "\n",
       "    .dataframe thead th {\n",
       "        text-align: right;\n",
       "    }\n",
       "</style>\n",
       "<table border=\"1\" class=\"dataframe\">\n",
       "  <thead>\n",
       "    <tr style=\"text-align: right;\">\n",
       "      <th></th>\n",
       "      <th>county/city</th>\n",
       "      <th>dept_name</th>\n",
       "      <th>dept_email</th>\n",
       "      <th>dept_address</th>\n",
       "      <th>dept_phone</th>\n",
       "    </tr>\n",
       "  </thead>\n",
       "  <tbody>\n",
       "    <tr>\n",
       "      <th>0</th>\n",
       "      <td>Placer</td>\n",
       "      <td>Code Compliance services</td>\n",
       "      <td>STRcompliance@placer.ca.gov</td>\n",
       "      <td>TAHOE OFFICE\\n775 North Lake Blvd.\\nTahoe City, CA 96145</td>\n",
       "      <td>530-581-6282</td>\n",
       "    </tr>\n",
       "  </tbody>\n",
       "</table>\n",
       "</div>"
      ],
      "text/plain": [
       "  county/city                 dept_name                   dept_email  \\\n",
       "0      Placer  Code Compliance services  STRcompliance@placer.ca.gov   \n",
       "\n",
       "                                               dept_address    dept_phone  \n",
       "0  TAHOE OFFICE\\n775 North Lake Blvd.\\nTahoe City, CA 96145  530-581-6282  "
      ]
     },
     "execution_count": 566,
     "metadata": {},
     "output_type": "execute_result"
    }
   ],
   "source": [
    "df21"
   ]
  },
  {
   "cell_type": "code",
   "execution_count": 567,
   "id": "c16db68b",
   "metadata": {},
   "outputs": [],
   "source": [
    "df22 = pd.read_json(\"data_22.json.\", orient=\"index\").T"
   ]
  },
  {
   "cell_type": "code",
   "execution_count": 568,
   "id": "9c19a64e",
   "metadata": {},
   "outputs": [
    {
     "data": {
      "text/html": [
       "<div>\n",
       "<style scoped>\n",
       "    .dataframe tbody tr th:only-of-type {\n",
       "        vertical-align: middle;\n",
       "    }\n",
       "\n",
       "    .dataframe tbody tr th {\n",
       "        vertical-align: top;\n",
       "    }\n",
       "\n",
       "    .dataframe thead th {\n",
       "        text-align: right;\n",
       "    }\n",
       "</style>\n",
       "<table border=\"1\" class=\"dataframe\">\n",
       "  <thead>\n",
       "    <tr style=\"text-align: right;\">\n",
       "      <th></th>\n",
       "      <th>dept_name</th>\n",
       "      <th>dept_address</th>\n",
       "      <th>dept_phone</th>\n",
       "    </tr>\n",
       "  </thead>\n",
       "  <tbody>\n",
       "    <tr>\n",
       "      <th>0</th>\n",
       "      <td>Short-Term Rentals</td>\n",
       "      <td>COUNTY OF RIVERSIDE\\nDESERT PERMIT ASSISTANCE CENTER\\n77588 EL DUNA CT. SUITE H\\nPALM DESERT, CA 92211</td>\n",
       "      <td>(951) 955-2004</td>\n",
       "    </tr>\n",
       "  </tbody>\n",
       "</table>\n",
       "</div>"
      ],
      "text/plain": [
       "            dept_name  \\\n",
       "0  Short-Term Rentals   \n",
       "\n",
       "                                                                                             dept_address  \\\n",
       "0  COUNTY OF RIVERSIDE\\nDESERT PERMIT ASSISTANCE CENTER\\n77588 EL DUNA CT. SUITE H\\nPALM DESERT, CA 92211   \n",
       "\n",
       "       dept_phone  \n",
       "0  (951) 955-2004  "
      ]
     },
     "execution_count": 568,
     "metadata": {},
     "output_type": "execute_result"
    }
   ],
   "source": [
    "df22"
   ]
  },
  {
   "cell_type": "code",
   "execution_count": 569,
   "id": "18664720",
   "metadata": {},
   "outputs": [],
   "source": [
    "df22.insert(loc = 0,column=\"county/city\", value= \"Riverside\")"
   ]
  },
  {
   "cell_type": "code",
   "execution_count": 570,
   "id": "5c9c5d08",
   "metadata": {},
   "outputs": [
    {
     "data": {
      "text/html": [
       "<div>\n",
       "<style scoped>\n",
       "    .dataframe tbody tr th:only-of-type {\n",
       "        vertical-align: middle;\n",
       "    }\n",
       "\n",
       "    .dataframe tbody tr th {\n",
       "        vertical-align: top;\n",
       "    }\n",
       "\n",
       "    .dataframe thead th {\n",
       "        text-align: right;\n",
       "    }\n",
       "</style>\n",
       "<table border=\"1\" class=\"dataframe\">\n",
       "  <thead>\n",
       "    <tr style=\"text-align: right;\">\n",
       "      <th></th>\n",
       "      <th>county/city</th>\n",
       "      <th>dept_name</th>\n",
       "      <th>dept_address</th>\n",
       "      <th>dept_phone</th>\n",
       "    </tr>\n",
       "  </thead>\n",
       "  <tbody>\n",
       "    <tr>\n",
       "      <th>0</th>\n",
       "      <td>Riverside</td>\n",
       "      <td>Short-Term Rentals</td>\n",
       "      <td>COUNTY OF RIVERSIDE\\nDESERT PERMIT ASSISTANCE CENTER\\n77588 EL DUNA CT. SUITE H\\nPALM DESERT, CA 92211</td>\n",
       "      <td>(951) 955-2004</td>\n",
       "    </tr>\n",
       "  </tbody>\n",
       "</table>\n",
       "</div>"
      ],
      "text/plain": [
       "  county/city           dept_name  \\\n",
       "0   Riverside  Short-Term Rentals   \n",
       "\n",
       "                                                                                             dept_address  \\\n",
       "0  COUNTY OF RIVERSIDE\\nDESERT PERMIT ASSISTANCE CENTER\\n77588 EL DUNA CT. SUITE H\\nPALM DESERT, CA 92211   \n",
       "\n",
       "       dept_phone  \n",
       "0  (951) 955-2004  "
      ]
     },
     "execution_count": 570,
     "metadata": {},
     "output_type": "execute_result"
    }
   ],
   "source": [
    "df22"
   ]
  },
  {
   "cell_type": "code",
   "execution_count": 571,
   "id": "31787fba",
   "metadata": {},
   "outputs": [],
   "source": [
    "df23 = pd.read_json(\"data_23.json.\", orient=\"index\").T"
   ]
  },
  {
   "cell_type": "code",
   "execution_count": 572,
   "id": "14ec707d",
   "metadata": {},
   "outputs": [
    {
     "data": {
      "text/html": [
       "<div>\n",
       "<style scoped>\n",
       "    .dataframe tbody tr th:only-of-type {\n",
       "        vertical-align: middle;\n",
       "    }\n",
       "\n",
       "    .dataframe tbody tr th {\n",
       "        vertical-align: top;\n",
       "    }\n",
       "\n",
       "    .dataframe thead th {\n",
       "        text-align: right;\n",
       "    }\n",
       "</style>\n",
       "<table border=\"1\" class=\"dataframe\">\n",
       "  <thead>\n",
       "    <tr style=\"text-align: right;\">\n",
       "      <th></th>\n",
       "      <th>dept_name</th>\n",
       "      <th>dept_name_url</th>\n",
       "      <th>dept_address</th>\n",
       "    </tr>\n",
       "  </thead>\n",
       "  <tbody>\n",
       "    <tr>\n",
       "      <th>0</th>\n",
       "      <td>Planning and Environmental Review</td>\n",
       "      <td>https://planning.saccounty.gov/Pages/default.aspx</td>\n",
       "      <td>​Location: 827 7th Street, Sacramento, CA 95814, 1st Floor</td>\n",
       "    </tr>\n",
       "  </tbody>\n",
       "</table>\n",
       "</div>"
      ],
      "text/plain": [
       "                           dept_name  \\\n",
       "0  Planning and Environmental Review   \n",
       "\n",
       "                                       dept_name_url  \\\n",
       "0  https://planning.saccounty.gov/Pages/default.aspx   \n",
       "\n",
       "                                                 dept_address  \n",
       "0  ​Location: 827 7th Street, Sacramento, CA 95814, 1st Floor  "
      ]
     },
     "execution_count": 572,
     "metadata": {},
     "output_type": "execute_result"
    }
   ],
   "source": [
    "df23"
   ]
  },
  {
   "cell_type": "code",
   "execution_count": 573,
   "id": "a3b7ce73",
   "metadata": {},
   "outputs": [],
   "source": [
    "df23.drop(columns=\"dept_name_url\", inplace=True)"
   ]
  },
  {
   "cell_type": "code",
   "execution_count": 574,
   "id": "6f8ba5ce",
   "metadata": {},
   "outputs": [],
   "source": [
    "df23.insert(loc = 0,column=\"county/city\", value= \"Sacramento\")"
   ]
  },
  {
   "cell_type": "code",
   "execution_count": 575,
   "id": "f219e673",
   "metadata": {},
   "outputs": [
    {
     "data": {
      "text/html": [
       "<div>\n",
       "<style scoped>\n",
       "    .dataframe tbody tr th:only-of-type {\n",
       "        vertical-align: middle;\n",
       "    }\n",
       "\n",
       "    .dataframe tbody tr th {\n",
       "        vertical-align: top;\n",
       "    }\n",
       "\n",
       "    .dataframe thead th {\n",
       "        text-align: right;\n",
       "    }\n",
       "</style>\n",
       "<table border=\"1\" class=\"dataframe\">\n",
       "  <thead>\n",
       "    <tr style=\"text-align: right;\">\n",
       "      <th></th>\n",
       "      <th>county/city</th>\n",
       "      <th>dept_name</th>\n",
       "      <th>dept_address</th>\n",
       "    </tr>\n",
       "  </thead>\n",
       "  <tbody>\n",
       "    <tr>\n",
       "      <th>0</th>\n",
       "      <td>Sacramento</td>\n",
       "      <td>Planning and Environmental Review</td>\n",
       "      <td>​Location: 827 7th Street, Sacramento, CA 95814, 1st Floor</td>\n",
       "    </tr>\n",
       "  </tbody>\n",
       "</table>\n",
       "</div>"
      ],
      "text/plain": [
       "  county/city                          dept_name  \\\n",
       "0  Sacramento  Planning and Environmental Review   \n",
       "\n",
       "                                                 dept_address  \n",
       "0  ​Location: 827 7th Street, Sacramento, CA 95814, 1st Floor  "
      ]
     },
     "execution_count": 575,
     "metadata": {},
     "output_type": "execute_result"
    }
   ],
   "source": [
    "df23"
   ]
  },
  {
   "cell_type": "code",
   "execution_count": 576,
   "id": "c3c732cc",
   "metadata": {},
   "outputs": [],
   "source": [
    "df24 = pd.read_json(\"data_24.json.\", orient=\"index\").T"
   ]
  },
  {
   "cell_type": "code",
   "execution_count": 577,
   "id": "c625666f",
   "metadata": {},
   "outputs": [],
   "source": [
    "df24.insert(loc = 0,column=\"county/city\", value= \"San Bernardino\")"
   ]
  },
  {
   "cell_type": "code",
   "execution_count": 578,
   "id": "63214d44",
   "metadata": {},
   "outputs": [
    {
     "data": {
      "text/html": [
       "<div>\n",
       "<style scoped>\n",
       "    .dataframe tbody tr th:only-of-type {\n",
       "        vertical-align: middle;\n",
       "    }\n",
       "\n",
       "    .dataframe tbody tr th {\n",
       "        vertical-align: top;\n",
       "    }\n",
       "\n",
       "    .dataframe thead th {\n",
       "        text-align: right;\n",
       "    }\n",
       "</style>\n",
       "<table border=\"1\" class=\"dataframe\">\n",
       "  <thead>\n",
       "    <tr style=\"text-align: right;\">\n",
       "      <th></th>\n",
       "      <th>county/city</th>\n",
       "      <th>dept_name</th>\n",
       "      <th>dept_address</th>\n",
       "      <th>dept_phone</th>\n",
       "    </tr>\n",
       "  </thead>\n",
       "  <tbody>\n",
       "    <tr>\n",
       "      <th>0</th>\n",
       "      <td>San Bernardino</td>\n",
       "      <td>Short-Term Rentals</td>\n",
       "      <td>San Bernardino County Code Enforcement\\n268 W. Hospitality Lane, Suite 300\\nSan Bernardino, CA 92415</td>\n",
       "      <td>24/7 Complaint Line: 800-205-9417</td>\n",
       "    </tr>\n",
       "  </tbody>\n",
       "</table>\n",
       "</div>"
      ],
      "text/plain": [
       "      county/city           dept_name  \\\n",
       "0  San Bernardino  Short-Term Rentals   \n",
       "\n",
       "                                                                                           dept_address  \\\n",
       "0  San Bernardino County Code Enforcement\\n268 W. Hospitality Lane, Suite 300\\nSan Bernardino, CA 92415   \n",
       "\n",
       "                          dept_phone  \n",
       "0  24/7 Complaint Line: 800-205-9417  "
      ]
     },
     "execution_count": 578,
     "metadata": {},
     "output_type": "execute_result"
    }
   ],
   "source": [
    "df24"
   ]
  },
  {
   "cell_type": "code",
   "execution_count": 579,
   "id": "a57cf9a1",
   "metadata": {},
   "outputs": [],
   "source": [
    "df25 = pd.read_json(\"data_25.json.\", orient=\"index\").T"
   ]
  },
  {
   "cell_type": "code",
   "execution_count": 580,
   "id": "315f1cb7",
   "metadata": {},
   "outputs": [],
   "source": [
    "df25.drop(columns=\"dept_phone_url\", inplace=True)"
   ]
  },
  {
   "cell_type": "code",
   "execution_count": 581,
   "id": "18267fcb",
   "metadata": {},
   "outputs": [],
   "source": [
    "df25[\"dept_address\"] = df25.dept_address[0][:46]"
   ]
  },
  {
   "cell_type": "code",
   "execution_count": 582,
   "id": "faded70a",
   "metadata": {},
   "outputs": [],
   "source": [
    "df25.insert(loc = 0,column=\"county/city\", value= \"San Diego\")"
   ]
  },
  {
   "cell_type": "code",
   "execution_count": 583,
   "id": "ebf450fa",
   "metadata": {},
   "outputs": [],
   "source": [
    "df25.rename(columns={\"contant_person\":\"contact_person\"},inplace=True)"
   ]
  },
  {
   "cell_type": "code",
   "execution_count": 584,
   "id": "feddb093",
   "metadata": {},
   "outputs": [
    {
     "data": {
      "text/html": [
       "<div>\n",
       "<style scoped>\n",
       "    .dataframe tbody tr th:only-of-type {\n",
       "        vertical-align: middle;\n",
       "    }\n",
       "\n",
       "    .dataframe tbody tr th {\n",
       "        vertical-align: top;\n",
       "    }\n",
       "\n",
       "    .dataframe thead th {\n",
       "        text-align: right;\n",
       "    }\n",
       "</style>\n",
       "<table border=\"1\" class=\"dataframe\">\n",
       "  <thead>\n",
       "    <tr style=\"text-align: right;\">\n",
       "      <th></th>\n",
       "      <th>county/city</th>\n",
       "      <th>dept_name</th>\n",
       "      <th>dept_address</th>\n",
       "      <th>dept_phone</th>\n",
       "      <th>contact_person</th>\n",
       "    </tr>\n",
       "  </thead>\n",
       "  <tbody>\n",
       "    <tr>\n",
       "      <th>0</th>\n",
       "      <td>San Diego</td>\n",
       "      <td>Office of the City Treasurer</td>\n",
       "      <td>1200 Third Ave., Suite 100\\nSan Diego, CA 92101</td>\n",
       "      <td>619-236-6112</td>\n",
       "      <td>Elizabeth Correia\\nCity Treasurer</td>\n",
       "    </tr>\n",
       "  </tbody>\n",
       "</table>\n",
       "</div>"
      ],
      "text/plain": [
       "  county/city                     dept_name  \\\n",
       "0   San Diego  Office of the City Treasurer   \n",
       "\n",
       "                                      dept_address    dept_phone  \\\n",
       "0  1200 Third Ave., Suite 100\\nSan Diego, CA 92101  619-236-6112   \n",
       "\n",
       "                      contact_person  \n",
       "0  Elizabeth Correia\\nCity Treasurer  "
      ]
     },
     "execution_count": 584,
     "metadata": {},
     "output_type": "execute_result"
    }
   ],
   "source": [
    "df25"
   ]
  },
  {
   "cell_type": "markdown",
   "id": "50cfc44e",
   "metadata": {},
   "source": [
    "### Combining dataframes"
   ]
  },
  {
   "cell_type": "code",
   "execution_count": 585,
   "id": "f89c3b03",
   "metadata": {},
   "outputs": [],
   "source": [
    "combine_df = pd.concat([df1, df2, df3, df4, df5, df6, df7, df8, df9,\n",
    "                       df10, df11, df12, df13, df14, df15, df16, df17, df18,\n",
    "                       df19, df20, df21, df22, df23, df24, df25], ignore_index=True)"
   ]
  },
  {
   "cell_type": "code",
   "execution_count": 586,
   "id": "8642a0ca",
   "metadata": {},
   "outputs": [
    {
     "data": {
      "text/html": [
       "<div>\n",
       "<style scoped>\n",
       "    .dataframe tbody tr th:only-of-type {\n",
       "        vertical-align: middle;\n",
       "    }\n",
       "\n",
       "    .dataframe tbody tr th {\n",
       "        vertical-align: top;\n",
       "    }\n",
       "\n",
       "    .dataframe thead th {\n",
       "        text-align: right;\n",
       "    }\n",
       "</style>\n",
       "<table border=\"1\" class=\"dataframe\">\n",
       "  <thead>\n",
       "    <tr style=\"text-align: right;\">\n",
       "      <th></th>\n",
       "      <th>county/city</th>\n",
       "      <th>dept_name</th>\n",
       "      <th>dept_address</th>\n",
       "      <th>dept_phone</th>\n",
       "      <th>dept_email</th>\n",
       "      <th>contact_person</th>\n",
       "    </tr>\n",
       "  </thead>\n",
       "  <tbody>\n",
       "    <tr>\n",
       "      <th>0</th>\n",
       "      <td>Alameda</td>\n",
       "      <td>City of Alameda Rent Program</td>\n",
       "      <td>950 W. Mall Square, Room 172, Alameda, CA, 94501</td>\n",
       "      <td>510-747-7520</td>\n",
       "      <td>rentprogram@alamedaca.gov</td>\n",
       "      <td>NaN</td>\n",
       "    </tr>\n",
       "    <tr>\n",
       "      <th>1</th>\n",
       "      <td>Alpine</td>\n",
       "      <td>Planning Division</td>\n",
       "      <td>Physical Address\\n50 Diamond Valley Rd\\nMarkleeville, CA 96120</td>\n",
       "      <td>530-694-2140</td>\n",
       "      <td>NaN</td>\n",
       "      <td>Planner II Email Sarah Traiman Phone: 530-694-2140 Ext 437</td>\n",
       "    </tr>\n",
       "    <tr>\n",
       "      <th>2</th>\n",
       "      <td>Amador</td>\n",
       "      <td>Treasurer / Tax Collector</td>\n",
       "      <td>810 Court Street. Jackson, CA 95642</td>\n",
       "      <td>(209) 223-6364</td>\n",
       "      <td>mailto:TaxCollector@amadorgov.org</td>\n",
       "      <td>NaN</td>\n",
       "    </tr>\n",
       "    <tr>\n",
       "      <th>3</th>\n",
       "      <td>Butte</td>\n",
       "      <td>Planning</td>\n",
       "      <td>25 County Center Drive\\nOroville, CA 95965</td>\n",
       "      <td>530-552-3701</td>\n",
       "      <td>mailto:dsplanning@buttecounty.net</td>\n",
       "      <td>NaN</td>\n",
       "    </tr>\n",
       "    <tr>\n",
       "      <th>4</th>\n",
       "      <td>Colusa</td>\n",
       "      <td>Housing Assistance Programs</td>\n",
       "      <td>Physical Address\\n251 E. Webster Street\\nColusa, CA 95932</td>\n",
       "      <td>(530) 458-0250</td>\n",
       "      <td>mailto:amilcar.avendano@countyofcolusa.com</td>\n",
       "      <td>NaN</td>\n",
       "    </tr>\n",
       "    <tr>\n",
       "      <th>5</th>\n",
       "      <td>Contra Costa</td>\n",
       "      <td>Code Enforcement</td>\n",
       "      <td>1025 Escobar Street, Martinez, CA 94553</td>\n",
       "      <td>(925) 655-2710</td>\n",
       "      <td>NaN</td>\n",
       "      <td>NaN</td>\n",
       "    </tr>\n",
       "    <tr>\n",
       "      <th>6</th>\n",
       "      <td>Glenn</td>\n",
       "      <td>Planning &amp; Zoning</td>\n",
       "      <td>1725 Reynolds St.\\nSuite 200\\nBrunswick, GA 31520</td>\n",
       "      <td>912-554-7428</td>\n",
       "      <td>: PlanningZoning@glynncounty-ga.gov</td>\n",
       "      <td>NaN</td>\n",
       "    </tr>\n",
       "    <tr>\n",
       "      <th>7</th>\n",
       "      <td>Humboldt</td>\n",
       "      <td>Long Range Planning</td>\n",
       "      <td>Physical Address\\n3015 H St.\\nEureka, CA 95501</td>\n",
       "      <td>Phone: 707-445-7245</td>\n",
       "      <td>NaN</td>\n",
       "      <td>NaN</td>\n",
       "    </tr>\n",
       "    <tr>\n",
       "      <th>8</th>\n",
       "      <td>Inyo</td>\n",
       "      <td>PLANNING DEPARTMENT</td>\n",
       "      <td>168 N. Edwards Street - Annex Building\\nIndependence, CA93526\\nUnited States</td>\n",
       "      <td>(760) 878-0263</td>\n",
       "      <td>NaN</td>\n",
       "      <td>NaN</td>\n",
       "    </tr>\n",
       "    <tr>\n",
       "      <th>9</th>\n",
       "      <td>Kern</td>\n",
       "      <td>Taxpayer Services</td>\n",
       "      <td>Payment Center\\nP.O. Box 541004\\nLos Angeles, CA 90054-1004</td>\n",
       "      <td>(661) 868-3490</td>\n",
       "      <td>NaN</td>\n",
       "      <td>NaN</td>\n",
       "    </tr>\n",
       "    <tr>\n",
       "      <th>10</th>\n",
       "      <td>Lassen</td>\n",
       "      <td>Planning and Building Services</td>\n",
       "      <td>707 Nevada Street Ste 5\\n96130 Susanville , CA\\nSee map: Google Maps</td>\n",
       "      <td>(530) 251-8269</td>\n",
       "      <td>landuse@co.lassen.ca.us</td>\n",
       "      <td>NaN</td>\n",
       "    </tr>\n",
       "    <tr>\n",
       "      <th>11</th>\n",
       "      <td>Los Angeles</td>\n",
       "      <td>Treasurer and Tax Collector</td>\n",
       "      <td>Treasurer and Tax Collector\\nKenneth Hahn Hall of Administration\\n500 W Temple Street\\nLos Angeles, CA 90012</td>\n",
       "      <td>NaN</td>\n",
       "      <td>NaN</td>\n",
       "      <td>NaN</td>\n",
       "    </tr>\n",
       "    <tr>\n",
       "      <th>12</th>\n",
       "      <td>Madera</td>\n",
       "      <td>Planning Division</td>\n",
       "      <td>240 Tamal Vista Blvd., Suite 110\\nCorte Madera, CA 94925\\n415-927-5064</td>\n",
       "      <td>415-927-5050</td>\n",
       "      <td>NaN</td>\n",
       "      <td>NaN</td>\n",
       "    </tr>\n",
       "    <tr>\n",
       "      <th>13</th>\n",
       "      <td>Mariposa</td>\n",
       "      <td>Environmental Health</td>\n",
       "      <td>5100 Bullion StreetMariposa CA 95338</td>\n",
       "      <td>Phone: 209-966-2220 or 888-777-0377</td>\n",
       "      <td>NaN</td>\n",
       "      <td>NaN</td>\n",
       "    </tr>\n",
       "    <tr>\n",
       "      <th>14</th>\n",
       "      <td>NaN</td>\n",
       "      <td>Planning &amp; Building Services</td>\n",
       "      <td>Main Ukiah Campus:\\n501 Low Gap Road\\nUkiah, CA 95482</td>\n",
       "      <td>NaN</td>\n",
       "      <td>NaN</td>\n",
       "      <td>NaN</td>\n",
       "    </tr>\n",
       "    <tr>\n",
       "      <th>15</th>\n",
       "      <td>Merced</td>\n",
       "      <td>Tax Collector</td>\n",
       "      <td>Physical Address View Map\\n2222 M St.\\n1st Floor\\nMerced, CA 95340</td>\n",
       "      <td>(209) 385-7307</td>\n",
       "      <td>NaN</td>\n",
       "      <td>NaN</td>\n",
       "    </tr>\n",
       "    <tr>\n",
       "      <th>16</th>\n",
       "      <td>Mono</td>\n",
       "      <td>Planning Division</td>\n",
       "      <td>Mammoth Lakes Office\\n1290 Tavern Rd.\\nPO Box 347\\nMammoth Lakes, CA 93546</td>\n",
       "      <td>o. 760-924-1800\\nf. 760-924-1801</td>\n",
       "      <td>NaN</td>\n",
       "      <td>NaN</td>\n",
       "    </tr>\n",
       "    <tr>\n",
       "      <th>17</th>\n",
       "      <td>Monterey</td>\n",
       "      <td>HOUSING AND COMMUNITY DEVELOPMENT</td>\n",
       "      <td>Salinas, CA 93901</td>\n",
       "      <td>831-755-5025</td>\n",
       "      <td>NaN</td>\n",
       "      <td>NaN</td>\n",
       "    </tr>\n",
       "    <tr>\n",
       "      <th>18</th>\n",
       "      <td>Napa</td>\n",
       "      <td>Planning Division</td>\n",
       "      <td>Physical Address View Map1600 First StreetNapa, CA 94559</td>\n",
       "      <td>707-257-9530</td>\n",
       "      <td>NaN</td>\n",
       "      <td>NaN</td>\n",
       "    </tr>\n",
       "    <tr>\n",
       "      <th>19</th>\n",
       "      <td>Orange</td>\n",
       "      <td>Finance</td>\n",
       "      <td>Finance Department\\n300 E. Chapman Ave.\\nOrange, CA 92866</td>\n",
       "      <td>(714) 744-2230</td>\n",
       "      <td>NaN</td>\n",
       "      <td>NaN</td>\n",
       "    </tr>\n",
       "    <tr>\n",
       "      <th>20</th>\n",
       "      <td>Placer</td>\n",
       "      <td>Code Compliance services</td>\n",
       "      <td>TAHOE OFFICE\\n775 North Lake Blvd.\\nTahoe City, CA 96145</td>\n",
       "      <td>530-581-6282</td>\n",
       "      <td>STRcompliance@placer.ca.gov</td>\n",
       "      <td>NaN</td>\n",
       "    </tr>\n",
       "    <tr>\n",
       "      <th>21</th>\n",
       "      <td>Riverside</td>\n",
       "      <td>Short-Term Rentals</td>\n",
       "      <td>COUNTY OF RIVERSIDE\\nDESERT PERMIT ASSISTANCE CENTER\\n77588 EL DUNA CT. SUITE H\\nPALM DESERT, CA 92211</td>\n",
       "      <td>(951) 955-2004</td>\n",
       "      <td>NaN</td>\n",
       "      <td>NaN</td>\n",
       "    </tr>\n",
       "    <tr>\n",
       "      <th>22</th>\n",
       "      <td>Sacramento</td>\n",
       "      <td>Planning and Environmental Review</td>\n",
       "      <td>​Location: 827 7th Street, Sacramento, CA 95814, 1st Floor</td>\n",
       "      <td>NaN</td>\n",
       "      <td>NaN</td>\n",
       "      <td>NaN</td>\n",
       "    </tr>\n",
       "    <tr>\n",
       "      <th>23</th>\n",
       "      <td>San Bernardino</td>\n",
       "      <td>Short-Term Rentals</td>\n",
       "      <td>San Bernardino County Code Enforcement\\n268 W. Hospitality Lane, Suite 300\\nSan Bernardino, CA 92415</td>\n",
       "      <td>24/7 Complaint Line: 800-205-9417</td>\n",
       "      <td>NaN</td>\n",
       "      <td>NaN</td>\n",
       "    </tr>\n",
       "    <tr>\n",
       "      <th>24</th>\n",
       "      <td>San Diego</td>\n",
       "      <td>Office of the City Treasurer</td>\n",
       "      <td>1200 Third Ave., Suite 100\\nSan Diego, CA 92101</td>\n",
       "      <td>619-236-6112</td>\n",
       "      <td>NaN</td>\n",
       "      <td>Elizabeth Correia\\nCity Treasurer</td>\n",
       "    </tr>\n",
       "  </tbody>\n",
       "</table>\n",
       "</div>"
      ],
      "text/plain": [
       "       county/city                          dept_name  \\\n",
       "0          Alameda       City of Alameda Rent Program   \n",
       "1           Alpine                  Planning Division   \n",
       "2           Amador          Treasurer / Tax Collector   \n",
       "3            Butte                           Planning   \n",
       "4           Colusa        Housing Assistance Programs   \n",
       "5     Contra Costa                   Code Enforcement   \n",
       "6            Glenn                  Planning & Zoning   \n",
       "7         Humboldt                Long Range Planning   \n",
       "8             Inyo                PLANNING DEPARTMENT   \n",
       "9             Kern                  Taxpayer Services   \n",
       "10          Lassen     Planning and Building Services   \n",
       "11     Los Angeles        Treasurer and Tax Collector   \n",
       "12          Madera                  Planning Division   \n",
       "13        Mariposa               Environmental Health   \n",
       "14             NaN       Planning & Building Services   \n",
       "15          Merced                      Tax Collector   \n",
       "16            Mono                  Planning Division   \n",
       "17        Monterey  HOUSING AND COMMUNITY DEVELOPMENT   \n",
       "18            Napa                  Planning Division   \n",
       "19          Orange                            Finance   \n",
       "20          Placer           Code Compliance services   \n",
       "21       Riverside                 Short-Term Rentals   \n",
       "22      Sacramento  Planning and Environmental Review   \n",
       "23  San Bernardino                 Short-Term Rentals   \n",
       "24       San Diego       Office of the City Treasurer   \n",
       "\n",
       "                                                                                                    dept_address  \\\n",
       "0                                                               950 W. Mall Square, Room 172, Alameda, CA, 94501   \n",
       "1                                                 Physical Address\\n50 Diamond Valley Rd\\nMarkleeville, CA 96120   \n",
       "2                                                                            810 Court Street. Jackson, CA 95642   \n",
       "3                                                                     25 County Center Drive\\nOroville, CA 95965   \n",
       "4                                                      Physical Address\\n251 E. Webster Street\\nColusa, CA 95932   \n",
       "5                                                                        1025 Escobar Street, Martinez, CA 94553   \n",
       "6                                                              1725 Reynolds St.\\nSuite 200\\nBrunswick, GA 31520   \n",
       "7                                                                 Physical Address\\n3015 H St.\\nEureka, CA 95501   \n",
       "8                                   168 N. Edwards Street - Annex Building\\nIndependence, CA93526\\nUnited States   \n",
       "9                                                    Payment Center\\nP.O. Box 541004\\nLos Angeles, CA 90054-1004   \n",
       "10                                          707 Nevada Street Ste 5\\n96130 Susanville , CA\\nSee map: Google Maps   \n",
       "11  Treasurer and Tax Collector\\nKenneth Hahn Hall of Administration\\n500 W Temple Street\\nLos Angeles, CA 90012   \n",
       "12                                        240 Tamal Vista Blvd., Suite 110\\nCorte Madera, CA 94925\\n415-927-5064   \n",
       "13                                                                          5100 Bullion StreetMariposa CA 95338   \n",
       "14                                                         Main Ukiah Campus:\\n501 Low Gap Road\\nUkiah, CA 95482   \n",
       "15                                            Physical Address View Map\\n2222 M St.\\n1st Floor\\nMerced, CA 95340   \n",
       "16                                    Mammoth Lakes Office\\n1290 Tavern Rd.\\nPO Box 347\\nMammoth Lakes, CA 93546   \n",
       "17                                                                                             Salinas, CA 93901   \n",
       "18                                                      Physical Address View Map1600 First StreetNapa, CA 94559   \n",
       "19                                                     Finance Department\\n300 E. Chapman Ave.\\nOrange, CA 92866   \n",
       "20                                                      TAHOE OFFICE\\n775 North Lake Blvd.\\nTahoe City, CA 96145   \n",
       "21        COUNTY OF RIVERSIDE\\nDESERT PERMIT ASSISTANCE CENTER\\n77588 EL DUNA CT. SUITE H\\nPALM DESERT, CA 92211   \n",
       "22                                                    ​Location: 827 7th Street, Sacramento, CA 95814, 1st Floor   \n",
       "23          San Bernardino County Code Enforcement\\n268 W. Hospitality Lane, Suite 300\\nSan Bernardino, CA 92415   \n",
       "24                                                               1200 Third Ave., Suite 100\\nSan Diego, CA 92101   \n",
       "\n",
       "                             dept_phone  \\\n",
       "0                          510-747-7520   \n",
       "1                          530-694-2140   \n",
       "2                        (209) 223-6364   \n",
       "3                          530-552-3701   \n",
       "4                        (530) 458-0250   \n",
       "5                        (925) 655-2710   \n",
       "6                          912-554-7428   \n",
       "7                   Phone: 707-445-7245   \n",
       "8                        (760) 878-0263   \n",
       "9                        (661) 868-3490   \n",
       "10                       (530) 251-8269   \n",
       "11                                  NaN   \n",
       "12                         415-927-5050   \n",
       "13  Phone: 209-966-2220 or 888-777-0377   \n",
       "14                                  NaN   \n",
       "15                       (209) 385-7307   \n",
       "16     o. 760-924-1800\\nf. 760-924-1801   \n",
       "17                         831-755-5025   \n",
       "18                         707-257-9530   \n",
       "19                       (714) 744-2230   \n",
       "20                         530-581-6282   \n",
       "21                       (951) 955-2004   \n",
       "22                                  NaN   \n",
       "23    24/7 Complaint Line: 800-205-9417   \n",
       "24                         619-236-6112   \n",
       "\n",
       "                                    dept_email  \\\n",
       "0                    rentprogram@alamedaca.gov   \n",
       "1                                          NaN   \n",
       "2            mailto:TaxCollector@amadorgov.org   \n",
       "3            mailto:dsplanning@buttecounty.net   \n",
       "4   mailto:amilcar.avendano@countyofcolusa.com   \n",
       "5                                          NaN   \n",
       "6          : PlanningZoning@glynncounty-ga.gov   \n",
       "7                                          NaN   \n",
       "8                                          NaN   \n",
       "9                                          NaN   \n",
       "10                     landuse@co.lassen.ca.us   \n",
       "11                                         NaN   \n",
       "12                                         NaN   \n",
       "13                                         NaN   \n",
       "14                                         NaN   \n",
       "15                                         NaN   \n",
       "16                                         NaN   \n",
       "17                                         NaN   \n",
       "18                                         NaN   \n",
       "19                                         NaN   \n",
       "20                 STRcompliance@placer.ca.gov   \n",
       "21                                         NaN   \n",
       "22                                         NaN   \n",
       "23                                         NaN   \n",
       "24                                         NaN   \n",
       "\n",
       "                                                contact_person  \n",
       "0                                                          NaN  \n",
       "1   Planner II Email Sarah Traiman Phone: 530-694-2140 Ext 437  \n",
       "2                                                          NaN  \n",
       "3                                                          NaN  \n",
       "4                                                          NaN  \n",
       "5                                                          NaN  \n",
       "6                                                          NaN  \n",
       "7                                                          NaN  \n",
       "8                                                          NaN  \n",
       "9                                                          NaN  \n",
       "10                                                         NaN  \n",
       "11                                                         NaN  \n",
       "12                                                         NaN  \n",
       "13                                                         NaN  \n",
       "14                                                         NaN  \n",
       "15                                                         NaN  \n",
       "16                                                         NaN  \n",
       "17                                                         NaN  \n",
       "18                                                         NaN  \n",
       "19                                                         NaN  \n",
       "20                                                         NaN  \n",
       "21                                                         NaN  \n",
       "22                                                         NaN  \n",
       "23                                                         NaN  \n",
       "24                           Elizabeth Correia\\nCity Treasurer  "
      ]
     },
     "execution_count": 586,
     "metadata": {},
     "output_type": "execute_result"
    }
   ],
   "source": [
    "combine_df"
   ]
  },
  {
   "cell_type": "code",
   "execution_count": 587,
   "id": "19945555",
   "metadata": {},
   "outputs": [
    {
     "data": {
      "text/plain": [
       "0                                                                 950 W. Mall Square, Room 172, Alameda, CA, 94501\n",
       "1                                                   Physical Address\\n50 Diamond Valley Rd\\nMarkleeville, CA 96120\n",
       "2                                                                              810 Court Street. Jackson, CA 95642\n",
       "3                                                                       25 County Center Drive\\nOroville, CA 95965\n",
       "4                                                        Physical Address\\n251 E. Webster Street\\nColusa, CA 95932\n",
       "5                                                                          1025 Escobar Street, Martinez, CA 94553\n",
       "6                                                                1725 Reynolds St.\\nSuite 200\\nBrunswick, GA 31520\n",
       "7                                                                   Physical Address\\n3015 H St.\\nEureka, CA 95501\n",
       "8                                     168 N. Edwards Street - Annex Building\\nIndependence, CA93526\\nUnited States\n",
       "9                                                      Payment Center\\nP.O. Box 541004\\nLos Angeles, CA 90054-1004\n",
       "10                                            707 Nevada Street Ste 5\\n96130 Susanville , CA\\nSee map: Google Maps\n",
       "11    Treasurer and Tax Collector\\nKenneth Hahn Hall of Administration\\n500 W Temple Street\\nLos Angeles, CA 90012\n",
       "12                                          240 Tamal Vista Blvd., Suite 110\\nCorte Madera, CA 94925\\n415-927-5064\n",
       "13                                                                            5100 Bullion StreetMariposa CA 95338\n",
       "14                                                           Main Ukiah Campus:\\n501 Low Gap Road\\nUkiah, CA 95482\n",
       "15                                              Physical Address View Map\\n2222 M St.\\n1st Floor\\nMerced, CA 95340\n",
       "16                                      Mammoth Lakes Office\\n1290 Tavern Rd.\\nPO Box 347\\nMammoth Lakes, CA 93546\n",
       "17                                                                                               Salinas, CA 93901\n",
       "18                                                        Physical Address View Map1600 First StreetNapa, CA 94559\n",
       "19                                                       Finance Department\\n300 E. Chapman Ave.\\nOrange, CA 92866\n",
       "20                                                        TAHOE OFFICE\\n775 North Lake Blvd.\\nTahoe City, CA 96145\n",
       "21          COUNTY OF RIVERSIDE\\nDESERT PERMIT ASSISTANCE CENTER\\n77588 EL DUNA CT. SUITE H\\nPALM DESERT, CA 92211\n",
       "22                                                      ​Location: 827 7th Street, Sacramento, CA 95814, 1st Floor\n",
       "23            San Bernardino County Code Enforcement\\n268 W. Hospitality Lane, Suite 300\\nSan Bernardino, CA 92415\n",
       "24                                                                 1200 Third Ave., Suite 100\\nSan Diego, CA 92101\n",
       "Name: dept_address, dtype: object"
      ]
     },
     "execution_count": 587,
     "metadata": {},
     "output_type": "execute_result"
    }
   ],
   "source": [
    "combine_df.dept_address"
   ]
  },
  {
   "cell_type": "code",
   "execution_count": 588,
   "id": "0a791ef8",
   "metadata": {},
   "outputs": [],
   "source": [
    "combine_df.dept_address = combine_df.dept_address.apply(lambda x: x.replace(\"\\n\", \" \"))"
   ]
  },
  {
   "cell_type": "code",
   "execution_count": 593,
   "id": "e072b740",
   "metadata": {},
   "outputs": [],
   "source": [
    "combine_df.dept_email = combine_df.dept_email.fillna(\"-\")"
   ]
  },
  {
   "cell_type": "code",
   "execution_count": 594,
   "id": "2ad1d581",
   "metadata": {
    "scrolled": false
   },
   "outputs": [],
   "source": [
    "combine_df.dept_email = combine_df.dept_email.apply(lambda x: x.replace(\"\\n\", \"-\"))"
   ]
  },
  {
   "cell_type": "code",
   "execution_count": 597,
   "id": "e6eb0fc2",
   "metadata": {},
   "outputs": [],
   "source": [
    "combine_df.contact_person = combine_df.contact_person.fillna(\"-\")"
   ]
  },
  {
   "cell_type": "code",
   "execution_count": 598,
   "id": "e88e4854",
   "metadata": {},
   "outputs": [],
   "source": [
    "combine_df.contact_person = combine_df.contact_person.apply(lambda x: x.replace(\"\\n\", \"-\"))"
   ]
  },
  {
   "cell_type": "code",
   "execution_count": null,
   "id": "78f74683",
   "metadata": {},
   "outputs": [],
   "source": []
  },
  {
   "cell_type": "code",
   "execution_count": 600,
   "id": "0c658935",
   "metadata": {
    "scrolled": false
   },
   "outputs": [],
   "source": [
    "combine_df.to_csv(\"combined_df.csv\", index=False)"
   ]
  },
  {
   "cell_type": "code",
   "execution_count": null,
   "id": "a8d22528",
   "metadata": {},
   "outputs": [],
   "source": []
  },
  {
   "cell_type": "code",
   "execution_count": null,
   "id": "f1e2117d",
   "metadata": {},
   "outputs": [],
   "source": []
  },
  {
   "cell_type": "code",
   "execution_count": 590,
   "id": "25182220",
   "metadata": {
    "scrolled": true
   },
   "outputs": [],
   "source": [
    "#df1.dept_details"
   ]
  },
  {
   "cell_type": "code",
   "execution_count": 591,
   "id": "33fa47bc",
   "metadata": {},
   "outputs": [],
   "source": [
    "def dave(david):\n",
    "    david **2"
   ]
  }
 ],
 "metadata": {
  "kernelspec": {
   "display_name": "Python 3 (ipykernel)",
   "language": "python",
   "name": "python3"
  },
  "language_info": {
   "codemirror_mode": {
    "name": "ipython",
    "version": 3
   },
   "file_extension": ".py",
   "mimetype": "text/x-python",
   "name": "python",
   "nbconvert_exporter": "python",
   "pygments_lexer": "ipython3",
   "version": "3.9.15"
  }
 },
 "nbformat": 4,
 "nbformat_minor": 5
}
