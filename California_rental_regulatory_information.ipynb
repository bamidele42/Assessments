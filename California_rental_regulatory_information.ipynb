{
 "cells": [
  {
   "cell_type": "markdown",
   "id": "157edd64",
   "metadata": {},
   "source": [
    "# Data cleaning, Manipulation & Concatenation"
   ]
  },
  {
   "cell_type": "markdown",
   "id": "fc86f4f3",
   "metadata": {},
   "source": [
    "## Import pandas Library"
   ]
  },
  {
   "cell_type": "code",
   "execution_count": 982,
   "id": "2e8aacfd",
   "metadata": {},
   "outputs": [],
   "source": [
    "import pandas as pd"
   ]
  },
  {
   "cell_type": "code",
   "execution_count": 983,
   "id": "d3d0c23a",
   "metadata": {},
   "outputs": [],
   "source": [
    "# Read in the first data\n",
    "# data was Transposed\n",
    "df_1= pd.read_json(\"df_1.json\", orient=\"index\").T"
   ]
  },
  {
   "cell_type": "code",
   "execution_count": 984,
   "id": "93de23c5",
   "metadata": {},
   "outputs": [],
   "source": [
    "df_1[\"dept_phone\"] = df_1.dept_phone[0][7:]"
   ]
  },
  {
   "cell_type": "code",
   "execution_count": 985,
   "id": "24a2c54a",
   "metadata": {},
   "outputs": [],
   "source": [
    "df_1[\"dept_fax\"] = df_1.dept_fax[0][5:]\n",
    "df_1.dept_website = df_1.dept_website[0][:29]"
   ]
  },
  {
   "cell_type": "code",
   "execution_count": 986,
   "id": "d995bfdc",
   "metadata": {},
   "outputs": [],
   "source": [
    "df_1.insert(loc = 0,column=\"city_name\", value= \"Adelanto\")"
   ]
  },
  {
   "cell_type": "code",
   "execution_count": 987,
   "id": "b5483eb6",
   "metadata": {},
   "outputs": [],
   "source": [
    "df_1.drop(columns=[\"dept_website_url\", \"dept_website_url\"], inplace=True)"
   ]
  },
  {
   "cell_type": "code",
   "execution_count": 988,
   "id": "62b72f42",
   "metadata": {},
   "outputs": [
    {
     "data": {
      "text/html": [
       "<div>\n",
       "<style scoped>\n",
       "    .dataframe tbody tr th:only-of-type {\n",
       "        vertical-align: middle;\n",
       "    }\n",
       "\n",
       "    .dataframe tbody tr th {\n",
       "        vertical-align: top;\n",
       "    }\n",
       "\n",
       "    .dataframe thead th {\n",
       "        text-align: right;\n",
       "    }\n",
       "</style>\n",
       "<table border=\"1\" class=\"dataframe\">\n",
       "  <thead>\n",
       "    <tr style=\"text-align: right;\">\n",
       "      <th></th>\n",
       "      <th>city_name</th>\n",
       "      <th>dept_name</th>\n",
       "      <th>dept_address</th>\n",
       "      <th>dept_phone</th>\n",
       "      <th>dept_fax</th>\n",
       "      <th>dept_website</th>\n",
       "    </tr>\n",
       "  </thead>\n",
       "  <tbody>\n",
       "    <tr>\n",
       "      <th>0</th>\n",
       "      <td>Adelanto</td>\n",
       "      <td>Code Compliance</td>\n",
       "      <td>Physical Address\\n11600 Air Expressway\\nAdelanto, CA 92301</td>\n",
       "      <td>442-249-1177</td>\n",
       "      <td>442-249-1161</td>\n",
       "      <td>https://www.ci.adelanto.ca.us</td>\n",
       "    </tr>\n",
       "  </tbody>\n",
       "</table>\n",
       "</div>"
      ],
      "text/plain": [
       "  city_name        dept_name  \\\n",
       "0  Adelanto  Code Compliance   \n",
       "\n",
       "                                                 dept_address    dept_phone  \\\n",
       "0  Physical Address\\n11600 Air Expressway\\nAdelanto, CA 92301  442-249-1177   \n",
       "\n",
       "       dept_fax                   dept_website  \n",
       "0  442-249-1161  https://www.ci.adelanto.ca.us  "
      ]
     },
     "execution_count": 988,
     "metadata": {},
     "output_type": "execute_result"
    }
   ],
   "source": [
    "df_1"
   ]
  },
  {
   "cell_type": "code",
   "execution_count": 989,
   "id": "21023fdb",
   "metadata": {},
   "outputs": [],
   "source": [
    "df_2 = pd.read_json(\"df_2.json\", orient=\"index\") # This line read the data"
   ]
  },
  {
   "cell_type": "code",
   "execution_count": 990,
   "id": "863b960d",
   "metadata": {},
   "outputs": [],
   "source": [
    "df_2 = df_2.T #This line transpose the data"
   ]
  },
  {
   "cell_type": "code",
   "execution_count": 991,
   "id": "c52a9f6d",
   "metadata": {},
   "outputs": [],
   "source": [
    "df_2.insert(loc = 0,column=\"city_name\", value= \"City of Agoura Hills\")"
   ]
  },
  {
   "cell_type": "code",
   "execution_count": 992,
   "id": "9d351b62",
   "metadata": {},
   "outputs": [
    {
     "data": {
      "text/html": [
       "<div>\n",
       "<style scoped>\n",
       "    .dataframe tbody tr th:only-of-type {\n",
       "        vertical-align: middle;\n",
       "    }\n",
       "\n",
       "    .dataframe tbody tr th {\n",
       "        vertical-align: top;\n",
       "    }\n",
       "\n",
       "    .dataframe thead th {\n",
       "        text-align: right;\n",
       "    }\n",
       "</style>\n",
       "<table border=\"1\" class=\"dataframe\">\n",
       "  <thead>\n",
       "    <tr style=\"text-align: right;\">\n",
       "      <th></th>\n",
       "      <th>city_name</th>\n",
       "      <th>dept_name</th>\n",
       "      <th>dept_address</th>\n",
       "      <th>dept_phone</th>\n",
       "      <th>dept_fax</th>\n",
       "      <th>dept_website</th>\n",
       "    </tr>\n",
       "  </thead>\n",
       "  <tbody>\n",
       "    <tr>\n",
       "      <th>0</th>\n",
       "      <td>City of Agoura Hills</td>\n",
       "      <td>Building and Safety Division</td>\n",
       "      <td>Contact Information\\n30001 Ladyface Ct. Agoura Hills, CA 91301</td>\n",
       "      <td>(818) 597-7334</td>\n",
       "      <td>(818) 597-7352</td>\n",
       "      <td>Permits@AgouraHillsCity.org</td>\n",
       "    </tr>\n",
       "  </tbody>\n",
       "</table>\n",
       "</div>"
      ],
      "text/plain": [
       "              city_name                     dept_name  \\\n",
       "0  City of Agoura Hills  Building and Safety Division   \n",
       "\n",
       "                                                     dept_address  \\\n",
       "0  Contact Information\\n30001 Ladyface Ct. Agoura Hills, CA 91301   \n",
       "\n",
       "       dept_phone        dept_fax                 dept_website  \n",
       "0  (818) 597-7334  (818) 597-7352  Permits@AgouraHillsCity.org  "
      ]
     },
     "execution_count": 992,
     "metadata": {},
     "output_type": "execute_result"
    }
   ],
   "source": [
    "df_2"
   ]
  },
  {
   "cell_type": "code",
   "execution_count": 993,
   "id": "04a6cf89",
   "metadata": {},
   "outputs": [],
   "source": [
    "df_3 = pd.read_json(\"df_3.json\", orient=\"index\") # This line reads the data"
   ]
  },
  {
   "cell_type": "code",
   "execution_count": 994,
   "id": "7475756d",
   "metadata": {},
   "outputs": [],
   "source": [
    "df_3 = df_3.T # This line transpose the data"
   ]
  },
  {
   "cell_type": "code",
   "execution_count": 995,
   "id": "78549b01",
   "metadata": {},
   "outputs": [],
   "source": [
    "df_3.drop(columns=\"selection1\", inplace=True)"
   ]
  },
  {
   "cell_type": "code",
   "execution_count": 996,
   "id": "92851884",
   "metadata": {},
   "outputs": [],
   "source": [
    "df_3.insert(loc = 0,column=\"city_name\", value= \"Alameda\")"
   ]
  },
  {
   "cell_type": "code",
   "execution_count": 997,
   "id": "15754afc",
   "metadata": {},
   "outputs": [],
   "source": [
    "df_3.drop(columns=[\"dept_email_url\", \"dept_website_url\"], inplace=True)"
   ]
  },
  {
   "cell_type": "code",
   "execution_count": 998,
   "id": "7bf09499",
   "metadata": {},
   "outputs": [
    {
     "data": {
      "text/html": [
       "<div>\n",
       "<style scoped>\n",
       "    .dataframe tbody tr th:only-of-type {\n",
       "        vertical-align: middle;\n",
       "    }\n",
       "\n",
       "    .dataframe tbody tr th {\n",
       "        vertical-align: top;\n",
       "    }\n",
       "\n",
       "    .dataframe thead th {\n",
       "        text-align: right;\n",
       "    }\n",
       "</style>\n",
       "<table border=\"1\" class=\"dataframe\">\n",
       "  <thead>\n",
       "    <tr style=\"text-align: right;\">\n",
       "      <th></th>\n",
       "      <th>city_name</th>\n",
       "      <th>dept_name</th>\n",
       "      <th>dept_phone</th>\n",
       "      <th>dept_fax</th>\n",
       "      <th>dept_email</th>\n",
       "      <th>dept_website</th>\n",
       "    </tr>\n",
       "  </thead>\n",
       "  <tbody>\n",
       "    <tr>\n",
       "      <th>0</th>\n",
       "      <td>Alameda</td>\n",
       "      <td>Rent Program</td>\n",
       "      <td>510-747-7520</td>\n",
       "      <td>510-865-4028</td>\n",
       "      <td>rentprogram@alamedaca.gov</td>\n",
       "      <td>Alameda Rent Program</td>\n",
       "    </tr>\n",
       "  </tbody>\n",
       "</table>\n",
       "</div>"
      ],
      "text/plain": [
       "  city_name     dept_name    dept_phone      dept_fax  \\\n",
       "0   Alameda  Rent Program  510-747-7520  510-865-4028   \n",
       "\n",
       "                  dept_email          dept_website  \n",
       "0  rentprogram@alamedaca.gov  Alameda Rent Program  "
      ]
     },
     "execution_count": 998,
     "metadata": {},
     "output_type": "execute_result"
    }
   ],
   "source": [
    "df_3"
   ]
  },
  {
   "cell_type": "code",
   "execution_count": 999,
   "id": "6d13387c",
   "metadata": {},
   "outputs": [],
   "source": [
    "df_4 = pd.read_json(\"df_4.json\", orient=\"index\") # This line reads the data"
   ]
  },
  {
   "cell_type": "code",
   "execution_count": 1000,
   "id": "a1f5eb1f",
   "metadata": {},
   "outputs": [],
   "source": [
    "df_4 = df_4.T # This line transpose the data"
   ]
  },
  {
   "cell_type": "code",
   "execution_count": 1001,
   "id": "3eeb68be",
   "metadata": {},
   "outputs": [
    {
     "data": {
      "text/html": [
       "<div>\n",
       "<style scoped>\n",
       "    .dataframe tbody tr th:only-of-type {\n",
       "        vertical-align: middle;\n",
       "    }\n",
       "\n",
       "    .dataframe tbody tr th {\n",
       "        vertical-align: top;\n",
       "    }\n",
       "\n",
       "    .dataframe thead th {\n",
       "        text-align: right;\n",
       "    }\n",
       "</style>\n",
       "<table border=\"1\" class=\"dataframe\">\n",
       "  <thead>\n",
       "    <tr style=\"text-align: right;\">\n",
       "      <th></th>\n",
       "      <th>dept_name</th>\n",
       "      <th>dept_address</th>\n",
       "    </tr>\n",
       "  </thead>\n",
       "  <tbody>\n",
       "    <tr>\n",
       "      <th>0</th>\n",
       "      <td>Code Requirements &amp; Enforcement</td>\n",
       "      <td>Community Development\\nBuilding Division\\n1000 San Pablo Avenue\\nAlbany, CA 94706\\n1 + (510) 528-5760\\nEmail</td>\n",
       "    </tr>\n",
       "  </tbody>\n",
       "</table>\n",
       "</div>"
      ],
      "text/plain": [
       "                         dept_name  \\\n",
       "0  Code Requirements & Enforcement   \n",
       "\n",
       "                                                                                                   dept_address  \n",
       "0  Community Development\\nBuilding Division\\n1000 San Pablo Avenue\\nAlbany, CA 94706\\n1 + (510) 528-5760\\nEmail  "
      ]
     },
     "execution_count": 1001,
     "metadata": {},
     "output_type": "execute_result"
    }
   ],
   "source": [
    "df_4"
   ]
  },
  {
   "cell_type": "code",
   "execution_count": 1002,
   "id": "152fee76",
   "metadata": {},
   "outputs": [],
   "source": [
    "dept_phone = df_4.dept_address[0][81:97]"
   ]
  },
  {
   "cell_type": "code",
   "execution_count": 1003,
   "id": "4e23f621",
   "metadata": {},
   "outputs": [],
   "source": [
    "df_4[\"dept_phone\"] = dept_phone"
   ]
  },
  {
   "cell_type": "code",
   "execution_count": 1004,
   "id": "fc28c124",
   "metadata": {},
   "outputs": [
    {
     "data": {
      "text/html": [
       "<div>\n",
       "<style scoped>\n",
       "    .dataframe tbody tr th:only-of-type {\n",
       "        vertical-align: middle;\n",
       "    }\n",
       "\n",
       "    .dataframe tbody tr th {\n",
       "        vertical-align: top;\n",
       "    }\n",
       "\n",
       "    .dataframe thead th {\n",
       "        text-align: right;\n",
       "    }\n",
       "</style>\n",
       "<table border=\"1\" class=\"dataframe\">\n",
       "  <thead>\n",
       "    <tr style=\"text-align: right;\">\n",
       "      <th></th>\n",
       "      <th>city_name</th>\n",
       "      <th>dept_name</th>\n",
       "      <th>dept_address</th>\n",
       "      <th>dept_phone</th>\n",
       "    </tr>\n",
       "  </thead>\n",
       "  <tbody>\n",
       "    <tr>\n",
       "      <th>0</th>\n",
       "      <td>Albany</td>\n",
       "      <td>Code Requirements &amp; Enforcement</td>\n",
       "      <td>Community Development\\nBuilding Division\\n1000 San Pablo Avenue\\nAlbany, CA 94706\\n1 + (510) 528-5760\\nEmail</td>\n",
       "      <td>+ (510) 528-5760</td>\n",
       "    </tr>\n",
       "  </tbody>\n",
       "</table>\n",
       "</div>"
      ],
      "text/plain": [
       "  city_name                        dept_name  \\\n",
       "0    Albany  Code Requirements & Enforcement   \n",
       "\n",
       "                                                                                                   dept_address  \\\n",
       "0  Community Development\\nBuilding Division\\n1000 San Pablo Avenue\\nAlbany, CA 94706\\n1 + (510) 528-5760\\nEmail   \n",
       "\n",
       "         dept_phone  \n",
       "0  + (510) 528-5760  "
      ]
     },
     "execution_count": 1004,
     "metadata": {},
     "output_type": "execute_result"
    }
   ],
   "source": [
    "df_4.insert(loc = 0,column=\"city_name\", value= \"Albany\")\n",
    "df_4"
   ]
  },
  {
   "cell_type": "code",
   "execution_count": 1005,
   "id": "7e5cc802",
   "metadata": {},
   "outputs": [],
   "source": [
    "df_5 = pd.read_json(\"df_5.json\", orient=\"index\") # This line reads the data"
   ]
  },
  {
   "cell_type": "code",
   "execution_count": 1006,
   "id": "7e74548d",
   "metadata": {},
   "outputs": [],
   "source": [
    "df_5 = df_5.T # This line transpose the data"
   ]
  },
  {
   "cell_type": "code",
   "execution_count": 1007,
   "id": "770ec655",
   "metadata": {},
   "outputs": [],
   "source": [
    "df_5.insert(loc = 0,column=\"city_name\", value= \"City of Alhambra\")"
   ]
  },
  {
   "cell_type": "code",
   "execution_count": 1008,
   "id": "293a7224",
   "metadata": {},
   "outputs": [
    {
     "data": {
      "text/html": [
       "<div>\n",
       "<style scoped>\n",
       "    .dataframe tbody tr th:only-of-type {\n",
       "        vertical-align: middle;\n",
       "    }\n",
       "\n",
       "    .dataframe tbody tr th {\n",
       "        vertical-align: top;\n",
       "    }\n",
       "\n",
       "    .dataframe thead th {\n",
       "        text-align: right;\n",
       "    }\n",
       "</style>\n",
       "<table border=\"1\" class=\"dataframe\">\n",
       "  <thead>\n",
       "    <tr style=\"text-align: right;\">\n",
       "      <th></th>\n",
       "      <th>city_name</th>\n",
       "      <th>dept_name</th>\n",
       "      <th>dept_address</th>\n",
       "      <th>dept_phone</th>\n",
       "      <th>dept_email</th>\n",
       "    </tr>\n",
       "  </thead>\n",
       "  <tbody>\n",
       "    <tr>\n",
       "      <th>0</th>\n",
       "      <td>City of Alhambra</td>\n",
       "      <td>Code Enforcement Division</td>\n",
       "      <td>Physical Address View Map\\n111 South First Street\\nAlhambra, CA 91801</td>\n",
       "      <td>626-570-3230</td>\n",
       "      <td>Email Code Enforcement</td>\n",
       "    </tr>\n",
       "  </tbody>\n",
       "</table>\n",
       "</div>"
      ],
      "text/plain": [
       "          city_name                  dept_name  \\\n",
       "0  City of Alhambra  Code Enforcement Division   \n",
       "\n",
       "                                                            dept_address  \\\n",
       "0  Physical Address View Map\\n111 South First Street\\nAlhambra, CA 91801   \n",
       "\n",
       "     dept_phone              dept_email  \n",
       "0  626-570-3230  Email Code Enforcement  "
      ]
     },
     "execution_count": 1008,
     "metadata": {},
     "output_type": "execute_result"
    }
   ],
   "source": [
    "df_5.drop(columns= [\"dept_phone_url\",\"dept_email_url\"], inplace=True)\n",
    "df_5"
   ]
  },
  {
   "cell_type": "code",
   "execution_count": 1009,
   "id": "85a4d138",
   "metadata": {},
   "outputs": [],
   "source": [
    "df_6 = pd.read_json(\"df_6.json\", orient=\"index\") # This line reads the data"
   ]
  },
  {
   "cell_type": "code",
   "execution_count": 1010,
   "id": "a184371e",
   "metadata": {},
   "outputs": [],
   "source": [
    "df_6 = df_6.T #This line transpose the data"
   ]
  },
  {
   "cell_type": "code",
   "execution_count": 1011,
   "id": "d29e03a2",
   "metadata": {},
   "outputs": [],
   "source": [
    "dept_phone = df_6.dept_details[0][30:42]"
   ]
  },
  {
   "cell_type": "code",
   "execution_count": 1012,
   "id": "25f0af9e",
   "metadata": {},
   "outputs": [],
   "source": [
    "df_6[\"dept_phone\"] =dept_phone"
   ]
  },
  {
   "cell_type": "code",
   "execution_count": 1013,
   "id": "53de7b1f",
   "metadata": {},
   "outputs": [
    {
     "data": {
      "text/html": [
       "<div>\n",
       "<style scoped>\n",
       "    .dataframe tbody tr th:only-of-type {\n",
       "        vertical-align: middle;\n",
       "    }\n",
       "\n",
       "    .dataframe tbody tr th {\n",
       "        vertical-align: top;\n",
       "    }\n",
       "\n",
       "    .dataframe thead th {\n",
       "        text-align: right;\n",
       "    }\n",
       "</style>\n",
       "<table border=\"1\" class=\"dataframe\">\n",
       "  <thead>\n",
       "    <tr style=\"text-align: right;\">\n",
       "      <th></th>\n",
       "      <th>dept_name</th>\n",
       "      <th>dept_details</th>\n",
       "      <th>dept_phone</th>\n",
       "    </tr>\n",
       "  </thead>\n",
       "  <tbody>\n",
       "    <tr>\n",
       "      <th>0</th>\n",
       "      <td>Code Enforcement</td>\n",
       "      <td>Community Preservation\\nPhone: 714-765-5158\\nReport Graffiti: 714-765-4311\\nCity Hall\\n200 S Anaheim Boulevard\\n5th Floor, Suite 525\\nAnaheim, CA 92805\\nMap\\nHours\\nMonday - Friday\\n8 a.m. - 5 p.m.</td>\n",
       "      <td>714-765-5158</td>\n",
       "    </tr>\n",
       "  </tbody>\n",
       "</table>\n",
       "</div>"
      ],
      "text/plain": [
       "          dept_name  \\\n",
       "0  Code Enforcement   \n",
       "\n",
       "                                                                                                                                                                                            dept_details  \\\n",
       "0  Community Preservation\\nPhone: 714-765-5158\\nReport Graffiti: 714-765-4311\\nCity Hall\\n200 S Anaheim Boulevard\\n5th Floor, Suite 525\\nAnaheim, CA 92805\\nMap\\nHours\\nMonday - Friday\\n8 a.m. - 5 p.m.   \n",
       "\n",
       "     dept_phone  \n",
       "0  714-765-5158  "
      ]
     },
     "execution_count": 1013,
     "metadata": {},
     "output_type": "execute_result"
    }
   ],
   "source": [
    "df_6"
   ]
  },
  {
   "cell_type": "code",
   "execution_count": 1014,
   "id": "34f3f4b0",
   "metadata": {},
   "outputs": [],
   "source": [
    "dept_address = df_6.dept_details[0][73:145]"
   ]
  },
  {
   "cell_type": "code",
   "execution_count": 1015,
   "id": "794b9e06",
   "metadata": {},
   "outputs": [],
   "source": [
    "df_6[\"dept_address\"] = dept_address"
   ]
  },
  {
   "cell_type": "code",
   "execution_count": 1016,
   "id": "7e165561",
   "metadata": {},
   "outputs": [],
   "source": [
    "df_6.insert(loc = 0,column=\"city_name\", value= \"Amador City\")"
   ]
  },
  {
   "cell_type": "code",
   "execution_count": 1017,
   "id": "ad25b4f6",
   "metadata": {},
   "outputs": [],
   "source": [
    "df_6.drop(columns=\"dept_details\", inplace=True)"
   ]
  },
  {
   "cell_type": "code",
   "execution_count": 1018,
   "id": "13938765",
   "metadata": {},
   "outputs": [
    {
     "data": {
      "text/html": [
       "<div>\n",
       "<style scoped>\n",
       "    .dataframe tbody tr th:only-of-type {\n",
       "        vertical-align: middle;\n",
       "    }\n",
       "\n",
       "    .dataframe tbody tr th {\n",
       "        vertical-align: top;\n",
       "    }\n",
       "\n",
       "    .dataframe thead th {\n",
       "        text-align: right;\n",
       "    }\n",
       "</style>\n",
       "<table border=\"1\" class=\"dataframe\">\n",
       "  <thead>\n",
       "    <tr style=\"text-align: right;\">\n",
       "      <th></th>\n",
       "      <th>city_name</th>\n",
       "      <th>dept_name</th>\n",
       "      <th>dept_phone</th>\n",
       "      <th>dept_address</th>\n",
       "    </tr>\n",
       "  </thead>\n",
       "  <tbody>\n",
       "    <tr>\n",
       "      <th>0</th>\n",
       "      <td>Amador City</td>\n",
       "      <td>Code Enforcement</td>\n",
       "      <td>714-765-5158</td>\n",
       "      <td>City Hall\\n200 S Anaheim Boulevard\\n5th Floor, Suite 525\\nAnaheim, CA 92805</td>\n",
       "    </tr>\n",
       "  </tbody>\n",
       "</table>\n",
       "</div>"
      ],
      "text/plain": [
       "     city_name         dept_name    dept_phone  \\\n",
       "0  Amador City  Code Enforcement  714-765-5158   \n",
       "\n",
       "                                                                  dept_address  \n",
       "0  City Hall\\n200 S Anaheim Boulevard\\n5th Floor, Suite 525\\nAnaheim, CA 92805  "
      ]
     },
     "execution_count": 1018,
     "metadata": {},
     "output_type": "execute_result"
    }
   ],
   "source": [
    "df_6"
   ]
  },
  {
   "cell_type": "code",
   "execution_count": 1019,
   "id": "5dcb5eb0",
   "metadata": {},
   "outputs": [],
   "source": [
    "df_7 = pd.read_json(\"df_7.json\", orient=\"index\") # This line reads the data"
   ]
  },
  {
   "cell_type": "code",
   "execution_count": 1020,
   "id": "69d8c128",
   "metadata": {},
   "outputs": [],
   "source": [
    "df_7 = df_7.T # This line transposes the data"
   ]
  },
  {
   "cell_type": "code",
   "execution_count": 1021,
   "id": "4dc77fb9",
   "metadata": {},
   "outputs": [
    {
     "data": {
      "text/html": [
       "<div>\n",
       "<style scoped>\n",
       "    .dataframe tbody tr th:only-of-type {\n",
       "        vertical-align: middle;\n",
       "    }\n",
       "\n",
       "    .dataframe tbody tr th {\n",
       "        vertical-align: top;\n",
       "    }\n",
       "\n",
       "    .dataframe thead th {\n",
       "        text-align: right;\n",
       "    }\n",
       "</style>\n",
       "<table border=\"1\" class=\"dataframe\">\n",
       "  <thead>\n",
       "    <tr style=\"text-align: right;\">\n",
       "      <th></th>\n",
       "      <th>dept_name</th>\n",
       "      <th>dept_address</th>\n",
       "    </tr>\n",
       "  </thead>\n",
       "  <tbody>\n",
       "    <tr>\n",
       "      <th>0</th>\n",
       "      <td>Code Enforcement</td>\n",
       "      <td>City of Anderson\\n1887 Howard St, Anderson CA 96007\\n530-378-6626\\n©2023 All Rights Reserved Anderson, CA</td>\n",
       "    </tr>\n",
       "  </tbody>\n",
       "</table>\n",
       "</div>"
      ],
      "text/plain": [
       "          dept_name  \\\n",
       "0  Code Enforcement   \n",
       "\n",
       "                                                                                                dept_address  \n",
       "0  City of Anderson\\n1887 Howard St, Anderson CA 96007\\n530-378-6626\\n©2023 All Rights Reserved Anderson, CA  "
      ]
     },
     "execution_count": 1021,
     "metadata": {},
     "output_type": "execute_result"
    }
   ],
   "source": [
    "df_7"
   ]
  },
  {
   "cell_type": "code",
   "execution_count": 1022,
   "id": "9cbe5258",
   "metadata": {},
   "outputs": [],
   "source": [
    "dept_phone = df_7.dept_address[0][51:63]"
   ]
  },
  {
   "cell_type": "code",
   "execution_count": 1023,
   "id": "384860c2",
   "metadata": {},
   "outputs": [],
   "source": [
    "df_7[\"dept_phone\"] = dept_phone"
   ]
  },
  {
   "cell_type": "code",
   "execution_count": 1024,
   "id": "d5f59bd6",
   "metadata": {},
   "outputs": [
    {
     "data": {
      "text/html": [
       "<div>\n",
       "<style scoped>\n",
       "    .dataframe tbody tr th:only-of-type {\n",
       "        vertical-align: middle;\n",
       "    }\n",
       "\n",
       "    .dataframe tbody tr th {\n",
       "        vertical-align: top;\n",
       "    }\n",
       "\n",
       "    .dataframe thead th {\n",
       "        text-align: right;\n",
       "    }\n",
       "</style>\n",
       "<table border=\"1\" class=\"dataframe\">\n",
       "  <thead>\n",
       "    <tr style=\"text-align: right;\">\n",
       "      <th></th>\n",
       "      <th>dept_name</th>\n",
       "      <th>dept_address</th>\n",
       "      <th>dept_phone</th>\n",
       "    </tr>\n",
       "  </thead>\n",
       "  <tbody>\n",
       "    <tr>\n",
       "      <th>0</th>\n",
       "      <td>Code Enforcement</td>\n",
       "      <td>City of Anderson\\n1887 Howard St, Anderson CA 96007\\n530-378-6626\\n©2023 All Rights Reserved Anderson, CA</td>\n",
       "      <td>530-378-6626</td>\n",
       "    </tr>\n",
       "  </tbody>\n",
       "</table>\n",
       "</div>"
      ],
      "text/plain": [
       "          dept_name  \\\n",
       "0  Code Enforcement   \n",
       "\n",
       "                                                                                                dept_address  \\\n",
       "0  City of Anderson\\n1887 Howard St, Anderson CA 96007\\n530-378-6626\\n©2023 All Rights Reserved Anderson, CA   \n",
       "\n",
       "     dept_phone  \n",
       "0  530-378-6626  "
      ]
     },
     "execution_count": 1024,
     "metadata": {},
     "output_type": "execute_result"
    }
   ],
   "source": [
    "df_7"
   ]
  },
  {
   "cell_type": "code",
   "execution_count": 1025,
   "id": "d0d8b988",
   "metadata": {},
   "outputs": [],
   "source": [
    "df_7.insert(loc = 0,column=\"city_name\", value= \"Anderson\")"
   ]
  },
  {
   "cell_type": "code",
   "execution_count": 1026,
   "id": "49bd33f9",
   "metadata": {},
   "outputs": [
    {
     "data": {
      "text/html": [
       "<div>\n",
       "<style scoped>\n",
       "    .dataframe tbody tr th:only-of-type {\n",
       "        vertical-align: middle;\n",
       "    }\n",
       "\n",
       "    .dataframe tbody tr th {\n",
       "        vertical-align: top;\n",
       "    }\n",
       "\n",
       "    .dataframe thead th {\n",
       "        text-align: right;\n",
       "    }\n",
       "</style>\n",
       "<table border=\"1\" class=\"dataframe\">\n",
       "  <thead>\n",
       "    <tr style=\"text-align: right;\">\n",
       "      <th></th>\n",
       "      <th>city_name</th>\n",
       "      <th>dept_name</th>\n",
       "      <th>dept_address</th>\n",
       "      <th>dept_phone</th>\n",
       "    </tr>\n",
       "  </thead>\n",
       "  <tbody>\n",
       "    <tr>\n",
       "      <th>0</th>\n",
       "      <td>Anderson</td>\n",
       "      <td>Code Enforcement</td>\n",
       "      <td>City of Anderson\\n1887 Howard St, Anderson CA 96007\\n530-378-6626\\n©2023 All Rights Reserved Anderson, CA</td>\n",
       "      <td>530-378-6626</td>\n",
       "    </tr>\n",
       "  </tbody>\n",
       "</table>\n",
       "</div>"
      ],
      "text/plain": [
       "  city_name         dept_name  \\\n",
       "0  Anderson  Code Enforcement   \n",
       "\n",
       "                                                                                                dept_address  \\\n",
       "0  City of Anderson\\n1887 Howard St, Anderson CA 96007\\n530-378-6626\\n©2023 All Rights Reserved Anderson, CA   \n",
       "\n",
       "     dept_phone  \n",
       "0  530-378-6626  "
      ]
     },
     "execution_count": 1026,
     "metadata": {},
     "output_type": "execute_result"
    }
   ],
   "source": [
    "df_7"
   ]
  },
  {
   "cell_type": "code",
   "execution_count": 1027,
   "id": "a7e6197c",
   "metadata": {},
   "outputs": [],
   "source": [
    "df_8 = pd.read_json(\"df_8.json\", orient=\"index\") # This line reads the data"
   ]
  },
  {
   "cell_type": "code",
   "execution_count": 1028,
   "id": "c1d8a253",
   "metadata": {},
   "outputs": [],
   "source": [
    "df_8 = df_8.T # This line transposes the data"
   ]
  },
  {
   "cell_type": "code",
   "execution_count": 1029,
   "id": "9548c4ca",
   "metadata": {},
   "outputs": [],
   "source": [
    "dept_address = df_8.dept_details[0][0:59]"
   ]
  },
  {
   "cell_type": "code",
   "execution_count": 1030,
   "id": "3e8dbd54",
   "metadata": {},
   "outputs": [],
   "source": [
    "dept_phone = df_8.dept_details[0][67:81]"
   ]
  },
  {
   "cell_type": "code",
   "execution_count": 1031,
   "id": "174e272e",
   "metadata": {},
   "outputs": [],
   "source": [
    "dept_fax = df_8.dept_details[0][89:]"
   ]
  },
  {
   "cell_type": "code",
   "execution_count": 1032,
   "id": "0eed7e68",
   "metadata": {},
   "outputs": [],
   "source": [
    "df_8[\"dept_address\"] = dept_address\n",
    "df_8[\"dept_phone\"] = dept_phone\n",
    "df_8[\"dept_fax\"] = dept_fax"
   ]
  },
  {
   "cell_type": "code",
   "execution_count": 1033,
   "id": "1108b3ec",
   "metadata": {},
   "outputs": [],
   "source": [
    "df_8.insert(loc = 0,column=\"city_name\", value= \"Angels Camp\")"
   ]
  },
  {
   "cell_type": "code",
   "execution_count": 1034,
   "id": "6eb3143f",
   "metadata": {},
   "outputs": [],
   "source": [
    "df_8.drop(columns=\"dept_details\", inplace=True)"
   ]
  },
  {
   "cell_type": "code",
   "execution_count": 1035,
   "id": "5de3e4c5",
   "metadata": {},
   "outputs": [
    {
     "data": {
      "text/html": [
       "<div>\n",
       "<style scoped>\n",
       "    .dataframe tbody tr th:only-of-type {\n",
       "        vertical-align: middle;\n",
       "    }\n",
       "\n",
       "    .dataframe tbody tr th {\n",
       "        vertical-align: top;\n",
       "    }\n",
       "\n",
       "    .dataframe thead th {\n",
       "        text-align: right;\n",
       "    }\n",
       "</style>\n",
       "<table border=\"1\" class=\"dataframe\">\n",
       "  <thead>\n",
       "    <tr style=\"text-align: right;\">\n",
       "      <th></th>\n",
       "      <th>city_name</th>\n",
       "      <th>dept_name</th>\n",
       "      <th>dept_address</th>\n",
       "      <th>dept_phone</th>\n",
       "      <th>dept_fax</th>\n",
       "    </tr>\n",
       "  </thead>\n",
       "  <tbody>\n",
       "    <tr>\n",
       "      <th>0</th>\n",
       "      <td>Angels Camp</td>\n",
       "      <td>Code Enforcement</td>\n",
       "      <td>200 Monte Verda St. #B | P.O. Box 667\\nAngels Camp, CA 95222</td>\n",
       "      <td>(209) 736-1346</td>\n",
       "      <td>(209) 736-9048</td>\n",
       "    </tr>\n",
       "  </tbody>\n",
       "</table>\n",
       "</div>"
      ],
      "text/plain": [
       "     city_name         dept_name  \\\n",
       "0  Angels Camp  Code Enforcement   \n",
       "\n",
       "                                                   dept_address  \\\n",
       "0  200 Monte Verda St. #B | P.O. Box 667\\nAngels Camp, CA 95222   \n",
       "\n",
       "       dept_phone        dept_fax  \n",
       "0  (209) 736-1346  (209) 736-9048  "
      ]
     },
     "execution_count": 1035,
     "metadata": {},
     "output_type": "execute_result"
    }
   ],
   "source": [
    "df_8"
   ]
  },
  {
   "cell_type": "code",
   "execution_count": 1036,
   "id": "63d7d7c0",
   "metadata": {},
   "outputs": [],
   "source": [
    "df_9 = pd.read_json(\"df_9.json\", orient=\"index\") # This line reads the data"
   ]
  },
  {
   "cell_type": "code",
   "execution_count": 1037,
   "id": "0f71c7d0",
   "metadata": {},
   "outputs": [],
   "source": [
    "df_9 = df_9.T #This line transposes the data"
   ]
  },
  {
   "cell_type": "code",
   "execution_count": 1038,
   "id": "86a4f047",
   "metadata": {},
   "outputs": [],
   "source": [
    "dept_address = df_9.dept_details[0][0:44]"
   ]
  },
  {
   "cell_type": "code",
   "execution_count": 1039,
   "id": "3d3abd31",
   "metadata": {},
   "outputs": [],
   "source": [
    "dept_phone = df_9.dept_details[0][52:]"
   ]
  },
  {
   "cell_type": "code",
   "execution_count": 1040,
   "id": "294e7348",
   "metadata": {},
   "outputs": [],
   "source": [
    "df_9[\"dept_address\"] = dept_address\n",
    "df_9[\"dept_phone\"] = dept_phone"
   ]
  },
  {
   "cell_type": "code",
   "execution_count": 1041,
   "id": "23d61c03",
   "metadata": {},
   "outputs": [],
   "source": [
    "df_9.insert(loc = 0,column=\"city_name\", value= \"Arcata\")"
   ]
  },
  {
   "cell_type": "code",
   "execution_count": 1042,
   "id": "8ae43075",
   "metadata": {},
   "outputs": [],
   "source": [
    "df_9.drop(columns=\"dept_details\", inplace=True)"
   ]
  },
  {
   "cell_type": "code",
   "execution_count": 1043,
   "id": "639bdbbf",
   "metadata": {},
   "outputs": [
    {
     "data": {
      "text/html": [
       "<div>\n",
       "<style scoped>\n",
       "    .dataframe tbody tr th:only-of-type {\n",
       "        vertical-align: middle;\n",
       "    }\n",
       "\n",
       "    .dataframe tbody tr th {\n",
       "        vertical-align: top;\n",
       "    }\n",
       "\n",
       "    .dataframe thead th {\n",
       "        text-align: right;\n",
       "    }\n",
       "</style>\n",
       "<table border=\"1\" class=\"dataframe\">\n",
       "  <thead>\n",
       "    <tr style=\"text-align: right;\">\n",
       "      <th></th>\n",
       "      <th>city_name</th>\n",
       "      <th>dept_name</th>\n",
       "      <th>dept_address</th>\n",
       "      <th>dept_phone</th>\n",
       "    </tr>\n",
       "  </thead>\n",
       "  <tbody>\n",
       "    <tr>\n",
       "      <th>0</th>\n",
       "      <td>Arcata</td>\n",
       "      <td>Building &amp; Engineering</td>\n",
       "      <td>City of Arcata\\n736 F Street\\nArcata, CA 95521</td>\n",
       "      <td>707-822-5951</td>\n",
       "    </tr>\n",
       "  </tbody>\n",
       "</table>\n",
       "</div>"
      ],
      "text/plain": [
       "  city_name               dept_name  \\\n",
       "0    Arcata  Building & Engineering   \n",
       "\n",
       "                                     dept_address    dept_phone  \n",
       "0  City of Arcata\\n736 F Street\\nArcata, CA 95521  707-822-5951  "
      ]
     },
     "execution_count": 1043,
     "metadata": {},
     "output_type": "execute_result"
    }
   ],
   "source": [
    "df_9"
   ]
  },
  {
   "cell_type": "code",
   "execution_count": 1044,
   "id": "c38f11c7",
   "metadata": {},
   "outputs": [],
   "source": [
    "df_10 = pd.read_json(\"df_10.json\", orient=\"index\").T # This line reads and transposes the data"
   ]
  },
  {
   "cell_type": "code",
   "execution_count": 1045,
   "id": "5a438c49",
   "metadata": {},
   "outputs": [],
   "source": [
    "dept_address = df_10.dept_address[0][0:43]"
   ]
  },
  {
   "cell_type": "code",
   "execution_count": 1046,
   "id": "16da6790",
   "metadata": {},
   "outputs": [],
   "source": [
    "dept_phone = df_10.dept_address[0][51:63]"
   ]
  },
  {
   "cell_type": "code",
   "execution_count": 1047,
   "id": "4f3486d7",
   "metadata": {},
   "outputs": [],
   "source": [
    "dept_fax = df_10.dept_address[0][69:81]"
   ]
  },
  {
   "cell_type": "code",
   "execution_count": 1048,
   "id": "5572f104",
   "metadata": {},
   "outputs": [],
   "source": [
    "df_10[\"dept_address\"] = dept_address\n",
    "df_10[\"dept_phone\"] = dept_phone\n",
    "df_10[\"dept_fax\"] = dept_fax"
   ]
  },
  {
   "cell_type": "code",
   "execution_count": 1049,
   "id": "df468734",
   "metadata": {},
   "outputs": [],
   "source": [
    "df_10.insert(loc = 0,column=\"city_name\", value= \"Arroyo Grande\")"
   ]
  },
  {
   "cell_type": "code",
   "execution_count": 1050,
   "id": "04c039b6",
   "metadata": {},
   "outputs": [
    {
     "data": {
      "text/html": [
       "<div>\n",
       "<style scoped>\n",
       "    .dataframe tbody tr th:only-of-type {\n",
       "        vertical-align: middle;\n",
       "    }\n",
       "\n",
       "    .dataframe tbody tr th {\n",
       "        vertical-align: top;\n",
       "    }\n",
       "\n",
       "    .dataframe thead th {\n",
       "        text-align: right;\n",
       "    }\n",
       "</style>\n",
       "<table border=\"1\" class=\"dataframe\">\n",
       "  <thead>\n",
       "    <tr style=\"text-align: right;\">\n",
       "      <th></th>\n",
       "      <th>city_name</th>\n",
       "      <th>dept_name</th>\n",
       "      <th>dept_address</th>\n",
       "      <th>dept_phone</th>\n",
       "      <th>dept_fax</th>\n",
       "    </tr>\n",
       "  </thead>\n",
       "  <tbody>\n",
       "    <tr>\n",
       "      <th>0</th>\n",
       "      <td>Arroyo Grande</td>\n",
       "      <td>Community Services Specialist (Code Enforcement)</td>\n",
       "      <td>300 E Branch Street\\nArroyo Grande, CA 93420</td>\n",
       "      <td>805-473-5400</td>\n",
       "      <td>805-473-0386</td>\n",
       "    </tr>\n",
       "  </tbody>\n",
       "</table>\n",
       "</div>"
      ],
      "text/plain": [
       "       city_name                                         dept_name  \\\n",
       "0  Arroyo Grande  Community Services Specialist (Code Enforcement)   \n",
       "\n",
       "                                   dept_address    dept_phone      dept_fax  \n",
       "0  300 E Branch Street\\nArroyo Grande, CA 93420  805-473-5400  805-473-0386  "
      ]
     },
     "execution_count": 1050,
     "metadata": {},
     "output_type": "execute_result"
    }
   ],
   "source": [
    "df_10"
   ]
  },
  {
   "cell_type": "code",
   "execution_count": 1051,
   "id": "1a123283",
   "metadata": {},
   "outputs": [],
   "source": [
    "df_11 = pd.read_json(\"df_11.json\", orient=\"index\").T #This line reads and transposes the data"
   ]
  },
  {
   "cell_type": "code",
   "execution_count": 1052,
   "id": "6396617b",
   "metadata": {},
   "outputs": [],
   "source": [
    "df_11.dept_phone = df_11.dept_phone[0][7:]"
   ]
  },
  {
   "cell_type": "code",
   "execution_count": 1053,
   "id": "97df4fca",
   "metadata": {},
   "outputs": [],
   "source": [
    "df_11.dept_fax = df_11.dept_fax[0][5:]"
   ]
  },
  {
   "cell_type": "code",
   "execution_count": 1054,
   "id": "0c642763",
   "metadata": {},
   "outputs": [
    {
     "data": {
      "text/html": [
       "<div>\n",
       "<style scoped>\n",
       "    .dataframe tbody tr th:only-of-type {\n",
       "        vertical-align: middle;\n",
       "    }\n",
       "\n",
       "    .dataframe tbody tr th {\n",
       "        vertical-align: top;\n",
       "    }\n",
       "\n",
       "    .dataframe thead th {\n",
       "        text-align: right;\n",
       "    }\n",
       "</style>\n",
       "<table border=\"1\" class=\"dataframe\">\n",
       "  <thead>\n",
       "    <tr style=\"text-align: right;\">\n",
       "      <th></th>\n",
       "      <th>dept_name</th>\n",
       "      <th>dept_address</th>\n",
       "      <th>dept_phone</th>\n",
       "      <th>dept_fax</th>\n",
       "    </tr>\n",
       "  </thead>\n",
       "  <tbody>\n",
       "    <tr>\n",
       "      <th>0</th>\n",
       "      <td>Code Enforcement</td>\n",
       "      <td>18747 Clarkdale Avenue</td>\n",
       "      <td>562-865-6262</td>\n",
       "      <td>562-865-6240</td>\n",
       "    </tr>\n",
       "  </tbody>\n",
       "</table>\n",
       "</div>"
      ],
      "text/plain": [
       "          dept_name            dept_address    dept_phone      dept_fax\n",
       "0  Code Enforcement  18747 Clarkdale Avenue  562-865-6262  562-865-6240"
      ]
     },
     "execution_count": 1054,
     "metadata": {},
     "output_type": "execute_result"
    }
   ],
   "source": [
    "df_11"
   ]
  },
  {
   "cell_type": "code",
   "execution_count": 1055,
   "id": "6d1f5d1f",
   "metadata": {},
   "outputs": [],
   "source": [
    "df_11.insert(loc = 0,column=\"city_name\", value= \"Artesia\")"
   ]
  },
  {
   "cell_type": "code",
   "execution_count": 1056,
   "id": "919ea4f7",
   "metadata": {},
   "outputs": [],
   "source": [
    "df_12 = pd.read_json(\"df_12.json\", orient=\"index\").T # This line reads and transposes the data"
   ]
  },
  {
   "cell_type": "code",
   "execution_count": 1057,
   "id": "cafca055",
   "metadata": {},
   "outputs": [
    {
     "data": {
      "text/html": [
       "<div>\n",
       "<style scoped>\n",
       "    .dataframe tbody tr th:only-of-type {\n",
       "        vertical-align: middle;\n",
       "    }\n",
       "\n",
       "    .dataframe tbody tr th {\n",
       "        vertical-align: top;\n",
       "    }\n",
       "\n",
       "    .dataframe thead th {\n",
       "        text-align: right;\n",
       "    }\n",
       "</style>\n",
       "<table border=\"1\" class=\"dataframe\">\n",
       "  <thead>\n",
       "    <tr style=\"text-align: right;\">\n",
       "      <th></th>\n",
       "      <th>dept_name</th>\n",
       "      <th>dept_address</th>\n",
       "      <th>dept_phone</th>\n",
       "      <th>dept_phone_url</th>\n",
       "    </tr>\n",
       "  </thead>\n",
       "  <tbody>\n",
       "    <tr>\n",
       "      <th>0</th>\n",
       "      <td>Parks &amp; Recreation</td>\n",
       "      <td>Physical Address View Map\\n200 Campus Drive\\nArvin, CA 93203</td>\n",
       "      <td>661-854-3134</td>\n",
       "      <td>tel:6618543134</td>\n",
       "    </tr>\n",
       "  </tbody>\n",
       "</table>\n",
       "</div>"
      ],
      "text/plain": [
       "            dept_name  \\\n",
       "0  Parks & Recreation   \n",
       "\n",
       "                                                   dept_address    dept_phone  \\\n",
       "0  Physical Address View Map\\n200 Campus Drive\\nArvin, CA 93203  661-854-3134   \n",
       "\n",
       "   dept_phone_url  \n",
       "0  tel:6618543134  "
      ]
     },
     "execution_count": 1057,
     "metadata": {},
     "output_type": "execute_result"
    }
   ],
   "source": [
    "df_12"
   ]
  },
  {
   "cell_type": "code",
   "execution_count": 1058,
   "id": "3757af7b",
   "metadata": {},
   "outputs": [],
   "source": [
    "df_12.insert(loc = 0,column=\"city_name\", value= \"Arvin\") "
   ]
  },
  {
   "cell_type": "code",
   "execution_count": 1059,
   "id": "7f1381fe",
   "metadata": {},
   "outputs": [],
   "source": [
    "df_12.drop(columns=\"dept_phone_url\", inplace=True)"
   ]
  },
  {
   "cell_type": "code",
   "execution_count": 1060,
   "id": "831cd556",
   "metadata": {},
   "outputs": [],
   "source": [
    "df_13 = pd.read_json(\"df_13.json\", orient=\"index\").T # This line reads and transposes the data"
   ]
  },
  {
   "cell_type": "code",
   "execution_count": 1061,
   "id": "e5b99a0d",
   "metadata": {},
   "outputs": [
    {
     "data": {
      "text/html": [
       "<div>\n",
       "<style scoped>\n",
       "    .dataframe tbody tr th:only-of-type {\n",
       "        vertical-align: middle;\n",
       "    }\n",
       "\n",
       "    .dataframe tbody tr th {\n",
       "        vertical-align: top;\n",
       "    }\n",
       "\n",
       "    .dataframe thead th {\n",
       "        text-align: right;\n",
       "    }\n",
       "</style>\n",
       "<table border=\"1\" class=\"dataframe\">\n",
       "  <thead>\n",
       "    <tr style=\"text-align: right;\">\n",
       "      <th></th>\n",
       "      <th>dept_name</th>\n",
       "      <th>dept_address</th>\n",
       "      <th>dept_phone</th>\n",
       "      <th>dept_fax</th>\n",
       "    </tr>\n",
       "  </thead>\n",
       "  <tbody>\n",
       "    <tr>\n",
       "      <th>0</th>\n",
       "      <td>Building</td>\n",
       "      <td>Physical Address\\n80 Fair Oaks Lane\\n2nd Floor\\nAtherton, CA 94027</td>\n",
       "      <td>Phone: 650-752-0560</td>\n",
       "      <td>Fax: 650-688-6528</td>\n",
       "    </tr>\n",
       "  </tbody>\n",
       "</table>\n",
       "</div>"
      ],
      "text/plain": [
       "  dept_name  \\\n",
       "0  Building   \n",
       "\n",
       "                                                         dept_address  \\\n",
       "0  Physical Address\\n80 Fair Oaks Lane\\n2nd Floor\\nAtherton, CA 94027   \n",
       "\n",
       "            dept_phone           dept_fax  \n",
       "0  Phone: 650-752-0560  Fax: 650-688-6528  "
      ]
     },
     "execution_count": 1061,
     "metadata": {},
     "output_type": "execute_result"
    }
   ],
   "source": [
    "df_13"
   ]
  },
  {
   "cell_type": "code",
   "execution_count": 1062,
   "id": "1258a5d8",
   "metadata": {},
   "outputs": [],
   "source": [
    "df_13.dept_phone = df_13.dept_phone[0][7:]"
   ]
  },
  {
   "cell_type": "code",
   "execution_count": 1063,
   "id": "8d177cc6",
   "metadata": {},
   "outputs": [],
   "source": [
    "df_13.dept_fax = df_13.dept_fax[0][5:]"
   ]
  },
  {
   "cell_type": "code",
   "execution_count": 1064,
   "id": "bbab06a0",
   "metadata": {},
   "outputs": [],
   "source": [
    "df_13.insert(loc = 0,column=\"city_name\", value= \"Atherton\")"
   ]
  },
  {
   "cell_type": "code",
   "execution_count": 1065,
   "id": "1d76ea17",
   "metadata": {},
   "outputs": [
    {
     "data": {
      "text/html": [
       "<div>\n",
       "<style scoped>\n",
       "    .dataframe tbody tr th:only-of-type {\n",
       "        vertical-align: middle;\n",
       "    }\n",
       "\n",
       "    .dataframe tbody tr th {\n",
       "        vertical-align: top;\n",
       "    }\n",
       "\n",
       "    .dataframe thead th {\n",
       "        text-align: right;\n",
       "    }\n",
       "</style>\n",
       "<table border=\"1\" class=\"dataframe\">\n",
       "  <thead>\n",
       "    <tr style=\"text-align: right;\">\n",
       "      <th></th>\n",
       "      <th>city_name</th>\n",
       "      <th>dept_name</th>\n",
       "      <th>dept_address</th>\n",
       "      <th>dept_phone</th>\n",
       "      <th>dept_fax</th>\n",
       "    </tr>\n",
       "  </thead>\n",
       "  <tbody>\n",
       "    <tr>\n",
       "      <th>0</th>\n",
       "      <td>Atherton</td>\n",
       "      <td>Building</td>\n",
       "      <td>Physical Address\\n80 Fair Oaks Lane\\n2nd Floor\\nAtherton, CA 94027</td>\n",
       "      <td>650-752-0560</td>\n",
       "      <td>650-688-6528</td>\n",
       "    </tr>\n",
       "  </tbody>\n",
       "</table>\n",
       "</div>"
      ],
      "text/plain": [
       "  city_name dept_name  \\\n",
       "0  Atherton  Building   \n",
       "\n",
       "                                                         dept_address  \\\n",
       "0  Physical Address\\n80 Fair Oaks Lane\\n2nd Floor\\nAtherton, CA 94027   \n",
       "\n",
       "     dept_phone      dept_fax  \n",
       "0  650-752-0560  650-688-6528  "
      ]
     },
     "execution_count": 1065,
     "metadata": {},
     "output_type": "execute_result"
    }
   ],
   "source": [
    "df_13"
   ]
  },
  {
   "cell_type": "code",
   "execution_count": 1066,
   "id": "1f8a20cd",
   "metadata": {},
   "outputs": [],
   "source": [
    "df_14.insert(loc = 0,column=\"city_name\", value= \"Atwater\")"
   ]
  },
  {
   "cell_type": "code",
   "execution_count": 1067,
   "id": "2afaa592",
   "metadata": {},
   "outputs": [],
   "source": [
    "df_14 = pd.read_json(\"df_14.json\", orient=\"index\").T # This line reads and transposes the data"
   ]
  },
  {
   "cell_type": "code",
   "execution_count": 1068,
   "id": "6e0539c3",
   "metadata": {},
   "outputs": [],
   "source": [
    "df_14[\"dept_address\"] = df_14.dept_details[0][:35]"
   ]
  },
  {
   "cell_type": "code",
   "execution_count": 1069,
   "id": "ab171479",
   "metadata": {},
   "outputs": [],
   "source": [
    "df_14[\"dept_phone\"] = df_14.dept_details[0][43:57]"
   ]
  },
  {
   "cell_type": "code",
   "execution_count": 1070,
   "id": "74cf046e",
   "metadata": {},
   "outputs": [],
   "source": [
    "df_14.drop(columns=(\"dept_details\"), inplace=True)"
   ]
  },
  {
   "cell_type": "code",
   "execution_count": 1071,
   "id": "058461aa",
   "metadata": {},
   "outputs": [
    {
     "data": {
      "text/html": [
       "<div>\n",
       "<style scoped>\n",
       "    .dataframe tbody tr th:only-of-type {\n",
       "        vertical-align: middle;\n",
       "    }\n",
       "\n",
       "    .dataframe tbody tr th {\n",
       "        vertical-align: top;\n",
       "    }\n",
       "\n",
       "    .dataframe thead th {\n",
       "        text-align: right;\n",
       "    }\n",
       "</style>\n",
       "<table border=\"1\" class=\"dataframe\">\n",
       "  <thead>\n",
       "    <tr style=\"text-align: right;\">\n",
       "      <th></th>\n",
       "      <th>dept_name</th>\n",
       "      <th>dept_address</th>\n",
       "      <th>dept_phone</th>\n",
       "    </tr>\n",
       "  </thead>\n",
       "  <tbody>\n",
       "    <tr>\n",
       "      <th>0</th>\n",
       "      <td>City Administration</td>\n",
       "      <td>750 Bellevue Rd • Atwater, CA 95301</td>\n",
       "      <td>(209) 357-6310</td>\n",
       "    </tr>\n",
       "  </tbody>\n",
       "</table>\n",
       "</div>"
      ],
      "text/plain": [
       "             dept_name                         dept_address      dept_phone\n",
       "0  City Administration  750 Bellevue Rd • Atwater, CA 95301  (209) 357-6310"
      ]
     },
     "execution_count": 1071,
     "metadata": {},
     "output_type": "execute_result"
    }
   ],
   "source": [
    "df_14"
   ]
  },
  {
   "cell_type": "code",
   "execution_count": 1072,
   "id": "f5ca13c5",
   "metadata": {},
   "outputs": [],
   "source": [
    "df_15 = pd.read_json(\"df_15.json\", orient=\"index\").T # This line reads and transposes the data"
   ]
  },
  {
   "cell_type": "code",
   "execution_count": 1073,
   "id": "86e07a4c",
   "metadata": {},
   "outputs": [],
   "source": [
    "df_15.insert(loc = 0,column=\"city_name\", value= \"Auburn\")"
   ]
  },
  {
   "cell_type": "code",
   "execution_count": 1074,
   "id": "5034466b",
   "metadata": {},
   "outputs": [],
   "source": [
    "df_15[\"dept_address\"] = df_15.dept_details[0][:49]"
   ]
  },
  {
   "cell_type": "code",
   "execution_count": 1075,
   "id": "934148d4",
   "metadata": {},
   "outputs": [],
   "source": [
    "df_15[\"dept_phone\"] = df_15.dept_details[0][57:69]"
   ]
  },
  {
   "cell_type": "code",
   "execution_count": 1076,
   "id": "cdf85429",
   "metadata": {},
   "outputs": [],
   "source": [
    "df_15.drop(columns=\"dept_details\", inplace=True)"
   ]
  },
  {
   "cell_type": "code",
   "execution_count": 1077,
   "id": "5bcd1f1b",
   "metadata": {},
   "outputs": [
    {
     "data": {
      "text/html": [
       "<div>\n",
       "<style scoped>\n",
       "    .dataframe tbody tr th:only-of-type {\n",
       "        vertical-align: middle;\n",
       "    }\n",
       "\n",
       "    .dataframe tbody tr th {\n",
       "        vertical-align: top;\n",
       "    }\n",
       "\n",
       "    .dataframe thead th {\n",
       "        text-align: right;\n",
       "    }\n",
       "</style>\n",
       "<table border=\"1\" class=\"dataframe\">\n",
       "  <thead>\n",
       "    <tr style=\"text-align: right;\">\n",
       "      <th></th>\n",
       "      <th>city_name</th>\n",
       "      <th>dept_name</th>\n",
       "      <th>dept_address</th>\n",
       "      <th>dept_phone</th>\n",
       "    </tr>\n",
       "  </thead>\n",
       "  <tbody>\n",
       "    <tr>\n",
       "      <th>0</th>\n",
       "      <td>Auburn</td>\n",
       "      <td>Planning &amp; Public Works</td>\n",
       "      <td>City Hall • 1225 Lincoln Way • Auburn, CA 95603 •</td>\n",
       "      <td>530-823-4211</td>\n",
       "    </tr>\n",
       "  </tbody>\n",
       "</table>\n",
       "</div>"
      ],
      "text/plain": [
       "  city_name                dept_name  \\\n",
       "0    Auburn  Planning & Public Works   \n",
       "\n",
       "                                        dept_address    dept_phone  \n",
       "0  City Hall • 1225 Lincoln Way • Auburn, CA 95603 •  530-823-4211  "
      ]
     },
     "execution_count": 1077,
     "metadata": {},
     "output_type": "execute_result"
    }
   ],
   "source": [
    "df_15"
   ]
  },
  {
   "cell_type": "code",
   "execution_count": 1078,
   "id": "ce8b12f8",
   "metadata": {},
   "outputs": [],
   "source": [
    "df_16 = pd.read_json(\"df_16.json\", orient=\"index\").T # This line reads and transposes the data"
   ]
  },
  {
   "cell_type": "code",
   "execution_count": 1079,
   "id": "038010c5",
   "metadata": {},
   "outputs": [],
   "source": [
    "df_16.insert(loc = 0,column=\"city_name\", value= \"Avalon\")"
   ]
  },
  {
   "cell_type": "code",
   "execution_count": 1080,
   "id": "0595256f",
   "metadata": {},
   "outputs": [],
   "source": [
    "df_16[\"dept_phone\"] = df_16.dept_phone[0][7:20]"
   ]
  },
  {
   "cell_type": "code",
   "execution_count": 1081,
   "id": "fdd45825",
   "metadata": {},
   "outputs": [],
   "source": [
    "df_16.dept_address = df_16.dept_address[0][1][\"name\"] + \" \"+ df_16.dept_address[0][2][\"name\"] + \" \"+ df_16.dept_address[0][3][\"name\"] "
   ]
  },
  {
   "cell_type": "code",
   "execution_count": 1082,
   "id": "6f62431e",
   "metadata": {},
   "outputs": [
    {
     "data": {
      "text/html": [
       "<div>\n",
       "<style scoped>\n",
       "    .dataframe tbody tr th:only-of-type {\n",
       "        vertical-align: middle;\n",
       "    }\n",
       "\n",
       "    .dataframe tbody tr th {\n",
       "        vertical-align: top;\n",
       "    }\n",
       "\n",
       "    .dataframe thead th {\n",
       "        text-align: right;\n",
       "    }\n",
       "</style>\n",
       "<table border=\"1\" class=\"dataframe\">\n",
       "  <thead>\n",
       "    <tr style=\"text-align: right;\">\n",
       "      <th></th>\n",
       "      <th>city_name</th>\n",
       "      <th>dept_name</th>\n",
       "      <th>dept_address</th>\n",
       "      <th>dept_phone</th>\n",
       "    </tr>\n",
       "  </thead>\n",
       "  <tbody>\n",
       "    <tr>\n",
       "      <th>0</th>\n",
       "      <td>Avalon</td>\n",
       "      <td>Code Enforcement</td>\n",
       "      <td>410 Avalon Canyon Road P.O. Box 707 Avalon, CA 90704</td>\n",
       "      <td>310-510-0220,</td>\n",
       "    </tr>\n",
       "  </tbody>\n",
       "</table>\n",
       "</div>"
      ],
      "text/plain": [
       "  city_name         dept_name  \\\n",
       "0    Avalon  Code Enforcement   \n",
       "\n",
       "                                           dept_address     dept_phone  \n",
       "0  410 Avalon Canyon Road P.O. Box 707 Avalon, CA 90704  310-510-0220,  "
      ]
     },
     "execution_count": 1082,
     "metadata": {},
     "output_type": "execute_result"
    }
   ],
   "source": [
    "df_16"
   ]
  },
  {
   "cell_type": "code",
   "execution_count": 1083,
   "id": "67105b1c",
   "metadata": {},
   "outputs": [],
   "source": [
    "df_17 = pd.read_json(\"df_17.json\", orient=\"index\").T # This line reads and transposes the data"
   ]
  },
  {
   "cell_type": "code",
   "execution_count": 1084,
   "id": "461d5edc",
   "metadata": {},
   "outputs": [],
   "source": [
    "df_17.drop(columns=[\"dept_phone_url\", \"dept_email\"], inplace=True)"
   ]
  },
  {
   "cell_type": "code",
   "execution_count": 1085,
   "id": "042e8222",
   "metadata": {},
   "outputs": [],
   "source": [
    "df_17.rename(columns={\"dept_email_url\": \"dept_email\"}, inplace=True)"
   ]
  },
  {
   "cell_type": "code",
   "execution_count": 1086,
   "id": "5ac1cfda",
   "metadata": {},
   "outputs": [],
   "source": [
    "df_17.dept_fax = df_17.dept_fax[0][5:]"
   ]
  },
  {
   "cell_type": "code",
   "execution_count": 1087,
   "id": "0253ee15",
   "metadata": {},
   "outputs": [],
   "source": [
    "df_17.insert(loc = 0,column=\"city_name\", value= \"Azusa\")"
   ]
  },
  {
   "cell_type": "code",
   "execution_count": 1088,
   "id": "09dd9731",
   "metadata": {},
   "outputs": [
    {
     "data": {
      "text/html": [
       "<div>\n",
       "<style scoped>\n",
       "    .dataframe tbody tr th:only-of-type {\n",
       "        vertical-align: middle;\n",
       "    }\n",
       "\n",
       "    .dataframe tbody tr th {\n",
       "        vertical-align: top;\n",
       "    }\n",
       "\n",
       "    .dataframe thead th {\n",
       "        text-align: right;\n",
       "    }\n",
       "</style>\n",
       "<table border=\"1\" class=\"dataframe\">\n",
       "  <thead>\n",
       "    <tr style=\"text-align: right;\">\n",
       "      <th></th>\n",
       "      <th>city_name</th>\n",
       "      <th>dept_name</th>\n",
       "      <th>dept_address</th>\n",
       "      <th>dept_phone</th>\n",
       "      <th>dept_fax</th>\n",
       "      <th>dept_email</th>\n",
       "    </tr>\n",
       "  </thead>\n",
       "  <tbody>\n",
       "    <tr>\n",
       "      <th>0</th>\n",
       "      <td>Azusa</td>\n",
       "      <td>Building Division</td>\n",
       "      <td>Physical Address\\n213 E. Foothill Blvd.\\nAzusa, CA 91702</td>\n",
       "      <td>(626) 812-5234</td>\n",
       "      <td>(626) 334-5464</td>\n",
       "      <td>mailto:buildingpermits@AzusaCa.Gov</td>\n",
       "    </tr>\n",
       "  </tbody>\n",
       "</table>\n",
       "</div>"
      ],
      "text/plain": [
       "  city_name          dept_name  \\\n",
       "0     Azusa  Building Division   \n",
       "\n",
       "                                               dept_address      dept_phone  \\\n",
       "0  Physical Address\\n213 E. Foothill Blvd.\\nAzusa, CA 91702  (626) 812-5234   \n",
       "\n",
       "         dept_fax                          dept_email  \n",
       "0  (626) 334-5464  mailto:buildingpermits@AzusaCa.Gov  "
      ]
     },
     "execution_count": 1088,
     "metadata": {},
     "output_type": "execute_result"
    }
   ],
   "source": [
    "df_17"
   ]
  },
  {
   "cell_type": "code",
   "execution_count": 1089,
   "id": "376870dd",
   "metadata": {},
   "outputs": [],
   "source": [
    "df_18 = pd.read_json(\"df_18.json\", orient=\"index\").T # This line reads and transposes the data"
   ]
  },
  {
   "cell_type": "code",
   "execution_count": 1090,
   "id": "911a2d59",
   "metadata": {},
   "outputs": [],
   "source": [
    "df_18[\"dept_phone\"] = df_18.dept_phone[0][7:]"
   ]
  },
  {
   "cell_type": "code",
   "execution_count": 1091,
   "id": "f6edf7c3",
   "metadata": {},
   "outputs": [],
   "source": [
    "df_18[\"dept_fax\"] = df_18.dept_fax[0][5:]"
   ]
  },
  {
   "cell_type": "code",
   "execution_count": 1092,
   "id": "9db0e072",
   "metadata": {},
   "outputs": [],
   "source": [
    "df_18.drop(columns=[\"dept_email_url\"], inplace=True)"
   ]
  },
  {
   "cell_type": "code",
   "execution_count": 1093,
   "id": "40bc64f1",
   "metadata": {},
   "outputs": [],
   "source": [
    "df_18.insert(loc = 0,column=\"city_name\", value= \"Banning\")"
   ]
  },
  {
   "cell_type": "code",
   "execution_count": 1094,
   "id": "b6b4bbbf",
   "metadata": {},
   "outputs": [
    {
     "data": {
      "text/html": [
       "<div>\n",
       "<style scoped>\n",
       "    .dataframe tbody tr th:only-of-type {\n",
       "        vertical-align: middle;\n",
       "    }\n",
       "\n",
       "    .dataframe tbody tr th {\n",
       "        vertical-align: top;\n",
       "    }\n",
       "\n",
       "    .dataframe thead th {\n",
       "        text-align: right;\n",
       "    }\n",
       "</style>\n",
       "<table border=\"1\" class=\"dataframe\">\n",
       "  <thead>\n",
       "    <tr style=\"text-align: right;\">\n",
       "      <th></th>\n",
       "      <th>city_name</th>\n",
       "      <th>dept_name</th>\n",
       "      <th>dept_phone</th>\n",
       "      <th>dept_fax</th>\n",
       "      <th>dept_email</th>\n",
       "    </tr>\n",
       "  </thead>\n",
       "  <tbody>\n",
       "    <tr>\n",
       "      <th>0</th>\n",
       "      <td>Banning</td>\n",
       "      <td>Code Enforcement</td>\n",
       "      <td>951-922-4821</td>\n",
       "      <td>951-846-8618</td>\n",
       "      <td>CE@banningca.gov</td>\n",
       "    </tr>\n",
       "  </tbody>\n",
       "</table>\n",
       "</div>"
      ],
      "text/plain": [
       "  city_name         dept_name    dept_phone      dept_fax        dept_email\n",
       "0   Banning  Code Enforcement  951-922-4821  951-846-8618  CE@banningca.gov"
      ]
     },
     "execution_count": 1094,
     "metadata": {},
     "output_type": "execute_result"
    }
   ],
   "source": [
    "df_18"
   ]
  },
  {
   "cell_type": "code",
   "execution_count": 1095,
   "id": "ebac3ea7",
   "metadata": {},
   "outputs": [],
   "source": [
    "df_19 = pd.read_json(\"df_19.json\", orient=\"index\").T # This line reads and transposes the data"
   ]
  },
  {
   "cell_type": "code",
   "execution_count": 1096,
   "id": "56c6d8c4",
   "metadata": {},
   "outputs": [
    {
     "data": {
      "text/html": [
       "<div>\n",
       "<style scoped>\n",
       "    .dataframe tbody tr th:only-of-type {\n",
       "        vertical-align: middle;\n",
       "    }\n",
       "\n",
       "    .dataframe tbody tr th {\n",
       "        vertical-align: top;\n",
       "    }\n",
       "\n",
       "    .dataframe thead th {\n",
       "        text-align: right;\n",
       "    }\n",
       "</style>\n",
       "<table border=\"1\" class=\"dataframe\">\n",
       "  <thead>\n",
       "    <tr style=\"text-align: right;\">\n",
       "      <th></th>\n",
       "      <th>dept_name</th>\n",
       "      <th>dept_address</th>\n",
       "      <th>dept_phone</th>\n",
       "      <th>dept_email</th>\n",
       "      <th>dept_email_url</th>\n",
       "    </tr>\n",
       "  </thead>\n",
       "  <tbody>\n",
       "    <tr>\n",
       "      <th>0</th>\n",
       "      <td>Code Compliance</td>\n",
       "      <td>Mon-Fri 7:30am-4:30pm\\nCode Compliance Supervisor\\n220 E. Mountain View St. Suite A\\nBarstow, CA 92311\\n(760) 255-5190</td>\n",
       "      <td>or (909) 387-3811</td>\n",
       "      <td>codeenforcementdivision@lus.sbcounty.gov</td>\n",
       "      <td>mailto:codeenforcementdivision@lus.sbcounty.gov</td>\n",
       "    </tr>\n",
       "  </tbody>\n",
       "</table>\n",
       "</div>"
      ],
      "text/plain": [
       "         dept_name  \\\n",
       "0  Code Compliance   \n",
       "\n",
       "                                                                                                             dept_address  \\\n",
       "0  Mon-Fri 7:30am-4:30pm\\nCode Compliance Supervisor\\n220 E. Mountain View St. Suite A\\nBarstow, CA 92311\\n(760) 255-5190   \n",
       "\n",
       "          dept_phone                                dept_email  \\\n",
       "0  or (909) 387-3811  codeenforcementdivision@lus.sbcounty.gov   \n",
       "\n",
       "                                    dept_email_url  \n",
       "0  mailto:codeenforcementdivision@lus.sbcounty.gov  "
      ]
     },
     "execution_count": 1096,
     "metadata": {},
     "output_type": "execute_result"
    }
   ],
   "source": [
    "df_19"
   ]
  },
  {
   "cell_type": "code",
   "execution_count": 1097,
   "id": "ea6c2379",
   "metadata": {},
   "outputs": [],
   "source": [
    "df_19[\"dept_address\"] = df_19.dept_address[0][49:99]"
   ]
  },
  {
   "cell_type": "code",
   "execution_count": 1098,
   "id": "0dd93181",
   "metadata": {},
   "outputs": [],
   "source": [
    "df_19[\"dept_phone\"] = df_19.dept_phone[0][3:]"
   ]
  },
  {
   "cell_type": "code",
   "execution_count": 1099,
   "id": "ee2a697a",
   "metadata": {},
   "outputs": [],
   "source": [
    "df_19.insert(loc = 0,column=\"city_name\", value= \"Barstow\")"
   ]
  },
  {
   "cell_type": "code",
   "execution_count": 1100,
   "id": "f750dbc6",
   "metadata": {},
   "outputs": [],
   "source": [
    "df_19.drop(columns=\"dept_email_url\", inplace=True)"
   ]
  },
  {
   "cell_type": "code",
   "execution_count": 1101,
   "id": "22ef559f",
   "metadata": {},
   "outputs": [
    {
     "data": {
      "text/html": [
       "<div>\n",
       "<style scoped>\n",
       "    .dataframe tbody tr th:only-of-type {\n",
       "        vertical-align: middle;\n",
       "    }\n",
       "\n",
       "    .dataframe tbody tr th {\n",
       "        vertical-align: top;\n",
       "    }\n",
       "\n",
       "    .dataframe thead th {\n",
       "        text-align: right;\n",
       "    }\n",
       "</style>\n",
       "<table border=\"1\" class=\"dataframe\">\n",
       "  <thead>\n",
       "    <tr style=\"text-align: right;\">\n",
       "      <th></th>\n",
       "      <th>city_name</th>\n",
       "      <th>dept_name</th>\n",
       "      <th>dept_address</th>\n",
       "      <th>dept_phone</th>\n",
       "      <th>dept_email</th>\n",
       "    </tr>\n",
       "  </thead>\n",
       "  <tbody>\n",
       "    <tr>\n",
       "      <th>0</th>\n",
       "      <td>Barstow</td>\n",
       "      <td>Code Compliance</td>\n",
       "      <td>220 E. Mountain View St. Suite A\\nBarstow, CA 92311</td>\n",
       "      <td>(909) 387-3811</td>\n",
       "      <td>codeenforcementdivision@lus.sbcounty.gov</td>\n",
       "    </tr>\n",
       "  </tbody>\n",
       "</table>\n",
       "</div>"
      ],
      "text/plain": [
       "  city_name        dept_name  \\\n",
       "0   Barstow  Code Compliance   \n",
       "\n",
       "                                          dept_address      dept_phone  \\\n",
       "0  220 E. Mountain View St. Suite A\\nBarstow, CA 92311  (909) 387-3811   \n",
       "\n",
       "                                 dept_email  \n",
       "0  codeenforcementdivision@lus.sbcounty.gov  "
      ]
     },
     "execution_count": 1101,
     "metadata": {},
     "output_type": "execute_result"
    }
   ],
   "source": [
    "df_19"
   ]
  },
  {
   "cell_type": "code",
   "execution_count": 1102,
   "id": "f59ffecc",
   "metadata": {},
   "outputs": [],
   "source": [
    "df_20 = pd.read_json(\"df_20.json\", orient=\"index\").T # This line reads and transposes the data"
   ]
  },
  {
   "cell_type": "code",
   "execution_count": 1103,
   "id": "0b56e2cc",
   "metadata": {
    "scrolled": true
   },
   "outputs": [],
   "source": [
    "df_20.dept_phone = df_20.dept_phone[0][3:]"
   ]
  },
  {
   "cell_type": "code",
   "execution_count": 1104,
   "id": "58bdb0c3",
   "metadata": {},
   "outputs": [],
   "source": [
    "df_20.drop(columns=[\"dept_address_url\", \"dept_phone_url\", \"dept_email_url\"], inplace=True)"
   ]
  },
  {
   "cell_type": "code",
   "execution_count": 1105,
   "id": "459e1f2a",
   "metadata": {},
   "outputs": [],
   "source": [
    "df_20.insert(loc = 0,column=\"city_name\", value= \"Bell Gardens\")"
   ]
  },
  {
   "cell_type": "code",
   "execution_count": 1106,
   "id": "3978ee06",
   "metadata": {},
   "outputs": [
    {
     "data": {
      "text/html": [
       "<div>\n",
       "<style scoped>\n",
       "    .dataframe tbody tr th:only-of-type {\n",
       "        vertical-align: middle;\n",
       "    }\n",
       "\n",
       "    .dataframe tbody tr th {\n",
       "        vertical-align: top;\n",
       "    }\n",
       "\n",
       "    .dataframe thead th {\n",
       "        text-align: right;\n",
       "    }\n",
       "</style>\n",
       "<table border=\"1\" class=\"dataframe\">\n",
       "  <thead>\n",
       "    <tr style=\"text-align: right;\">\n",
       "      <th></th>\n",
       "      <th>city_name</th>\n",
       "      <th>dept_name</th>\n",
       "      <th>dept_address</th>\n",
       "      <th>dept_phone</th>\n",
       "      <th>dept_email</th>\n",
       "    </tr>\n",
       "  </thead>\n",
       "  <tbody>\n",
       "    <tr>\n",
       "      <th>0</th>\n",
       "      <td>Bell Gardens</td>\n",
       "      <td>Planning</td>\n",
       "      <td>7100 Garfield Ave\\nBell Gardens, CA 90201</td>\n",
       "      <td>(562) 806-7700</td>\n",
       "      <td>mmossayeb@bellgardens.org</td>\n",
       "    </tr>\n",
       "  </tbody>\n",
       "</table>\n",
       "</div>"
      ],
      "text/plain": [
       "      city_name dept_name                               dept_address  \\\n",
       "0  Bell Gardens  Planning  7100 Garfield Ave\\nBell Gardens, CA 90201   \n",
       "\n",
       "       dept_phone                 dept_email  \n",
       "0  (562) 806-7700  mmossayeb@bellgardens.org  "
      ]
     },
     "execution_count": 1106,
     "metadata": {},
     "output_type": "execute_result"
    }
   ],
   "source": [
    "df_20"
   ]
  },
  {
   "cell_type": "code",
   "execution_count": 1107,
   "id": "f544be1d",
   "metadata": {},
   "outputs": [],
   "source": [
    "df_21 = pd.read_json(\"df_21.json\", orient=\"index\").T # This line reads and transposes the data"
   ]
  },
  {
   "cell_type": "code",
   "execution_count": 1108,
   "id": "99b367ce",
   "metadata": {},
   "outputs": [
    {
     "data": {
      "text/html": [
       "<div>\n",
       "<style scoped>\n",
       "    .dataframe tbody tr th:only-of-type {\n",
       "        vertical-align: middle;\n",
       "    }\n",
       "\n",
       "    .dataframe tbody tr th {\n",
       "        vertical-align: top;\n",
       "    }\n",
       "\n",
       "    .dataframe thead th {\n",
       "        text-align: right;\n",
       "    }\n",
       "</style>\n",
       "<table border=\"1\" class=\"dataframe\">\n",
       "  <thead>\n",
       "    <tr style=\"text-align: right;\">\n",
       "      <th></th>\n",
       "      <th>dept_name</th>\n",
       "      <th>dept_address</th>\n",
       "      <th>dept_phone</th>\n",
       "      <th>dept_email</th>\n",
       "      <th>selection1_url</th>\n",
       "    </tr>\n",
       "  </thead>\n",
       "  <tbody>\n",
       "    <tr>\n",
       "      <th>0</th>\n",
       "      <td>Code Enforcement Division</td>\n",
       "      <td>16600 Civic Center Drive, Bellflower, CA 90706</td>\n",
       "      <td>(562) 804-1424</td>\n",
       "      <td>eerdelyan@bellflower.org</td>\n",
       "      <td>mailto:eerdelyan@bellflower.org</td>\n",
       "    </tr>\n",
       "  </tbody>\n",
       "</table>\n",
       "</div>"
      ],
      "text/plain": [
       "                   dept_name                                    dept_address  \\\n",
       "0  Code Enforcement Division  16600 Civic Center Drive, Bellflower, CA 90706   \n",
       "\n",
       "       dept_phone                dept_email                   selection1_url  \n",
       "0  (562) 804-1424  eerdelyan@bellflower.org  mailto:eerdelyan@bellflower.org  "
      ]
     },
     "execution_count": 1108,
     "metadata": {},
     "output_type": "execute_result"
    }
   ],
   "source": [
    "df_21.rename(columns={\"selection1\": \"dept_email\"})"
   ]
  },
  {
   "cell_type": "code",
   "execution_count": 1109,
   "id": "e24364ed",
   "metadata": {},
   "outputs": [],
   "source": [
    "df_21.drop(columns=[\"selection1_url\", \"selection1\"], inplace=True)"
   ]
  },
  {
   "cell_type": "code",
   "execution_count": 1110,
   "id": "df473c52",
   "metadata": {},
   "outputs": [],
   "source": [
    "df_21.insert(loc = 0,column=\"city_name\", value= \"Bellflower\")"
   ]
  },
  {
   "cell_type": "code",
   "execution_count": 1111,
   "id": "cb0e794a",
   "metadata": {},
   "outputs": [
    {
     "data": {
      "text/html": [
       "<div>\n",
       "<style scoped>\n",
       "    .dataframe tbody tr th:only-of-type {\n",
       "        vertical-align: middle;\n",
       "    }\n",
       "\n",
       "    .dataframe tbody tr th {\n",
       "        vertical-align: top;\n",
       "    }\n",
       "\n",
       "    .dataframe thead th {\n",
       "        text-align: right;\n",
       "    }\n",
       "</style>\n",
       "<table border=\"1\" class=\"dataframe\">\n",
       "  <thead>\n",
       "    <tr style=\"text-align: right;\">\n",
       "      <th></th>\n",
       "      <th>city_name</th>\n",
       "      <th>dept_name</th>\n",
       "      <th>dept_address</th>\n",
       "      <th>dept_phone</th>\n",
       "    </tr>\n",
       "  </thead>\n",
       "  <tbody>\n",
       "    <tr>\n",
       "      <th>0</th>\n",
       "      <td>Bellflower</td>\n",
       "      <td>Code Enforcement Division</td>\n",
       "      <td>16600 Civic Center Drive, Bellflower, CA 90706</td>\n",
       "      <td>(562) 804-1424</td>\n",
       "    </tr>\n",
       "  </tbody>\n",
       "</table>\n",
       "</div>"
      ],
      "text/plain": [
       "    city_name                  dept_name  \\\n",
       "0  Bellflower  Code Enforcement Division   \n",
       "\n",
       "                                     dept_address      dept_phone  \n",
       "0  16600 Civic Center Drive, Bellflower, CA 90706  (562) 804-1424  "
      ]
     },
     "execution_count": 1111,
     "metadata": {},
     "output_type": "execute_result"
    }
   ],
   "source": [
    "df_21"
   ]
  },
  {
   "cell_type": "code",
   "execution_count": 1112,
   "id": "d6ed4f6f",
   "metadata": {},
   "outputs": [],
   "source": [
    "df_22 = pd.read_json(\"df_22.json\", orient=\"index\").T # This line reads and transposes the data"
   ]
  },
  {
   "cell_type": "code",
   "execution_count": 1113,
   "id": "4f1f501c",
   "metadata": {},
   "outputs": [
    {
     "data": {
      "text/html": [
       "<div>\n",
       "<style scoped>\n",
       "    .dataframe tbody tr th:only-of-type {\n",
       "        vertical-align: middle;\n",
       "    }\n",
       "\n",
       "    .dataframe tbody tr th {\n",
       "        vertical-align: top;\n",
       "    }\n",
       "\n",
       "    .dataframe thead th {\n",
       "        text-align: right;\n",
       "    }\n",
       "</style>\n",
       "<table border=\"1\" class=\"dataframe\">\n",
       "  <thead>\n",
       "    <tr style=\"text-align: right;\">\n",
       "      <th></th>\n",
       "      <th>dept_name</th>\n",
       "      <th>dept_address</th>\n",
       "      <th>dept_details</th>\n",
       "    </tr>\n",
       "  </thead>\n",
       "  <tbody>\n",
       "    <tr>\n",
       "      <th>0</th>\n",
       "      <td>Code Enforcement</td>\n",
       "      <td>Benicia, California 94510</td>\n",
       "      <td>(p) 707-746-4275\\n(f) 707-745-4425</td>\n",
       "    </tr>\n",
       "  </tbody>\n",
       "</table>\n",
       "</div>"
      ],
      "text/plain": [
       "          dept_name               dept_address  \\\n",
       "0  Code Enforcement  Benicia, California 94510   \n",
       "\n",
       "                         dept_details  \n",
       "0  (p) 707-746-4275\\n(f) 707-745-4425  "
      ]
     },
     "execution_count": 1113,
     "metadata": {},
     "output_type": "execute_result"
    }
   ],
   "source": [
    "df_22"
   ]
  },
  {
   "cell_type": "code",
   "execution_count": 1114,
   "id": "c7616e67",
   "metadata": {},
   "outputs": [],
   "source": [
    "df_22[\"dept_phone\"] = df_22.dept_details[0][4:16]"
   ]
  },
  {
   "cell_type": "code",
   "execution_count": 1115,
   "id": "2b41cb10",
   "metadata": {},
   "outputs": [],
   "source": [
    "df_22[\"dept_fax\"] = df_22.dept_details[0][21:]"
   ]
  },
  {
   "cell_type": "code",
   "execution_count": 1116,
   "id": "3530a556",
   "metadata": {},
   "outputs": [],
   "source": [
    "df_22.drop(columns=[\"dept_details\"], inplace=True)"
   ]
  },
  {
   "cell_type": "code",
   "execution_count": 1117,
   "id": "fa0917f1",
   "metadata": {},
   "outputs": [],
   "source": [
    "df_22.insert(loc = 0,column=\"city_name\", value= \"Benicia\")"
   ]
  },
  {
   "cell_type": "code",
   "execution_count": 1118,
   "id": "f7fe5775",
   "metadata": {},
   "outputs": [
    {
     "data": {
      "text/html": [
       "<div>\n",
       "<style scoped>\n",
       "    .dataframe tbody tr th:only-of-type {\n",
       "        vertical-align: middle;\n",
       "    }\n",
       "\n",
       "    .dataframe tbody tr th {\n",
       "        vertical-align: top;\n",
       "    }\n",
       "\n",
       "    .dataframe thead th {\n",
       "        text-align: right;\n",
       "    }\n",
       "</style>\n",
       "<table border=\"1\" class=\"dataframe\">\n",
       "  <thead>\n",
       "    <tr style=\"text-align: right;\">\n",
       "      <th></th>\n",
       "      <th>city_name</th>\n",
       "      <th>dept_name</th>\n",
       "      <th>dept_address</th>\n",
       "      <th>dept_phone</th>\n",
       "      <th>dept_fax</th>\n",
       "    </tr>\n",
       "  </thead>\n",
       "  <tbody>\n",
       "    <tr>\n",
       "      <th>0</th>\n",
       "      <td>Benicia</td>\n",
       "      <td>Code Enforcement</td>\n",
       "      <td>Benicia, California 94510</td>\n",
       "      <td>707-746-4275</td>\n",
       "      <td>707-745-4425</td>\n",
       "    </tr>\n",
       "  </tbody>\n",
       "</table>\n",
       "</div>"
      ],
      "text/plain": [
       "  city_name         dept_name               dept_address    dept_phone  \\\n",
       "0   Benicia  Code Enforcement  Benicia, California 94510  707-746-4275   \n",
       "\n",
       "       dept_fax  \n",
       "0  707-745-4425  "
      ]
     },
     "execution_count": 1118,
     "metadata": {},
     "output_type": "execute_result"
    }
   ],
   "source": [
    "df_22"
   ]
  },
  {
   "cell_type": "code",
   "execution_count": 1119,
   "id": "d57f7fd8",
   "metadata": {},
   "outputs": [],
   "source": [
    "df_23 = pd.read_json(\"df_23.json\", orient=\"index\").T # This line reads and transposes the data"
   ]
  },
  {
   "cell_type": "code",
   "execution_count": 1120,
   "id": "f13bff3c",
   "metadata": {},
   "outputs": [],
   "source": [
    "df_23[\"dept_phone\"] = df_23.dept_details[0][20:34]"
   ]
  },
  {
   "cell_type": "code",
   "execution_count": 1121,
   "id": "5028d871",
   "metadata": {},
   "outputs": [],
   "source": [
    "df_23[\"dept_fax\"] = df_23.dept_details[0][46:]"
   ]
  },
  {
   "cell_type": "code",
   "execution_count": 1122,
   "id": "059628ff",
   "metadata": {},
   "outputs": [],
   "source": [
    "df_23.drop(columns=[\"dept_details\", \"dept_email\", \"dept_email_url\"], inplace=True)"
   ]
  },
  {
   "cell_type": "code",
   "execution_count": 1123,
   "id": "f5a2b296",
   "metadata": {},
   "outputs": [],
   "source": [
    "df_23.insert(loc = 0,column=\"city_name\", value= \"Big Bear Lake\")"
   ]
  },
  {
   "cell_type": "code",
   "execution_count": 1124,
   "id": "237d93a7",
   "metadata": {},
   "outputs": [
    {
     "data": {
      "text/html": [
       "<div>\n",
       "<style scoped>\n",
       "    .dataframe tbody tr th:only-of-type {\n",
       "        vertical-align: middle;\n",
       "    }\n",
       "\n",
       "    .dataframe tbody tr th {\n",
       "        vertical-align: top;\n",
       "    }\n",
       "\n",
       "    .dataframe thead th {\n",
       "        text-align: right;\n",
       "    }\n",
       "</style>\n",
       "<table border=\"1\" class=\"dataframe\">\n",
       "  <thead>\n",
       "    <tr style=\"text-align: right;\">\n",
       "      <th></th>\n",
       "      <th>city_name</th>\n",
       "      <th>dept_name</th>\n",
       "      <th>dept_address</th>\n",
       "      <th>dept_phone</th>\n",
       "      <th>dept_fax</th>\n",
       "    </tr>\n",
       "  </thead>\n",
       "  <tbody>\n",
       "    <tr>\n",
       "      <th>0</th>\n",
       "      <td>Big Bear Lake</td>\n",
       "      <td>Code Compliance</td>\n",
       "      <td>Physical Address\\n39707 Big Bear Boulevard\\nBig Bear Lake, CA 92315\\nMailing Address\\nCity of Big Bear Lake\\nPO Box 10000\\nBig Bear Lake, CA 92315</td>\n",
       "      <td>(909) 866-5831</td>\n",
       "      <td>(909) 866-7511</td>\n",
       "    </tr>\n",
       "  </tbody>\n",
       "</table>\n",
       "</div>"
      ],
      "text/plain": [
       "       city_name        dept_name  \\\n",
       "0  Big Bear Lake  Code Compliance   \n",
       "\n",
       "                                                                                                                                         dept_address  \\\n",
       "0  Physical Address\\n39707 Big Bear Boulevard\\nBig Bear Lake, CA 92315\\nMailing Address\\nCity of Big Bear Lake\\nPO Box 10000\\nBig Bear Lake, CA 92315   \n",
       "\n",
       "       dept_phone        dept_fax  \n",
       "0  (909) 866-5831  (909) 866-7511  "
      ]
     },
     "execution_count": 1124,
     "metadata": {},
     "output_type": "execute_result"
    }
   ],
   "source": [
    "df_23"
   ]
  },
  {
   "cell_type": "code",
   "execution_count": 1125,
   "id": "49c2797a",
   "metadata": {},
   "outputs": [],
   "source": [
    "df_24 = pd.read_json(\"df_24.json\", orient=\"index\").T # This line reads and transposes the data"
   ]
  },
  {
   "cell_type": "code",
   "execution_count": 1126,
   "id": "80765b4e",
   "metadata": {
    "scrolled": true
   },
   "outputs": [
    {
     "data": {
      "text/html": [
       "<div>\n",
       "<style scoped>\n",
       "    .dataframe tbody tr th:only-of-type {\n",
       "        vertical-align: middle;\n",
       "    }\n",
       "\n",
       "    .dataframe tbody tr th {\n",
       "        vertical-align: top;\n",
       "    }\n",
       "\n",
       "    .dataframe thead th {\n",
       "        text-align: right;\n",
       "    }\n",
       "</style>\n",
       "<table border=\"1\" class=\"dataframe\">\n",
       "  <thead>\n",
       "    <tr style=\"text-align: right;\">\n",
       "      <th></th>\n",
       "      <th>dept_name</th>\n",
       "      <th>dept_details</th>\n",
       "    </tr>\n",
       "  </thead>\n",
       "  <tbody>\n",
       "    <tr>\n",
       "      <th>0</th>\n",
       "      <td>Code Enforcement</td>\n",
       "      <td>[{'name': 'Code Enforcement\n",
       "465 C Street'}, {'name': 'PO Box 307'}, {'name': 'Biggs, CA 95917'}, {'name': '(530) 868-5447 Email'}]</td>\n",
       "    </tr>\n",
       "  </tbody>\n",
       "</table>\n",
       "</div>"
      ],
      "text/plain": [
       "          dept_name  \\\n",
       "0  Code Enforcement   \n",
       "\n",
       "                                                                                                                         dept_details  \n",
       "0  [{'name': 'Code Enforcement\n",
       "465 C Street'}, {'name': 'PO Box 307'}, {'name': 'Biggs, CA 95917'}, {'name': '(530) 868-5447 Email'}]  "
      ]
     },
     "execution_count": 1126,
     "metadata": {},
     "output_type": "execute_result"
    }
   ],
   "source": [
    "df_24"
   ]
  },
  {
   "cell_type": "code",
   "execution_count": 1127,
   "id": "8c7e26bf",
   "metadata": {},
   "outputs": [],
   "source": [
    "df_24.insert(loc = 0,column=\"city_name\", value= \"Biggs\")"
   ]
  },
  {
   "cell_type": "code",
   "execution_count": 1128,
   "id": "33bdbe15",
   "metadata": {},
   "outputs": [],
   "source": [
    "df_24[\"dept_address\"] = df_24.dept_details[0][0][\"name\"] + \" \"+ df_24.dept_details[0][1][\"name\"]+ \" \"+ df_24.dept_details[0][2][\"name\"]"
   ]
  },
  {
   "cell_type": "code",
   "execution_count": 1129,
   "id": "8f2fdf8a",
   "metadata": {},
   "outputs": [],
   "source": [
    "df_24[\"dept_phone\"] = df_24.dept_details[0][3][\"name\"][:14]"
   ]
  },
  {
   "cell_type": "code",
   "execution_count": 1130,
   "id": "77c1b575",
   "metadata": {},
   "outputs": [],
   "source": [
    "df_24.drop(columns=[\"dept_details\"], inplace=True)"
   ]
  },
  {
   "cell_type": "code",
   "execution_count": 1131,
   "id": "f8c4a3fc",
   "metadata": {},
   "outputs": [
    {
     "data": {
      "text/html": [
       "<div>\n",
       "<style scoped>\n",
       "    .dataframe tbody tr th:only-of-type {\n",
       "        vertical-align: middle;\n",
       "    }\n",
       "\n",
       "    .dataframe tbody tr th {\n",
       "        vertical-align: top;\n",
       "    }\n",
       "\n",
       "    .dataframe thead th {\n",
       "        text-align: right;\n",
       "    }\n",
       "</style>\n",
       "<table border=\"1\" class=\"dataframe\">\n",
       "  <thead>\n",
       "    <tr style=\"text-align: right;\">\n",
       "      <th></th>\n",
       "      <th>city_name</th>\n",
       "      <th>dept_name</th>\n",
       "      <th>dept_address</th>\n",
       "      <th>dept_phone</th>\n",
       "    </tr>\n",
       "  </thead>\n",
       "  <tbody>\n",
       "    <tr>\n",
       "      <th>0</th>\n",
       "      <td>Biggs</td>\n",
       "      <td>Code Enforcement</td>\n",
       "      <td>Code Enforcement\\n465 C Street PO Box 307 Biggs, CA 95917</td>\n",
       "      <td>(530) 868-5447</td>\n",
       "    </tr>\n",
       "  </tbody>\n",
       "</table>\n",
       "</div>"
      ],
      "text/plain": [
       "  city_name         dept_name  \\\n",
       "0     Biggs  Code Enforcement   \n",
       "\n",
       "                                                dept_address      dept_phone  \n",
       "0  Code Enforcement\\n465 C Street PO Box 307 Biggs, CA 95917  (530) 868-5447  "
      ]
     },
     "execution_count": 1131,
     "metadata": {},
     "output_type": "execute_result"
    }
   ],
   "source": [
    "df_24"
   ]
  },
  {
   "cell_type": "code",
   "execution_count": 1132,
   "id": "406365db",
   "metadata": {},
   "outputs": [],
   "source": [
    "df_25 = pd.read_json(\"df_25.json\", orient=\"index\").T #This line reads and transposes the data"
   ]
  },
  {
   "cell_type": "code",
   "execution_count": 1133,
   "id": "04e18133",
   "metadata": {},
   "outputs": [
    {
     "data": {
      "text/html": [
       "<div>\n",
       "<style scoped>\n",
       "    .dataframe tbody tr th:only-of-type {\n",
       "        vertical-align: middle;\n",
       "    }\n",
       "\n",
       "    .dataframe tbody tr th {\n",
       "        vertical-align: top;\n",
       "    }\n",
       "\n",
       "    .dataframe thead th {\n",
       "        text-align: right;\n",
       "    }\n",
       "</style>\n",
       "<table border=\"1\" class=\"dataframe\">\n",
       "  <thead>\n",
       "    <tr style=\"text-align: right;\">\n",
       "      <th></th>\n",
       "      <th>dept_name</th>\n",
       "      <th>dept_details</th>\n",
       "    </tr>\n",
       "  </thead>\n",
       "  <tbody>\n",
       "    <tr>\n",
       "      <th>0</th>\n",
       "      <td>Code Compliance</td>\n",
       "      <td>235 North Broadway\\nBlythe, CA 92225\\nPhone: (760) 922-6130\\nFax: (760) 922-4938</td>\n",
       "    </tr>\n",
       "  </tbody>\n",
       "</table>\n",
       "</div>"
      ],
      "text/plain": [
       "         dept_name  \\\n",
       "0  Code Compliance   \n",
       "\n",
       "                                                                       dept_details  \n",
       "0  235 North Broadway\\nBlythe, CA 92225\\nPhone: (760) 922-6130\\nFax: (760) 922-4938  "
      ]
     },
     "execution_count": 1133,
     "metadata": {},
     "output_type": "execute_result"
    }
   ],
   "source": [
    "df_25"
   ]
  },
  {
   "cell_type": "code",
   "execution_count": 1134,
   "id": "4b1a17e4",
   "metadata": {},
   "outputs": [],
   "source": [
    "df_25[\"dept_address\"] = df_25.dept_details[0][:35]"
   ]
  },
  {
   "cell_type": "code",
   "execution_count": 1135,
   "id": "0eabb0e6",
   "metadata": {},
   "outputs": [],
   "source": [
    "df_25[\"dept_phone\"] = df_25.dept_details[0][43:57]"
   ]
  },
  {
   "cell_type": "code",
   "execution_count": 1136,
   "id": "6a0547ec",
   "metadata": {},
   "outputs": [],
   "source": [
    "df_25[\"dept_fax\"] = df_25.dept_details[0][63:]"
   ]
  },
  {
   "cell_type": "code",
   "execution_count": 1137,
   "id": "aaa43f3c",
   "metadata": {},
   "outputs": [],
   "source": [
    "df_25.insert(loc = 0,column=\"city_name\", value= \"Blythe\")"
   ]
  },
  {
   "cell_type": "code",
   "execution_count": 1138,
   "id": "aafdebc2",
   "metadata": {},
   "outputs": [],
   "source": [
    "df_25.drop(columns=\"dept_details\", inplace=True)"
   ]
  },
  {
   "cell_type": "code",
   "execution_count": 1139,
   "id": "7bf8e043",
   "metadata": {},
   "outputs": [
    {
     "data": {
      "text/html": [
       "<div>\n",
       "<style scoped>\n",
       "    .dataframe tbody tr th:only-of-type {\n",
       "        vertical-align: middle;\n",
       "    }\n",
       "\n",
       "    .dataframe tbody tr th {\n",
       "        vertical-align: top;\n",
       "    }\n",
       "\n",
       "    .dataframe thead th {\n",
       "        text-align: right;\n",
       "    }\n",
       "</style>\n",
       "<table border=\"1\" class=\"dataframe\">\n",
       "  <thead>\n",
       "    <tr style=\"text-align: right;\">\n",
       "      <th></th>\n",
       "      <th>city_name</th>\n",
       "      <th>dept_name</th>\n",
       "      <th>dept_address</th>\n",
       "      <th>dept_phone</th>\n",
       "      <th>dept_fax</th>\n",
       "    </tr>\n",
       "  </thead>\n",
       "  <tbody>\n",
       "    <tr>\n",
       "      <th>0</th>\n",
       "      <td>Blythe</td>\n",
       "      <td>Code Compliance</td>\n",
       "      <td>235 North Broadway\\nBlythe, CA 92225</td>\n",
       "      <td>(760) 922-6130</td>\n",
       "      <td>(760) 922-4938</td>\n",
       "    </tr>\n",
       "  </tbody>\n",
       "</table>\n",
       "</div>"
      ],
      "text/plain": [
       "  city_name        dept_name                          dept_address  \\\n",
       "0    Blythe  Code Compliance  235 North Broadway\\nBlythe, CA 92225   \n",
       "\n",
       "       dept_phone        dept_fax  \n",
       "0  (760) 922-6130  (760) 922-4938  "
      ]
     },
     "execution_count": 1139,
     "metadata": {},
     "output_type": "execute_result"
    }
   ],
   "source": [
    "df_25"
   ]
  },
  {
   "cell_type": "markdown",
   "id": "e1123147",
   "metadata": {},
   "source": [
    "### Combining dataframes"
   ]
  },
  {
   "cell_type": "code",
   "execution_count": 1140,
   "id": "973a1f0b",
   "metadata": {},
   "outputs": [],
   "source": [
    "big_data = pd.concat([df_1, df_2, df_3, df_4, df_5, df_6, df_7, df_8, df_9, df_10, df_11, df_12,\n",
    "                     df_13, df_14, df_15, df_16, df_17, df_18, df_19, df_20, df_21, df_22, df_23,\n",
    "                     df_24, df_25], ignore_index=True)"
   ]
  },
  {
   "cell_type": "code",
   "execution_count": 1141,
   "id": "0dc30ac9",
   "metadata": {},
   "outputs": [],
   "source": [
    "big_data = big_data.fillna(\"-\")"
   ]
  },
  {
   "cell_type": "code",
   "execution_count": 1142,
   "id": "079cd576",
   "metadata": {},
   "outputs": [
    {
     "data": {
      "text/html": [
       "<div>\n",
       "<style scoped>\n",
       "    .dataframe tbody tr th:only-of-type {\n",
       "        vertical-align: middle;\n",
       "    }\n",
       "\n",
       "    .dataframe tbody tr th {\n",
       "        vertical-align: top;\n",
       "    }\n",
       "\n",
       "    .dataframe thead th {\n",
       "        text-align: right;\n",
       "    }\n",
       "</style>\n",
       "<table border=\"1\" class=\"dataframe\">\n",
       "  <thead>\n",
       "    <tr style=\"text-align: right;\">\n",
       "      <th></th>\n",
       "      <th>city_name</th>\n",
       "      <th>dept_name</th>\n",
       "      <th>dept_address</th>\n",
       "      <th>dept_phone</th>\n",
       "      <th>dept_fax</th>\n",
       "      <th>dept_website</th>\n",
       "      <th>dept_email</th>\n",
       "    </tr>\n",
       "  </thead>\n",
       "  <tbody>\n",
       "    <tr>\n",
       "      <th>0</th>\n",
       "      <td>Adelanto</td>\n",
       "      <td>Code Compliance</td>\n",
       "      <td>Physical Address\\n11600 Air Expressway\\nAdelanto, CA 92301</td>\n",
       "      <td>442-249-1177</td>\n",
       "      <td>442-249-1161</td>\n",
       "      <td>https://www.ci.adelanto.ca.us</td>\n",
       "      <td>-</td>\n",
       "    </tr>\n",
       "    <tr>\n",
       "      <th>1</th>\n",
       "      <td>City of Agoura Hills</td>\n",
       "      <td>Building and Safety Division</td>\n",
       "      <td>Contact Information\\n30001 Ladyface Ct. Agoura Hills, CA 91301</td>\n",
       "      <td>(818) 597-7334</td>\n",
       "      <td>(818) 597-7352</td>\n",
       "      <td>Permits@AgouraHillsCity.org</td>\n",
       "      <td>-</td>\n",
       "    </tr>\n",
       "    <tr>\n",
       "      <th>2</th>\n",
       "      <td>Alameda</td>\n",
       "      <td>Rent Program</td>\n",
       "      <td>-</td>\n",
       "      <td>510-747-7520</td>\n",
       "      <td>510-865-4028</td>\n",
       "      <td>Alameda Rent Program</td>\n",
       "      <td>rentprogram@alamedaca.gov</td>\n",
       "    </tr>\n",
       "    <tr>\n",
       "      <th>3</th>\n",
       "      <td>Albany</td>\n",
       "      <td>Code Requirements &amp; Enforcement</td>\n",
       "      <td>Community Development\\nBuilding Division\\n1000 San Pablo Avenue\\nAlbany, CA 94706\\n1 + (510) 528-5760\\nEmail</td>\n",
       "      <td>+ (510) 528-5760</td>\n",
       "      <td>-</td>\n",
       "      <td>-</td>\n",
       "      <td>-</td>\n",
       "    </tr>\n",
       "    <tr>\n",
       "      <th>4</th>\n",
       "      <td>City of Alhambra</td>\n",
       "      <td>Code Enforcement Division</td>\n",
       "      <td>Physical Address View Map\\n111 South First Street\\nAlhambra, CA 91801</td>\n",
       "      <td>626-570-3230</td>\n",
       "      <td>-</td>\n",
       "      <td>-</td>\n",
       "      <td>Email Code Enforcement</td>\n",
       "    </tr>\n",
       "    <tr>\n",
       "      <th>5</th>\n",
       "      <td>Amador City</td>\n",
       "      <td>Code Enforcement</td>\n",
       "      <td>City Hall\\n200 S Anaheim Boulevard\\n5th Floor, Suite 525\\nAnaheim, CA 92805</td>\n",
       "      <td>714-765-5158</td>\n",
       "      <td>-</td>\n",
       "      <td>-</td>\n",
       "      <td>-</td>\n",
       "    </tr>\n",
       "    <tr>\n",
       "      <th>6</th>\n",
       "      <td>Anderson</td>\n",
       "      <td>Code Enforcement</td>\n",
       "      <td>City of Anderson\\n1887 Howard St, Anderson CA 96007\\n530-378-6626\\n©2023 All Rights Reserved Anderson, CA</td>\n",
       "      <td>530-378-6626</td>\n",
       "      <td>-</td>\n",
       "      <td>-</td>\n",
       "      <td>-</td>\n",
       "    </tr>\n",
       "    <tr>\n",
       "      <th>7</th>\n",
       "      <td>Angels Camp</td>\n",
       "      <td>Code Enforcement</td>\n",
       "      <td>200 Monte Verda St. #B | P.O. Box 667\\nAngels Camp, CA 95222</td>\n",
       "      <td>(209) 736-1346</td>\n",
       "      <td>(209) 736-9048</td>\n",
       "      <td>-</td>\n",
       "      <td>-</td>\n",
       "    </tr>\n",
       "    <tr>\n",
       "      <th>8</th>\n",
       "      <td>Arcata</td>\n",
       "      <td>Building &amp; Engineering</td>\n",
       "      <td>City of Arcata\\n736 F Street\\nArcata, CA 95521</td>\n",
       "      <td>707-822-5951</td>\n",
       "      <td>-</td>\n",
       "      <td>-</td>\n",
       "      <td>-</td>\n",
       "    </tr>\n",
       "    <tr>\n",
       "      <th>9</th>\n",
       "      <td>Arroyo Grande</td>\n",
       "      <td>Community Services Specialist (Code Enforcement)</td>\n",
       "      <td>300 E Branch Street\\nArroyo Grande, CA 93420</td>\n",
       "      <td>805-473-5400</td>\n",
       "      <td>805-473-0386</td>\n",
       "      <td>-</td>\n",
       "      <td>-</td>\n",
       "    </tr>\n",
       "    <tr>\n",
       "      <th>10</th>\n",
       "      <td>Artesia</td>\n",
       "      <td>Code Enforcement</td>\n",
       "      <td>18747 Clarkdale Avenue</td>\n",
       "      <td>562-865-6262</td>\n",
       "      <td>562-865-6240</td>\n",
       "      <td>-</td>\n",
       "      <td>-</td>\n",
       "    </tr>\n",
       "    <tr>\n",
       "      <th>11</th>\n",
       "      <td>Arvin</td>\n",
       "      <td>Parks &amp; Recreation</td>\n",
       "      <td>Physical Address View Map\\n200 Campus Drive\\nArvin, CA 93203</td>\n",
       "      <td>661-854-3134</td>\n",
       "      <td>-</td>\n",
       "      <td>-</td>\n",
       "      <td>-</td>\n",
       "    </tr>\n",
       "    <tr>\n",
       "      <th>12</th>\n",
       "      <td>Atherton</td>\n",
       "      <td>Building</td>\n",
       "      <td>Physical Address\\n80 Fair Oaks Lane\\n2nd Floor\\nAtherton, CA 94027</td>\n",
       "      <td>650-752-0560</td>\n",
       "      <td>650-688-6528</td>\n",
       "      <td>-</td>\n",
       "      <td>-</td>\n",
       "    </tr>\n",
       "    <tr>\n",
       "      <th>13</th>\n",
       "      <td>-</td>\n",
       "      <td>City Administration</td>\n",
       "      <td>750 Bellevue Rd • Atwater, CA 95301</td>\n",
       "      <td>(209) 357-6310</td>\n",
       "      <td>-</td>\n",
       "      <td>-</td>\n",
       "      <td>-</td>\n",
       "    </tr>\n",
       "    <tr>\n",
       "      <th>14</th>\n",
       "      <td>Auburn</td>\n",
       "      <td>Planning &amp; Public Works</td>\n",
       "      <td>City Hall • 1225 Lincoln Way • Auburn, CA 95603 •</td>\n",
       "      <td>530-823-4211</td>\n",
       "      <td>-</td>\n",
       "      <td>-</td>\n",
       "      <td>-</td>\n",
       "    </tr>\n",
       "    <tr>\n",
       "      <th>15</th>\n",
       "      <td>Avalon</td>\n",
       "      <td>Code Enforcement</td>\n",
       "      <td>410 Avalon Canyon Road P.O. Box 707 Avalon, CA 90704</td>\n",
       "      <td>310-510-0220,</td>\n",
       "      <td>-</td>\n",
       "      <td>-</td>\n",
       "      <td>-</td>\n",
       "    </tr>\n",
       "    <tr>\n",
       "      <th>16</th>\n",
       "      <td>Azusa</td>\n",
       "      <td>Building Division</td>\n",
       "      <td>Physical Address\\n213 E. Foothill Blvd.\\nAzusa, CA 91702</td>\n",
       "      <td>(626) 812-5234</td>\n",
       "      <td>(626) 334-5464</td>\n",
       "      <td>-</td>\n",
       "      <td>mailto:buildingpermits@AzusaCa.Gov</td>\n",
       "    </tr>\n",
       "    <tr>\n",
       "      <th>17</th>\n",
       "      <td>Banning</td>\n",
       "      <td>Code Enforcement</td>\n",
       "      <td>-</td>\n",
       "      <td>951-922-4821</td>\n",
       "      <td>951-846-8618</td>\n",
       "      <td>-</td>\n",
       "      <td>CE@banningca.gov</td>\n",
       "    </tr>\n",
       "    <tr>\n",
       "      <th>18</th>\n",
       "      <td>Barstow</td>\n",
       "      <td>Code Compliance</td>\n",
       "      <td>220 E. Mountain View St. Suite A\\nBarstow, CA 92311</td>\n",
       "      <td>(909) 387-3811</td>\n",
       "      <td>-</td>\n",
       "      <td>-</td>\n",
       "      <td>codeenforcementdivision@lus.sbcounty.gov</td>\n",
       "    </tr>\n",
       "    <tr>\n",
       "      <th>19</th>\n",
       "      <td>Bell Gardens</td>\n",
       "      <td>Planning</td>\n",
       "      <td>7100 Garfield Ave\\nBell Gardens, CA 90201</td>\n",
       "      <td>(562) 806-7700</td>\n",
       "      <td>-</td>\n",
       "      <td>-</td>\n",
       "      <td>mmossayeb@bellgardens.org</td>\n",
       "    </tr>\n",
       "    <tr>\n",
       "      <th>20</th>\n",
       "      <td>Bellflower</td>\n",
       "      <td>Code Enforcement Division</td>\n",
       "      <td>16600 Civic Center Drive, Bellflower, CA 90706</td>\n",
       "      <td>(562) 804-1424</td>\n",
       "      <td>-</td>\n",
       "      <td>-</td>\n",
       "      <td>-</td>\n",
       "    </tr>\n",
       "    <tr>\n",
       "      <th>21</th>\n",
       "      <td>Benicia</td>\n",
       "      <td>Code Enforcement</td>\n",
       "      <td>Benicia, California 94510</td>\n",
       "      <td>707-746-4275</td>\n",
       "      <td>707-745-4425</td>\n",
       "      <td>-</td>\n",
       "      <td>-</td>\n",
       "    </tr>\n",
       "    <tr>\n",
       "      <th>22</th>\n",
       "      <td>Big Bear Lake</td>\n",
       "      <td>Code Compliance</td>\n",
       "      <td>Physical Address\\n39707 Big Bear Boulevard\\nBig Bear Lake, CA 92315\\nMailing Address\\nCity of Big Bear Lake\\nPO Box 10000\\nBig Bear Lake, CA 92315</td>\n",
       "      <td>(909) 866-5831</td>\n",
       "      <td>(909) 866-7511</td>\n",
       "      <td>-</td>\n",
       "      <td>-</td>\n",
       "    </tr>\n",
       "    <tr>\n",
       "      <th>23</th>\n",
       "      <td>Biggs</td>\n",
       "      <td>Code Enforcement</td>\n",
       "      <td>Code Enforcement\\n465 C Street PO Box 307 Biggs, CA 95917</td>\n",
       "      <td>(530) 868-5447</td>\n",
       "      <td>-</td>\n",
       "      <td>-</td>\n",
       "      <td>-</td>\n",
       "    </tr>\n",
       "    <tr>\n",
       "      <th>24</th>\n",
       "      <td>Blythe</td>\n",
       "      <td>Code Compliance</td>\n",
       "      <td>235 North Broadway\\nBlythe, CA 92225</td>\n",
       "      <td>(760) 922-6130</td>\n",
       "      <td>(760) 922-4938</td>\n",
       "      <td>-</td>\n",
       "      <td>-</td>\n",
       "    </tr>\n",
       "  </tbody>\n",
       "</table>\n",
       "</div>"
      ],
      "text/plain": [
       "               city_name                                         dept_name  \\\n",
       "0               Adelanto                                   Code Compliance   \n",
       "1   City of Agoura Hills                      Building and Safety Division   \n",
       "2                Alameda                                      Rent Program   \n",
       "3                 Albany                   Code Requirements & Enforcement   \n",
       "4       City of Alhambra                         Code Enforcement Division   \n",
       "5            Amador City                                  Code Enforcement   \n",
       "6               Anderson                                  Code Enforcement   \n",
       "7            Angels Camp                                  Code Enforcement   \n",
       "8                 Arcata                            Building & Engineering   \n",
       "9          Arroyo Grande  Community Services Specialist (Code Enforcement)   \n",
       "10               Artesia                                  Code Enforcement   \n",
       "11                 Arvin                                Parks & Recreation   \n",
       "12              Atherton                                          Building   \n",
       "13                     -                               City Administration   \n",
       "14                Auburn                           Planning & Public Works   \n",
       "15                Avalon                                  Code Enforcement   \n",
       "16                 Azusa                                 Building Division   \n",
       "17               Banning                                  Code Enforcement   \n",
       "18               Barstow                                   Code Compliance   \n",
       "19          Bell Gardens                                          Planning   \n",
       "20            Bellflower                         Code Enforcement Division   \n",
       "21               Benicia                                  Code Enforcement   \n",
       "22         Big Bear Lake                                   Code Compliance   \n",
       "23                 Biggs                                  Code Enforcement   \n",
       "24                Blythe                                   Code Compliance   \n",
       "\n",
       "                                                                                                                                          dept_address  \\\n",
       "0                                                                                           Physical Address\\n11600 Air Expressway\\nAdelanto, CA 92301   \n",
       "1                                                                                       Contact Information\\n30001 Ladyface Ct. Agoura Hills, CA 91301   \n",
       "2                                                                                                                                                    -   \n",
       "3                                         Community Development\\nBuilding Division\\n1000 San Pablo Avenue\\nAlbany, CA 94706\\n1 + (510) 528-5760\\nEmail   \n",
       "4                                                                                Physical Address View Map\\n111 South First Street\\nAlhambra, CA 91801   \n",
       "5                                                                          City Hall\\n200 S Anaheim Boulevard\\n5th Floor, Suite 525\\nAnaheim, CA 92805   \n",
       "6                                            City of Anderson\\n1887 Howard St, Anderson CA 96007\\n530-378-6626\\n©2023 All Rights Reserved Anderson, CA   \n",
       "7                                                                                         200 Monte Verda St. #B | P.O. Box 667\\nAngels Camp, CA 95222   \n",
       "8                                                                                                       City of Arcata\\n736 F Street\\nArcata, CA 95521   \n",
       "9                                                                                                         300 E Branch Street\\nArroyo Grande, CA 93420   \n",
       "10                                                                                                                              18747 Clarkdale Avenue   \n",
       "11                                                                                        Physical Address View Map\\n200 Campus Drive\\nArvin, CA 93203   \n",
       "12                                                                                  Physical Address\\n80 Fair Oaks Lane\\n2nd Floor\\nAtherton, CA 94027   \n",
       "13                                                                                                                 750 Bellevue Rd • Atwater, CA 95301   \n",
       "14                                                                                                   City Hall • 1225 Lincoln Way • Auburn, CA 95603 •   \n",
       "15                                                                                                410 Avalon Canyon Road P.O. Box 707 Avalon, CA 90704   \n",
       "16                                                                                            Physical Address\\n213 E. Foothill Blvd.\\nAzusa, CA 91702   \n",
       "17                                                                                                                                                   -   \n",
       "18                                                                                                 220 E. Mountain View St. Suite A\\nBarstow, CA 92311   \n",
       "19                                                                                                           7100 Garfield Ave\\nBell Gardens, CA 90201   \n",
       "20                                                                                                      16600 Civic Center Drive, Bellflower, CA 90706   \n",
       "21                                                                                                                           Benicia, California 94510   \n",
       "22  Physical Address\\n39707 Big Bear Boulevard\\nBig Bear Lake, CA 92315\\nMailing Address\\nCity of Big Bear Lake\\nPO Box 10000\\nBig Bear Lake, CA 92315   \n",
       "23                                                                                           Code Enforcement\\n465 C Street PO Box 307 Biggs, CA 95917   \n",
       "24                                                                                                                235 North Broadway\\nBlythe, CA 92225   \n",
       "\n",
       "          dept_phone        dept_fax                   dept_website  \\\n",
       "0       442-249-1177    442-249-1161  https://www.ci.adelanto.ca.us   \n",
       "1     (818) 597-7334  (818) 597-7352    Permits@AgouraHillsCity.org   \n",
       "2       510-747-7520    510-865-4028           Alameda Rent Program   \n",
       "3   + (510) 528-5760               -                              -   \n",
       "4       626-570-3230               -                              -   \n",
       "5       714-765-5158               -                              -   \n",
       "6       530-378-6626               -                              -   \n",
       "7     (209) 736-1346  (209) 736-9048                              -   \n",
       "8       707-822-5951               -                              -   \n",
       "9       805-473-5400    805-473-0386                              -   \n",
       "10      562-865-6262    562-865-6240                              -   \n",
       "11      661-854-3134               -                              -   \n",
       "12      650-752-0560    650-688-6528                              -   \n",
       "13    (209) 357-6310               -                              -   \n",
       "14      530-823-4211               -                              -   \n",
       "15     310-510-0220,               -                              -   \n",
       "16    (626) 812-5234  (626) 334-5464                              -   \n",
       "17      951-922-4821    951-846-8618                              -   \n",
       "18    (909) 387-3811               -                              -   \n",
       "19    (562) 806-7700               -                              -   \n",
       "20    (562) 804-1424               -                              -   \n",
       "21      707-746-4275    707-745-4425                              -   \n",
       "22    (909) 866-5831  (909) 866-7511                              -   \n",
       "23    (530) 868-5447               -                              -   \n",
       "24    (760) 922-6130  (760) 922-4938                              -   \n",
       "\n",
       "                                  dept_email  \n",
       "0                                          -  \n",
       "1                                          -  \n",
       "2                  rentprogram@alamedaca.gov  \n",
       "3                                          -  \n",
       "4                     Email Code Enforcement  \n",
       "5                                          -  \n",
       "6                                          -  \n",
       "7                                          -  \n",
       "8                                          -  \n",
       "9                                          -  \n",
       "10                                         -  \n",
       "11                                         -  \n",
       "12                                         -  \n",
       "13                                         -  \n",
       "14                                         -  \n",
       "15                                         -  \n",
       "16        mailto:buildingpermits@AzusaCa.Gov  \n",
       "17                          CE@banningca.gov  \n",
       "18  codeenforcementdivision@lus.sbcounty.gov  \n",
       "19                 mmossayeb@bellgardens.org  \n",
       "20                                         -  \n",
       "21                                         -  \n",
       "22                                         -  \n",
       "23                                         -  \n",
       "24                                         -  "
      ]
     },
     "execution_count": 1142,
     "metadata": {},
     "output_type": "execute_result"
    }
   ],
   "source": [
    "big_data"
   ]
  },
  {
   "cell_type": "code",
   "execution_count": 1143,
   "id": "9e1f1d0c",
   "metadata": {},
   "outputs": [],
   "source": [
    "big_data.dept_address = big_data.dept_address.apply(lambda x: x.replace(\"\\n\", \" \"))"
   ]
  },
  {
   "cell_type": "code",
   "execution_count": 1145,
   "id": "200a397d",
   "metadata": {
    "scrolled": false
   },
   "outputs": [
    {
     "data": {
      "text/html": [
       "<div>\n",
       "<style scoped>\n",
       "    .dataframe tbody tr th:only-of-type {\n",
       "        vertical-align: middle;\n",
       "    }\n",
       "\n",
       "    .dataframe tbody tr th {\n",
       "        vertical-align: top;\n",
       "    }\n",
       "\n",
       "    .dataframe thead th {\n",
       "        text-align: right;\n",
       "    }\n",
       "</style>\n",
       "<table border=\"1\" class=\"dataframe\">\n",
       "  <thead>\n",
       "    <tr style=\"text-align: right;\">\n",
       "      <th></th>\n",
       "      <th>city_name</th>\n",
       "      <th>dept_name</th>\n",
       "      <th>dept_address</th>\n",
       "      <th>dept_phone</th>\n",
       "      <th>dept_fax</th>\n",
       "      <th>dept_website</th>\n",
       "      <th>dept_email</th>\n",
       "    </tr>\n",
       "  </thead>\n",
       "  <tbody>\n",
       "    <tr>\n",
       "      <th>0</th>\n",
       "      <td>Adelanto</td>\n",
       "      <td>Code Compliance</td>\n",
       "      <td>Physical Address 11600 Air Expressway Adelanto, CA 92301</td>\n",
       "      <td>442-249-1177</td>\n",
       "      <td>442-249-1161</td>\n",
       "      <td>https://www.ci.adelanto.ca.us</td>\n",
       "      <td>-</td>\n",
       "    </tr>\n",
       "    <tr>\n",
       "      <th>1</th>\n",
       "      <td>City of Agoura Hills</td>\n",
       "      <td>Building and Safety Division</td>\n",
       "      <td>Contact Information 30001 Ladyface Ct. Agoura Hills, CA 91301</td>\n",
       "      <td>(818) 597-7334</td>\n",
       "      <td>(818) 597-7352</td>\n",
       "      <td>Permits@AgouraHillsCity.org</td>\n",
       "      <td>-</td>\n",
       "    </tr>\n",
       "    <tr>\n",
       "      <th>2</th>\n",
       "      <td>Alameda</td>\n",
       "      <td>Rent Program</td>\n",
       "      <td>-</td>\n",
       "      <td>510-747-7520</td>\n",
       "      <td>510-865-4028</td>\n",
       "      <td>Alameda Rent Program</td>\n",
       "      <td>rentprogram@alamedaca.gov</td>\n",
       "    </tr>\n",
       "    <tr>\n",
       "      <th>3</th>\n",
       "      <td>Albany</td>\n",
       "      <td>Code Requirements &amp; Enforcement</td>\n",
       "      <td>Community Development Building Division 1000 San Pablo Avenue Albany, CA 94706 1 + (510) 528-5760 Email</td>\n",
       "      <td>+ (510) 528-5760</td>\n",
       "      <td>-</td>\n",
       "      <td>-</td>\n",
       "      <td>-</td>\n",
       "    </tr>\n",
       "    <tr>\n",
       "      <th>4</th>\n",
       "      <td>City of Alhambra</td>\n",
       "      <td>Code Enforcement Division</td>\n",
       "      <td>Physical Address View Map 111 South First Street Alhambra, CA 91801</td>\n",
       "      <td>626-570-3230</td>\n",
       "      <td>-</td>\n",
       "      <td>-</td>\n",
       "      <td>Email Code Enforcement</td>\n",
       "    </tr>\n",
       "    <tr>\n",
       "      <th>5</th>\n",
       "      <td>Amador City</td>\n",
       "      <td>Code Enforcement</td>\n",
       "      <td>City Hall 200 S Anaheim Boulevard 5th Floor, Suite 525 Anaheim, CA 92805</td>\n",
       "      <td>714-765-5158</td>\n",
       "      <td>-</td>\n",
       "      <td>-</td>\n",
       "      <td>-</td>\n",
       "    </tr>\n",
       "    <tr>\n",
       "      <th>6</th>\n",
       "      <td>Anderson</td>\n",
       "      <td>Code Enforcement</td>\n",
       "      <td>City of Anderson 1887 Howard St, Anderson CA 96007 530-378-6626 ©2023 All Rights Reserved Anderson, CA</td>\n",
       "      <td>530-378-6626</td>\n",
       "      <td>-</td>\n",
       "      <td>-</td>\n",
       "      <td>-</td>\n",
       "    </tr>\n",
       "    <tr>\n",
       "      <th>7</th>\n",
       "      <td>Angels Camp</td>\n",
       "      <td>Code Enforcement</td>\n",
       "      <td>200 Monte Verda St. #B | P.O. Box 667 Angels Camp, CA 95222</td>\n",
       "      <td>(209) 736-1346</td>\n",
       "      <td>(209) 736-9048</td>\n",
       "      <td>-</td>\n",
       "      <td>-</td>\n",
       "    </tr>\n",
       "    <tr>\n",
       "      <th>8</th>\n",
       "      <td>Arcata</td>\n",
       "      <td>Building &amp; Engineering</td>\n",
       "      <td>City of Arcata 736 F Street Arcata, CA 95521</td>\n",
       "      <td>707-822-5951</td>\n",
       "      <td>-</td>\n",
       "      <td>-</td>\n",
       "      <td>-</td>\n",
       "    </tr>\n",
       "    <tr>\n",
       "      <th>9</th>\n",
       "      <td>Arroyo Grande</td>\n",
       "      <td>Community Services Specialist (Code Enforcement)</td>\n",
       "      <td>300 E Branch Street Arroyo Grande, CA 93420</td>\n",
       "      <td>805-473-5400</td>\n",
       "      <td>805-473-0386</td>\n",
       "      <td>-</td>\n",
       "      <td>-</td>\n",
       "    </tr>\n",
       "    <tr>\n",
       "      <th>10</th>\n",
       "      <td>Artesia</td>\n",
       "      <td>Code Enforcement</td>\n",
       "      <td>18747 Clarkdale Avenue</td>\n",
       "      <td>562-865-6262</td>\n",
       "      <td>562-865-6240</td>\n",
       "      <td>-</td>\n",
       "      <td>-</td>\n",
       "    </tr>\n",
       "    <tr>\n",
       "      <th>11</th>\n",
       "      <td>Arvin</td>\n",
       "      <td>Parks &amp; Recreation</td>\n",
       "      <td>Physical Address View Map 200 Campus Drive Arvin, CA 93203</td>\n",
       "      <td>661-854-3134</td>\n",
       "      <td>-</td>\n",
       "      <td>-</td>\n",
       "      <td>-</td>\n",
       "    </tr>\n",
       "    <tr>\n",
       "      <th>12</th>\n",
       "      <td>Atherton</td>\n",
       "      <td>Building</td>\n",
       "      <td>Physical Address 80 Fair Oaks Lane 2nd Floor Atherton, CA 94027</td>\n",
       "      <td>650-752-0560</td>\n",
       "      <td>650-688-6528</td>\n",
       "      <td>-</td>\n",
       "      <td>-</td>\n",
       "    </tr>\n",
       "    <tr>\n",
       "      <th>13</th>\n",
       "      <td>-</td>\n",
       "      <td>City Administration</td>\n",
       "      <td>750 Bellevue Rd • Atwater, CA 95301</td>\n",
       "      <td>(209) 357-6310</td>\n",
       "      <td>-</td>\n",
       "      <td>-</td>\n",
       "      <td>-</td>\n",
       "    </tr>\n",
       "    <tr>\n",
       "      <th>14</th>\n",
       "      <td>Auburn</td>\n",
       "      <td>Planning &amp; Public Works</td>\n",
       "      <td>City Hall • 1225 Lincoln Way • Auburn, CA 95603 •</td>\n",
       "      <td>530-823-4211</td>\n",
       "      <td>-</td>\n",
       "      <td>-</td>\n",
       "      <td>-</td>\n",
       "    </tr>\n",
       "    <tr>\n",
       "      <th>15</th>\n",
       "      <td>Avalon</td>\n",
       "      <td>Code Enforcement</td>\n",
       "      <td>410 Avalon Canyon Road P.O. Box 707 Avalon, CA 90704</td>\n",
       "      <td>310-510-0220,</td>\n",
       "      <td>-</td>\n",
       "      <td>-</td>\n",
       "      <td>-</td>\n",
       "    </tr>\n",
       "    <tr>\n",
       "      <th>16</th>\n",
       "      <td>Azusa</td>\n",
       "      <td>Building Division</td>\n",
       "      <td>Physical Address 213 E. Foothill Blvd. Azusa, CA 91702</td>\n",
       "      <td>(626) 812-5234</td>\n",
       "      <td>(626) 334-5464</td>\n",
       "      <td>-</td>\n",
       "      <td>mailto:buildingpermits@AzusaCa.Gov</td>\n",
       "    </tr>\n",
       "    <tr>\n",
       "      <th>17</th>\n",
       "      <td>Banning</td>\n",
       "      <td>Code Enforcement</td>\n",
       "      <td>-</td>\n",
       "      <td>951-922-4821</td>\n",
       "      <td>951-846-8618</td>\n",
       "      <td>-</td>\n",
       "      <td>CE@banningca.gov</td>\n",
       "    </tr>\n",
       "    <tr>\n",
       "      <th>18</th>\n",
       "      <td>Barstow</td>\n",
       "      <td>Code Compliance</td>\n",
       "      <td>220 E. Mountain View St. Suite A Barstow, CA 92311</td>\n",
       "      <td>(909) 387-3811</td>\n",
       "      <td>-</td>\n",
       "      <td>-</td>\n",
       "      <td>codeenforcementdivision@lus.sbcounty.gov</td>\n",
       "    </tr>\n",
       "    <tr>\n",
       "      <th>19</th>\n",
       "      <td>Bell Gardens</td>\n",
       "      <td>Planning</td>\n",
       "      <td>7100 Garfield Ave Bell Gardens, CA 90201</td>\n",
       "      <td>(562) 806-7700</td>\n",
       "      <td>-</td>\n",
       "      <td>-</td>\n",
       "      <td>mmossayeb@bellgardens.org</td>\n",
       "    </tr>\n",
       "    <tr>\n",
       "      <th>20</th>\n",
       "      <td>Bellflower</td>\n",
       "      <td>Code Enforcement Division</td>\n",
       "      <td>16600 Civic Center Drive, Bellflower, CA 90706</td>\n",
       "      <td>(562) 804-1424</td>\n",
       "      <td>-</td>\n",
       "      <td>-</td>\n",
       "      <td>-</td>\n",
       "    </tr>\n",
       "    <tr>\n",
       "      <th>21</th>\n",
       "      <td>Benicia</td>\n",
       "      <td>Code Enforcement</td>\n",
       "      <td>Benicia, California 94510</td>\n",
       "      <td>707-746-4275</td>\n",
       "      <td>707-745-4425</td>\n",
       "      <td>-</td>\n",
       "      <td>-</td>\n",
       "    </tr>\n",
       "    <tr>\n",
       "      <th>22</th>\n",
       "      <td>Big Bear Lake</td>\n",
       "      <td>Code Compliance</td>\n",
       "      <td>Physical Address 39707 Big Bear Boulevard Big Bear Lake, CA 92315 Mailing Address City of Big Bear Lake PO Box 10000 Big Bear Lake, CA 92315</td>\n",
       "      <td>(909) 866-5831</td>\n",
       "      <td>(909) 866-7511</td>\n",
       "      <td>-</td>\n",
       "      <td>-</td>\n",
       "    </tr>\n",
       "    <tr>\n",
       "      <th>23</th>\n",
       "      <td>Biggs</td>\n",
       "      <td>Code Enforcement</td>\n",
       "      <td>Code Enforcement 465 C Street PO Box 307 Biggs, CA 95917</td>\n",
       "      <td>(530) 868-5447</td>\n",
       "      <td>-</td>\n",
       "      <td>-</td>\n",
       "      <td>-</td>\n",
       "    </tr>\n",
       "    <tr>\n",
       "      <th>24</th>\n",
       "      <td>Blythe</td>\n",
       "      <td>Code Compliance</td>\n",
       "      <td>235 North Broadway Blythe, CA 92225</td>\n",
       "      <td>(760) 922-6130</td>\n",
       "      <td>(760) 922-4938</td>\n",
       "      <td>-</td>\n",
       "      <td>-</td>\n",
       "    </tr>\n",
       "  </tbody>\n",
       "</table>\n",
       "</div>"
      ],
      "text/plain": [
       "               city_name                                         dept_name  \\\n",
       "0               Adelanto                                   Code Compliance   \n",
       "1   City of Agoura Hills                      Building and Safety Division   \n",
       "2                Alameda                                      Rent Program   \n",
       "3                 Albany                   Code Requirements & Enforcement   \n",
       "4       City of Alhambra                         Code Enforcement Division   \n",
       "5            Amador City                                  Code Enforcement   \n",
       "6               Anderson                                  Code Enforcement   \n",
       "7            Angels Camp                                  Code Enforcement   \n",
       "8                 Arcata                            Building & Engineering   \n",
       "9          Arroyo Grande  Community Services Specialist (Code Enforcement)   \n",
       "10               Artesia                                  Code Enforcement   \n",
       "11                 Arvin                                Parks & Recreation   \n",
       "12              Atherton                                          Building   \n",
       "13                     -                               City Administration   \n",
       "14                Auburn                           Planning & Public Works   \n",
       "15                Avalon                                  Code Enforcement   \n",
       "16                 Azusa                                 Building Division   \n",
       "17               Banning                                  Code Enforcement   \n",
       "18               Barstow                                   Code Compliance   \n",
       "19          Bell Gardens                                          Planning   \n",
       "20            Bellflower                         Code Enforcement Division   \n",
       "21               Benicia                                  Code Enforcement   \n",
       "22         Big Bear Lake                                   Code Compliance   \n",
       "23                 Biggs                                  Code Enforcement   \n",
       "24                Blythe                                   Code Compliance   \n",
       "\n",
       "                                                                                                                                    dept_address  \\\n",
       "0                                                                                       Physical Address 11600 Air Expressway Adelanto, CA 92301   \n",
       "1                                                                                  Contact Information 30001 Ladyface Ct. Agoura Hills, CA 91301   \n",
       "2                                                                                                                                              -   \n",
       "3                                        Community Development Building Division 1000 San Pablo Avenue Albany, CA 94706 1 + (510) 528-5760 Email   \n",
       "4                                                                            Physical Address View Map 111 South First Street Alhambra, CA 91801   \n",
       "5                                                                       City Hall 200 S Anaheim Boulevard 5th Floor, Suite 525 Anaheim, CA 92805   \n",
       "6                                         City of Anderson 1887 Howard St, Anderson CA 96007 530-378-6626 ©2023 All Rights Reserved Anderson, CA   \n",
       "7                                                                                    200 Monte Verda St. #B | P.O. Box 667 Angels Camp, CA 95222   \n",
       "8                                                                                                   City of Arcata 736 F Street Arcata, CA 95521   \n",
       "9                                                                                                    300 E Branch Street Arroyo Grande, CA 93420   \n",
       "10                                                                                                                        18747 Clarkdale Avenue   \n",
       "11                                                                                    Physical Address View Map 200 Campus Drive Arvin, CA 93203   \n",
       "12                                                                               Physical Address 80 Fair Oaks Lane 2nd Floor Atherton, CA 94027   \n",
       "13                                                                                                           750 Bellevue Rd • Atwater, CA 95301   \n",
       "14                                                                                             City Hall • 1225 Lincoln Way • Auburn, CA 95603 •   \n",
       "15                                                                                          410 Avalon Canyon Road P.O. Box 707 Avalon, CA 90704   \n",
       "16                                                                                        Physical Address 213 E. Foothill Blvd. Azusa, CA 91702   \n",
       "17                                                                                                                                             -   \n",
       "18                                                                                            220 E. Mountain View St. Suite A Barstow, CA 92311   \n",
       "19                                                                                                      7100 Garfield Ave Bell Gardens, CA 90201   \n",
       "20                                                                                                16600 Civic Center Drive, Bellflower, CA 90706   \n",
       "21                                                                                                                     Benicia, California 94510   \n",
       "22  Physical Address 39707 Big Bear Boulevard Big Bear Lake, CA 92315 Mailing Address City of Big Bear Lake PO Box 10000 Big Bear Lake, CA 92315   \n",
       "23                                                                                      Code Enforcement 465 C Street PO Box 307 Biggs, CA 95917   \n",
       "24                                                                                                           235 North Broadway Blythe, CA 92225   \n",
       "\n",
       "          dept_phone        dept_fax                   dept_website  \\\n",
       "0       442-249-1177    442-249-1161  https://www.ci.adelanto.ca.us   \n",
       "1     (818) 597-7334  (818) 597-7352    Permits@AgouraHillsCity.org   \n",
       "2       510-747-7520    510-865-4028           Alameda Rent Program   \n",
       "3   + (510) 528-5760               -                              -   \n",
       "4       626-570-3230               -                              -   \n",
       "5       714-765-5158               -                              -   \n",
       "6       530-378-6626               -                              -   \n",
       "7     (209) 736-1346  (209) 736-9048                              -   \n",
       "8       707-822-5951               -                              -   \n",
       "9       805-473-5400    805-473-0386                              -   \n",
       "10      562-865-6262    562-865-6240                              -   \n",
       "11      661-854-3134               -                              -   \n",
       "12      650-752-0560    650-688-6528                              -   \n",
       "13    (209) 357-6310               -                              -   \n",
       "14      530-823-4211               -                              -   \n",
       "15     310-510-0220,               -                              -   \n",
       "16    (626) 812-5234  (626) 334-5464                              -   \n",
       "17      951-922-4821    951-846-8618                              -   \n",
       "18    (909) 387-3811               -                              -   \n",
       "19    (562) 806-7700               -                              -   \n",
       "20    (562) 804-1424               -                              -   \n",
       "21      707-746-4275    707-745-4425                              -   \n",
       "22    (909) 866-5831  (909) 866-7511                              -   \n",
       "23    (530) 868-5447               -                              -   \n",
       "24    (760) 922-6130  (760) 922-4938                              -   \n",
       "\n",
       "                                  dept_email  \n",
       "0                                          -  \n",
       "1                                          -  \n",
       "2                  rentprogram@alamedaca.gov  \n",
       "3                                          -  \n",
       "4                     Email Code Enforcement  \n",
       "5                                          -  \n",
       "6                                          -  \n",
       "7                                          -  \n",
       "8                                          -  \n",
       "9                                          -  \n",
       "10                                         -  \n",
       "11                                         -  \n",
       "12                                         -  \n",
       "13                                         -  \n",
       "14                                         -  \n",
       "15                                         -  \n",
       "16        mailto:buildingpermits@AzusaCa.Gov  \n",
       "17                          CE@banningca.gov  \n",
       "18  codeenforcementdivision@lus.sbcounty.gov  \n",
       "19                 mmossayeb@bellgardens.org  \n",
       "20                                         -  \n",
       "21                                         -  \n",
       "22                                         -  \n",
       "23                                         -  \n",
       "24                                         -  "
      ]
     },
     "execution_count": 1145,
     "metadata": {},
     "output_type": "execute_result"
    }
   ],
   "source": [
    "big_data"
   ]
  },
  {
   "cell_type": "code",
   "execution_count": 1144,
   "id": "780b8885",
   "metadata": {},
   "outputs": [],
   "source": [
    "big_data.to_csv(\"saved.csv\", index=True) # Saving dataframe to a csv format"
   ]
  },
  {
   "cell_type": "code",
   "execution_count": null,
   "id": "5ac8a25b",
   "metadata": {},
   "outputs": [],
   "source": []
  }
 ],
 "metadata": {
  "kernelspec": {
   "display_name": "Python 3 (ipykernel)",
   "language": "python",
   "name": "python3"
  },
  "language_info": {
   "codemirror_mode": {
    "name": "ipython",
    "version": 3
   },
   "file_extension": ".py",
   "mimetype": "text/x-python",
   "name": "python",
   "nbconvert_exporter": "python",
   "pygments_lexer": "ipython3",
   "version": "3.9.15"
  }
 },
 "nbformat": 4,
 "nbformat_minor": 5
}
